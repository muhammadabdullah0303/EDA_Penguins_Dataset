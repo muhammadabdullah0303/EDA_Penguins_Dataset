{
  "cells": [
    {
      "cell_type": "markdown",
      "metadata": {},
      "source": [
        "# EDA On Penguins Dataset "
      ]
    },
    {
      "cell_type": "markdown",
      "metadata": {},
      "source": [
        "## About Dataset "
      ]
    },
    {
      "cell_type": "markdown",
      "metadata": {},
      "source": [
        "This Dataset is loaded from seaborn Library . I will Perform full EDA on this Dataset for Practise . "
      ]
    },
    {
      "cell_type": "markdown",
      "metadata": {},
      "source": [
        "## Import Libraries"
      ]
    },
    {
      "cell_type": "code",
      "execution_count": 76,
      "metadata": {
        "id": "mK0c8SHXD56P"
      },
      "outputs": [],
      "source": [
        "import pandas as pd\n",
        "import seaborn as sns\n",
        "import plotly.express as px\n",
        "import matplotlib.pyplot as plt\n",
        "import sklearn "
      ]
    },
    {
      "cell_type": "markdown",
      "metadata": {},
      "source": [
        "### Load Dataset"
      ]
    },
    {
      "cell_type": "code",
      "execution_count": 35,
      "metadata": {
        "id": "mfD7M4-REGL1"
      },
      "outputs": [],
      "source": [
        "df = sns.load_dataset(\"penguins\")"
      ]
    },
    {
      "cell_type": "markdown",
      "metadata": {},
      "source": [
        "### SHow Head Of data"
      ]
    },
    {
      "cell_type": "code",
      "execution_count": 36,
      "metadata": {
        "colab": {
          "base_uri": "https://localhost:8080/",
          "height": 206
        },
        "id": "0tiRnWP4EU6n",
        "outputId": "4339bc0c-32b8-4e37-f3ec-0217d1b3751d"
      },
      "outputs": [
        {
          "data": {
            "text/html": [
              "<div>\n",
              "<style scoped>\n",
              "    .dataframe tbody tr th:only-of-type {\n",
              "        vertical-align: middle;\n",
              "    }\n",
              "\n",
              "    .dataframe tbody tr th {\n",
              "        vertical-align: top;\n",
              "    }\n",
              "\n",
              "    .dataframe thead th {\n",
              "        text-align: right;\n",
              "    }\n",
              "</style>\n",
              "<table border=\"1\" class=\"dataframe\">\n",
              "  <thead>\n",
              "    <tr style=\"text-align: right;\">\n",
              "      <th></th>\n",
              "      <th>species</th>\n",
              "      <th>island</th>\n",
              "      <th>bill_length_mm</th>\n",
              "      <th>bill_depth_mm</th>\n",
              "      <th>flipper_length_mm</th>\n",
              "      <th>body_mass_g</th>\n",
              "      <th>sex</th>\n",
              "    </tr>\n",
              "  </thead>\n",
              "  <tbody>\n",
              "    <tr>\n",
              "      <th>0</th>\n",
              "      <td>Adelie</td>\n",
              "      <td>Torgersen</td>\n",
              "      <td>39.1</td>\n",
              "      <td>18.7</td>\n",
              "      <td>181.0</td>\n",
              "      <td>3750.0</td>\n",
              "      <td>Male</td>\n",
              "    </tr>\n",
              "    <tr>\n",
              "      <th>1</th>\n",
              "      <td>Adelie</td>\n",
              "      <td>Torgersen</td>\n",
              "      <td>39.5</td>\n",
              "      <td>17.4</td>\n",
              "      <td>186.0</td>\n",
              "      <td>3800.0</td>\n",
              "      <td>Female</td>\n",
              "    </tr>\n",
              "    <tr>\n",
              "      <th>2</th>\n",
              "      <td>Adelie</td>\n",
              "      <td>Torgersen</td>\n",
              "      <td>40.3</td>\n",
              "      <td>18.0</td>\n",
              "      <td>195.0</td>\n",
              "      <td>3250.0</td>\n",
              "      <td>Female</td>\n",
              "    </tr>\n",
              "    <tr>\n",
              "      <th>3</th>\n",
              "      <td>Adelie</td>\n",
              "      <td>Torgersen</td>\n",
              "      <td>NaN</td>\n",
              "      <td>NaN</td>\n",
              "      <td>NaN</td>\n",
              "      <td>NaN</td>\n",
              "      <td>NaN</td>\n",
              "    </tr>\n",
              "    <tr>\n",
              "      <th>4</th>\n",
              "      <td>Adelie</td>\n",
              "      <td>Torgersen</td>\n",
              "      <td>36.7</td>\n",
              "      <td>19.3</td>\n",
              "      <td>193.0</td>\n",
              "      <td>3450.0</td>\n",
              "      <td>Female</td>\n",
              "    </tr>\n",
              "  </tbody>\n",
              "</table>\n",
              "</div>"
            ],
            "text/plain": [
              "  species     island  bill_length_mm  bill_depth_mm  flipper_length_mm  \\\n",
              "0  Adelie  Torgersen            39.1           18.7              181.0   \n",
              "1  Adelie  Torgersen            39.5           17.4              186.0   \n",
              "2  Adelie  Torgersen            40.3           18.0              195.0   \n",
              "3  Adelie  Torgersen             NaN            NaN                NaN   \n",
              "4  Adelie  Torgersen            36.7           19.3              193.0   \n",
              "\n",
              "   body_mass_g     sex  \n",
              "0       3750.0    Male  \n",
              "1       3800.0  Female  \n",
              "2       3250.0  Female  \n",
              "3          NaN     NaN  \n",
              "4       3450.0  Female  "
            ]
          },
          "execution_count": 36,
          "metadata": {},
          "output_type": "execute_result"
        }
      ],
      "source": [
        "df.head()"
      ]
    },
    {
      "cell_type": "code",
      "execution_count": 37,
      "metadata": {},
      "outputs": [
        {
          "data": {
            "text/plain": [
              "(344, 7)"
            ]
          },
          "execution_count": 37,
          "metadata": {},
          "output_type": "execute_result"
        }
      ],
      "source": [
        "df.shape"
      ]
    },
    {
      "cell_type": "markdown",
      "metadata": {},
      "source": [
        "- Info about the Data"
      ]
    },
    {
      "cell_type": "code",
      "execution_count": 102,
      "metadata": {},
      "outputs": [
        {
          "name": "stdout",
          "output_type": "stream",
          "text": [
            "<class 'pandas.core.frame.DataFrame'>\n",
            "RangeIndex: 344 entries, 0 to 343\n",
            "Data columns (total 7 columns):\n",
            " #   Column                    Non-Null Count  Dtype  \n",
            "---  ------                    --------------  -----  \n",
            " 0   Island_encode             344 non-null    float64\n",
            " 1   Species_encode            344 non-null    float64\n",
            " 2   Sex_encode                344 non-null    float64\n",
            " 3   body_mass_g_scaled        344 non-null    float64\n",
            " 4   bill_length_mm_scaled     344 non-null    float64\n",
            " 5   bill_depth_mm_scaled      344 non-null    float64\n",
            " 6   flipper_length_mm_scaled  344 non-null    float64\n",
            "dtypes: float64(7)\n",
            "memory usage: 18.9 KB\n"
          ]
        }
      ],
      "source": [
        "df.info()"
      ]
    },
    {
      "cell_type": "markdown",
      "metadata": {},
      "source": [
        "- Statistics "
      ]
    },
    {
      "cell_type": "code",
      "execution_count": 103,
      "metadata": {},
      "outputs": [
        {
          "data": {
            "text/html": [
              "<div>\n",
              "<style scoped>\n",
              "    .dataframe tbody tr th:only-of-type {\n",
              "        vertical-align: middle;\n",
              "    }\n",
              "\n",
              "    .dataframe tbody tr th {\n",
              "        vertical-align: top;\n",
              "    }\n",
              "\n",
              "    .dataframe thead th {\n",
              "        text-align: right;\n",
              "    }\n",
              "</style>\n",
              "<table border=\"1\" class=\"dataframe\">\n",
              "  <thead>\n",
              "    <tr style=\"text-align: right;\">\n",
              "      <th></th>\n",
              "      <th>Island_encode</th>\n",
              "      <th>Species_encode</th>\n",
              "      <th>Sex_encode</th>\n",
              "      <th>body_mass_g_scaled</th>\n",
              "      <th>bill_length_mm_scaled</th>\n",
              "      <th>bill_depth_mm_scaled</th>\n",
              "      <th>flipper_length_mm_scaled</th>\n",
              "    </tr>\n",
              "  </thead>\n",
              "  <tbody>\n",
              "    <tr>\n",
              "      <th>count</th>\n",
              "      <td>344.000000</td>\n",
              "      <td>344.000000</td>\n",
              "      <td>344.000000</td>\n",
              "      <td>344.000000</td>\n",
              "      <td>344.000000</td>\n",
              "      <td>344.000000</td>\n",
              "      <td>344.000000</td>\n",
              "    </tr>\n",
              "    <tr>\n",
              "      <th>mean</th>\n",
              "      <td>1.209302</td>\n",
              "      <td>0.918605</td>\n",
              "      <td>0.479651</td>\n",
              "      <td>0.417154</td>\n",
              "      <td>0.429888</td>\n",
              "      <td>0.136488</td>\n",
              "      <td>0.834307</td>\n",
              "    </tr>\n",
              "    <tr>\n",
              "      <th>std</th>\n",
              "      <td>0.684970</td>\n",
              "      <td>0.893320</td>\n",
              "      <td>0.500313</td>\n",
              "      <td>0.222115</td>\n",
              "      <td>0.197951</td>\n",
              "      <td>0.091948</td>\n",
              "      <td>0.098485</td>\n",
              "    </tr>\n",
              "    <tr>\n",
              "      <th>min</th>\n",
              "      <td>0.000000</td>\n",
              "      <td>0.000000</td>\n",
              "      <td>0.000000</td>\n",
              "      <td>0.000000</td>\n",
              "      <td>0.000000</td>\n",
              "      <td>0.000000</td>\n",
              "      <td>0.000000</td>\n",
              "    </tr>\n",
              "    <tr>\n",
              "      <th>25%</th>\n",
              "      <td>1.000000</td>\n",
              "      <td>0.000000</td>\n",
              "      <td>0.000000</td>\n",
              "      <td>0.236111</td>\n",
              "      <td>0.260909</td>\n",
              "      <td>0.081111</td>\n",
              "      <td>0.780840</td>\n",
              "    </tr>\n",
              "    <tr>\n",
              "      <th>50%</th>\n",
              "      <td>1.000000</td>\n",
              "      <td>1.000000</td>\n",
              "      <td>0.000000</td>\n",
              "      <td>0.375000</td>\n",
              "      <td>0.441818</td>\n",
              "      <td>0.136267</td>\n",
              "      <td>0.818258</td>\n",
              "    </tr>\n",
              "    <tr>\n",
              "      <th>75%</th>\n",
              "      <td>2.000000</td>\n",
              "      <td>2.000000</td>\n",
              "      <td>1.000000</td>\n",
              "      <td>0.569444</td>\n",
              "      <td>0.596364</td>\n",
              "      <td>0.181689</td>\n",
              "      <td>0.903783</td>\n",
              "    </tr>\n",
              "    <tr>\n",
              "      <th>max</th>\n",
              "      <td>2.000000</td>\n",
              "      <td>2.000000</td>\n",
              "      <td>1.000000</td>\n",
              "      <td>1.000000</td>\n",
              "      <td>1.000000</td>\n",
              "      <td>1.000000</td>\n",
              "      <td>1.000000</td>\n",
              "    </tr>\n",
              "  </tbody>\n",
              "</table>\n",
              "</div>"
            ],
            "text/plain": [
              "       Island_encode  Species_encode  Sex_encode  body_mass_g_scaled  \\\n",
              "count     344.000000      344.000000  344.000000          344.000000   \n",
              "mean        1.209302        0.918605    0.479651            0.417154   \n",
              "std         0.684970        0.893320    0.500313            0.222115   \n",
              "min         0.000000        0.000000    0.000000            0.000000   \n",
              "25%         1.000000        0.000000    0.000000            0.236111   \n",
              "50%         1.000000        1.000000    0.000000            0.375000   \n",
              "75%         2.000000        2.000000    1.000000            0.569444   \n",
              "max         2.000000        2.000000    1.000000            1.000000   \n",
              "\n",
              "       bill_length_mm_scaled  bill_depth_mm_scaled  flipper_length_mm_scaled  \n",
              "count             344.000000            344.000000                344.000000  \n",
              "mean                0.429888              0.136488                  0.834307  \n",
              "std                 0.197951              0.091948                  0.098485  \n",
              "min                 0.000000              0.000000                  0.000000  \n",
              "25%                 0.260909              0.081111                  0.780840  \n",
              "50%                 0.441818              0.136267                  0.818258  \n",
              "75%                 0.596364              0.181689                  0.903783  \n",
              "max                 1.000000              1.000000                  1.000000  "
            ]
          },
          "execution_count": 103,
          "metadata": {},
          "output_type": "execute_result"
        }
      ],
      "source": [
        "df.describe()"
      ]
    },
    {
      "cell_type": "markdown",
      "metadata": {
        "id": "H9MnggAZGCkL"
      },
      "source": [
        "# Removing Null Values"
      ]
    },
    {
      "cell_type": "code",
      "execution_count": 80,
      "metadata": {
        "colab": {
          "base_uri": "https://localhost:8080/"
        },
        "id": "sbibNiswEX6g",
        "outputId": "d5f6c248-9d4a-427d-f9c7-4045e22cbd7e"
      },
      "outputs": [
        {
          "data": {
            "text/plain": [
              "species               0\n",
              "island                0\n",
              "bill_length_mm        2\n",
              "bill_depth_mm         2\n",
              "flipper_length_mm     2\n",
              "body_mass_g           2\n",
              "sex                  11\n",
              "Island_encode         0\n",
              "Species_encode        0\n",
              "dtype: int64"
            ]
          },
          "execution_count": 80,
          "metadata": {},
          "output_type": "execute_result"
        }
      ],
      "source": [
        "df.isnull().sum()"
      ]
    },
    {
      "cell_type": "code",
      "execution_count": 81,
      "metadata": {
        "id": "nTwak_cmEbj7"
      },
      "outputs": [],
      "source": [
        "df[\"sex\"].fillna(df[\"sex\"].mode()[0], inplace=True)"
      ]
    },
    {
      "cell_type": "code",
      "execution_count": 82,
      "metadata": {
        "colab": {
          "base_uri": "https://localhost:8080/"
        },
        "id": "ZGq-FXWJFha_",
        "outputId": "f76b8d3e-fdf4-4184-9352-054d915696f7"
      },
      "outputs": [
        {
          "data": {
            "text/plain": [
              "species              0\n",
              "island               0\n",
              "bill_length_mm       2\n",
              "bill_depth_mm        2\n",
              "flipper_length_mm    2\n",
              "body_mass_g          2\n",
              "sex                  0\n",
              "Island_encode        0\n",
              "Species_encode       0\n",
              "dtype: int64"
            ]
          },
          "execution_count": 82,
          "metadata": {},
          "output_type": "execute_result"
        }
      ],
      "source": [
        "df.isnull().sum()"
      ]
    },
    {
      "cell_type": "markdown",
      "metadata": {},
      "source": [
        "- Imputing Null Values Of bill_length_mm By Mean "
      ]
    },
    {
      "cell_type": "code",
      "execution_count": 83,
      "metadata": {
        "id": "4a-Uuja4FtCt"
      },
      "outputs": [],
      "source": [
        "df[\"bill_length_mm\"].fillna(df[\"bill_length_mm\"].mean(), inplace =True)"
      ]
    },
    {
      "cell_type": "markdown",
      "metadata": {},
      "source": [
        "- Imputing Null Values Of flipper_length_mm By Mean"
      ]
    },
    {
      "cell_type": "code",
      "execution_count": 84,
      "metadata": {
        "id": "uPzBNgXFF2Uc"
      },
      "outputs": [],
      "source": [
        "df[\"flipper_length_mm\"].fillna(df[\"bill_length_mm\"].mean(), inplace =True)\n"
      ]
    },
    {
      "cell_type": "markdown",
      "metadata": {},
      "source": [
        "- Imputing Null Values Of bill_depth_mm By Mean"
      ]
    },
    {
      "cell_type": "code",
      "execution_count": 85,
      "metadata": {
        "id": "lC6nF-AiF5cr"
      },
      "outputs": [],
      "source": [
        "df[\"bill_depth_mm\"].fillna(df[\"bill_length_mm\"].mean(), inplace =True)\n"
      ]
    },
    {
      "cell_type": "markdown",
      "metadata": {},
      "source": [
        "- Imputing Null Values Of body_mass_g By Mean"
      ]
    },
    {
      "cell_type": "code",
      "execution_count": 86,
      "metadata": {
        "id": "xaTz6nJmRbjG"
      },
      "outputs": [],
      "source": [
        "df[\"body_mass_g\"].fillna(df[\"body_mass_g\"].mean(), inplace =True)\n"
      ]
    },
    {
      "cell_type": "code",
      "execution_count": 87,
      "metadata": {
        "colab": {
          "base_uri": "https://localhost:8080/"
        },
        "id": "bkgi4Cq7F980",
        "outputId": "8c79d0d6-8abe-4475-8b5c-8c4e52db577a"
      },
      "outputs": [
        {
          "data": {
            "text/plain": [
              "species              0\n",
              "island               0\n",
              "bill_length_mm       0\n",
              "bill_depth_mm        0\n",
              "flipper_length_mm    0\n",
              "body_mass_g          0\n",
              "sex                  0\n",
              "Island_encode        0\n",
              "Species_encode       0\n",
              "dtype: int64"
            ]
          },
          "execution_count": 87,
          "metadata": {},
          "output_type": "execute_result"
        }
      ],
      "source": [
        "df.isnull().sum()"
      ]
    },
    {
      "cell_type": "markdown",
      "metadata": {},
      "source": [
        "- Milestone1 . Here We Imputed All the Null Values "
      ]
    },
    {
      "cell_type": "markdown",
      "metadata": {
        "id": "tf_ASOUbGFq5"
      },
      "source": [
        "# Duplicated"
      ]
    },
    {
      "cell_type": "markdown",
      "metadata": {},
      "source": [
        "- Lets Check Duplicated Values in The Dataset"
      ]
    },
    {
      "cell_type": "code",
      "execution_count": 46,
      "metadata": {
        "colab": {
          "base_uri": "https://localhost:8080/"
        },
        "id": "NniXqcWJGHDB",
        "outputId": "9302ae43-af61-4520-c059-4cacce709e7f"
      },
      "outputs": [
        {
          "data": {
            "text/plain": [
              "False"
            ]
          },
          "execution_count": 46,
          "metadata": {},
          "output_type": "execute_result"
        }
      ],
      "source": [
        "df.duplicated().any()"
      ]
    },
    {
      "cell_type": "code",
      "execution_count": 47,
      "metadata": {},
      "outputs": [
        {
          "data": {
            "text/plain": [
              "0    False\n",
              "1    False\n",
              "2    False\n",
              "3    False\n",
              "4    False\n",
              "dtype: bool"
            ]
          },
          "execution_count": 47,
          "metadata": {},
          "output_type": "execute_result"
        }
      ],
      "source": [
        "df.duplicated().head()"
      ]
    },
    {
      "cell_type": "code",
      "execution_count": 48,
      "metadata": {},
      "outputs": [
        {
          "data": {
            "text/html": [
              "<div>\n",
              "<style scoped>\n",
              "    .dataframe tbody tr th:only-of-type {\n",
              "        vertical-align: middle;\n",
              "    }\n",
              "\n",
              "    .dataframe tbody tr th {\n",
              "        vertical-align: top;\n",
              "    }\n",
              "\n",
              "    .dataframe thead th {\n",
              "        text-align: right;\n",
              "    }\n",
              "</style>\n",
              "<table border=\"1\" class=\"dataframe\">\n",
              "  <thead>\n",
              "    <tr style=\"text-align: right;\">\n",
              "      <th></th>\n",
              "      <th>species</th>\n",
              "      <th>island</th>\n",
              "      <th>bill_length_mm</th>\n",
              "      <th>bill_depth_mm</th>\n",
              "      <th>flipper_length_mm</th>\n",
              "      <th>body_mass_g</th>\n",
              "      <th>sex</th>\n",
              "    </tr>\n",
              "  </thead>\n",
              "  <tbody>\n",
              "    <tr>\n",
              "      <th>2</th>\n",
              "      <td>Adelie</td>\n",
              "      <td>Torgersen</td>\n",
              "      <td>40.30000</td>\n",
              "      <td>18.00000</td>\n",
              "      <td>195.00000</td>\n",
              "      <td>3250.000000</td>\n",
              "      <td>Female</td>\n",
              "    </tr>\n",
              "    <tr>\n",
              "      <th>3</th>\n",
              "      <td>Adelie</td>\n",
              "      <td>Torgersen</td>\n",
              "      <td>43.92193</td>\n",
              "      <td>43.92193</td>\n",
              "      <td>43.92193</td>\n",
              "      <td>4201.754386</td>\n",
              "      <td>Male</td>\n",
              "    </tr>\n",
              "    <tr>\n",
              "      <th>4</th>\n",
              "      <td>Adelie</td>\n",
              "      <td>Torgersen</td>\n",
              "      <td>36.70000</td>\n",
              "      <td>19.30000</td>\n",
              "      <td>193.00000</td>\n",
              "      <td>3450.000000</td>\n",
              "      <td>Female</td>\n",
              "    </tr>\n",
              "    <tr>\n",
              "      <th>5</th>\n",
              "      <td>Adelie</td>\n",
              "      <td>Torgersen</td>\n",
              "      <td>39.30000</td>\n",
              "      <td>20.60000</td>\n",
              "      <td>190.00000</td>\n",
              "      <td>3650.000000</td>\n",
              "      <td>Male</td>\n",
              "    </tr>\n",
              "    <tr>\n",
              "      <th>6</th>\n",
              "      <td>Adelie</td>\n",
              "      <td>Torgersen</td>\n",
              "      <td>38.90000</td>\n",
              "      <td>17.80000</td>\n",
              "      <td>181.00000</td>\n",
              "      <td>3625.000000</td>\n",
              "      <td>Female</td>\n",
              "    </tr>\n",
              "  </tbody>\n",
              "</table>\n",
              "</div>"
            ],
            "text/plain": [
              "  species     island  bill_length_mm  bill_depth_mm  flipper_length_mm  \\\n",
              "2  Adelie  Torgersen        40.30000       18.00000          195.00000   \n",
              "3  Adelie  Torgersen        43.92193       43.92193           43.92193   \n",
              "4  Adelie  Torgersen        36.70000       19.30000          193.00000   \n",
              "5  Adelie  Torgersen        39.30000       20.60000          190.00000   \n",
              "6  Adelie  Torgersen        38.90000       17.80000          181.00000   \n",
              "\n",
              "   body_mass_g     sex  \n",
              "2  3250.000000  Female  \n",
              "3  4201.754386    Male  \n",
              "4  3450.000000  Female  \n",
              "5  3650.000000    Male  \n",
              "6  3625.000000  Female  "
            ]
          },
          "execution_count": 48,
          "metadata": {},
          "output_type": "execute_result"
        }
      ],
      "source": [
        "df[df[\"sex\"].duplicated()].head()"
      ]
    },
    {
      "cell_type": "markdown",
      "metadata": {},
      "source": [
        "- Milestone2 = There No Duplicated Value in Dataset . Although There some Duplicated Name,\n",
        " but They have Different sex , bodymass , and bill_length_mm"
      ]
    },
    {
      "cell_type": "markdown",
      "metadata": {
        "id": "JyGoZG8IGK7P"
      },
      "source": [
        "# Outliers"
      ]
    },
    {
      "cell_type": "markdown",
      "metadata": {},
      "source": [
        "- Lets Find Outliers in Dataset"
      ]
    },
    {
      "cell_type": "code",
      "execution_count": 49,
      "metadata": {
        "colab": {
          "base_uri": "https://localhost:8080/",
          "height": 468
        },
        "id": "CUK-TBK6G7DK",
        "outputId": "32995624-d6a9-40d0-baac-cf6fba097fbc"
      },
      "outputs": [
        {
          "data": {
            "text/plain": [
              "<Axes: xlabel='sex', ylabel='bill_depth_mm'>"
            ]
          },
          "execution_count": 49,
          "metadata": {},
          "output_type": "execute_result"
        },
        {
          "data": {
            "image/png": "[encoded data removed]",
            "text/plain": [
              "<Figure size 640x480 with 1 Axes>"
            ]
          },
          "metadata": {},
          "output_type": "display_data"
        }
      ],
      "source": [
        "sns.boxplot(data=df , x=\"sex\",y=\"bill_depth_mm\")"
      ]
    },
    {
      "cell_type": "markdown",
      "metadata": {},
      "source": [
        "- Figure1"
      ]
    },
    {
      "cell_type": "markdown",
      "metadata": {},
      "source": [
        "In Above Figure 1 we can see that the outlier in Male "
      ]
    },
    {
      "cell_type": "markdown",
      "metadata": {},
      "source": [
        "## Removing Outliers Using IQR Method "
      ]
    },
    {
      "cell_type": "markdown",
      "metadata": {
        "id": "VnAYr7anPpP9"
      },
      "source": [
        "- Removinf outliers in bill_depth_mm"
      ]
    },
    {
      "cell_type": "code",
      "execution_count": 50,
      "metadata": {
        "colab": {
          "base_uri": "https://localhost:8080/"
        },
        "id": "xP01zXGGI2uQ",
        "outputId": "3f0ecad8-c5c2-4357-9deb-ff56288d604a"
      },
      "outputs": [
        {
          "name": "stdout",
          "output_type": "stream",
          "text": [
            "Outliers:\n",
            "[    species     island  bill_length_mm  bill_depth_mm  flipper_length_mm  \\\n",
            "3    Adelie  Torgersen        43.92193       43.92193           43.92193   \n",
            "339  Gentoo     Biscoe        43.92193       43.92193           43.92193   \n",
            "\n",
            "     body_mass_g   sex  \n",
            "3    4201.754386  Male  \n",
            "339  4201.754386  Male  ]\n",
            "  species     island  bill_length_mm  bill_depth_mm  flipper_length_mm  \\\n",
            "0  Adelie  Torgersen            39.1           18.7              181.0   \n",
            "1  Adelie  Torgersen            39.5           17.4              186.0   \n",
            "2  Adelie  Torgersen            40.3           18.0              195.0   \n",
            "4  Adelie  Torgersen            36.7           19.3              193.0   \n",
            "5  Adelie  Torgersen            39.3           20.6              190.0   \n",
            "\n",
            "   body_mass_g     sex  \n",
            "0       3750.0    Male  \n",
            "1       3800.0  Female  \n",
            "2       3250.0  Female  \n",
            "4       3450.0  Female  \n",
            "5       3650.0    Male  \n"
          ]
        }
      ],
      "source": [
        "Q1_bill = df[\"bill_depth_mm\"].quantile(0.25)\n",
        "Q3_bill = df[\"bill_depth_mm\"].quantile(0.75)\n",
        "IQR = Q3_bill-Q1_bill\n",
        "# print(IQR)\n",
        "# Define the lower and upper bounds for outliers\n",
        "lower_bound = Q1_bill - 1.5 * IQR\n",
        "upper_bound = Q3_bill + 1.5 * IQR\n",
        "\n",
        "# Identify and print outliers\n",
        "outliers = [df[(df['bill_depth_mm'] < lower_bound) | (df['bill_depth_mm'] > upper_bound)]]\n",
        "print(\"Outliers:\")\n",
        "print(outliers)\n",
        "\n",
        "# Remove outliers\n",
        "df = df[(df['bill_depth_mm'] >= lower_bound) & (df['bill_depth_mm'] <= upper_bound)]\n",
        "\n",
        "# Display the first few rows of the dataset without outliers\n",
        "print(df.head())"
      ]
    },
    {
      "cell_type": "code",
      "execution_count": 51,
      "metadata": {
        "colab": {
          "base_uri": "https://localhost:8080/",
          "height": 467
        },
        "id": "GJUD7BNtJxnk",
        "outputId": "af40410c-5e9b-405d-de5e-4aa8401d1f89"
      },
      "outputs": [
        {
          "data": {
            "text/plain": [
              "<Axes: xlabel='sex', ylabel='bill_depth_mm'>"
            ]
          },
          "execution_count": 51,
          "metadata": {},
          "output_type": "execute_result"
        },
        {
          "data": {
            "image/png": "[encoded data removed]",
            "text/plain": [
              "<Figure size 640x480 with 1 Axes>"
            ]
          },
          "metadata": {},
          "output_type": "display_data"
        }
      ],
      "source": [
        "sns.boxplot(data=df , x=\"sex\" , y=\"bill_depth_mm\")"
      ]
    },
    {
      "cell_type": "markdown",
      "metadata": {},
      "source": [
        "- Figure 2 "
      ]
    },
    {
      "cell_type": "markdown",
      "metadata": {},
      "source": [
        "- As we can see in Figure 2 , The Outlier is removed "
      ]
    },
    {
      "cell_type": "code",
      "execution_count": 52,
      "metadata": {
        "colab": {
          "base_uri": "https://localhost:8080/",
          "height": 467
        },
        "id": "cuJWQMuzLO4j",
        "outputId": "87d2e469-2ca3-4ca1-a8be-782becc1047f"
      },
      "outputs": [
        {
          "data": {
            "text/plain": [
              "<Axes: xlabel='sex', ylabel='flipper_length_mm'>"
            ]
          },
          "execution_count": 52,
          "metadata": {},
          "output_type": "execute_result"
        },
        {
          "data": {
            "image/png": "[encoded data removed]",
            "text/plain": [
              "<Figure size 640x480 with 1 Axes>"
            ]
          },
          "metadata": {},
          "output_type": "display_data"
        }
      ],
      "source": [
        "sns.boxplot(data=df , x=\"sex\", y=\"flipper_length_mm\")"
      ]
    },
    {
      "cell_type": "markdown",
      "metadata": {},
      "source": [
        "- Figure 3 "
      ]
    },
    {
      "cell_type": "code",
      "execution_count": 53,
      "metadata": {
        "colab": {
          "base_uri": "https://localhost:8080/",
          "height": 542
        },
        "id": "QQaRAZAJLwse",
        "outputId": "47781b2c-1ba0-4cc3-c700-178f27403926"
      },
      "outputs": [
        {
          "data": {
            "application/vnd.plotly.v1+json": {
              "config": {
                "plotlyServerURL": "https://plot.ly"
              },
              "data": [
                {
                  "alignmentgroup": "True",
                  "hovertemplate": "bill_depth_mm=%{y}<extra></extra>",
                  "legendgroup": "",
                  "marker": {
                    "color": "#636efa"
                  },
                  "name": "",
                  "notched": false,
                  "offsetgroup": "",
                  "orientation": "v",
                  "showlegend": false,
                  "type": "box",
                  "x0": " ",
                  "xaxis": "x",
                  "y": [
                    18.7,
                    17.4,
                    18,
                    19.3,
                    20.6,
                    17.8,
                    19.6,
                    18.1,
                    20.2,
                    17.1,
                    17.3,
                    17.6,
                    21.2,
                    21.1,
                    17.8,
                    19,
                    20.7,
                    18.4,
                    21.5,
                    18.3,
                    18.7,
                    19.2,
                    18.1,
                    17.2,
                    18.9,
                    18.6,
                    17.9,
                    18.6,
                    18.9,
                    16.7,
                    18.1,
                    17.8,
                    18.9,
                    17,
                    21.1,
                    20,
                    18.5,
                    19.3,
                    19.1,
                    18,
                    18.4,
                    18.5,
                    19.7,
                    16.9,
                    18.8,
                    19,
                    18.9,
                    17.9,
                    21.2,
                    17.7,
                    18.9,
                    17.9,
                    19.5,
                    18.1,
                    18.6,
                    17.5,
                    18.8,
                    16.6,
                    19.1,
                    16.9,
                    21.1,
                    17,
                    18.2,
                    17.1,
                    18,
                    16.2,
                    19.1,
                    16.6,
                    19.4,
                    19,
                    18.4,
                    17.2,
                    18.9,
                    17.5,
                    18.5,
                    16.8,
                    19.4,
                    16.1,
                    19.1,
                    17.2,
                    17.6,
                    18.8,
                    19.4,
                    17.8,
                    20.3,
                    19.5,
                    18.6,
                    19.2,
                    18.8,
                    18,
                    18.1,
                    17.1,
                    18.1,
                    17.3,
                    18.9,
                    18.6,
                    18.5,
                    16.1,
                    18.5,
                    17.9,
                    20,
                    16,
                    20,
                    18.6,
                    18.9,
                    17.2,
                    20,
                    17,
                    19,
                    16.5,
                    20.3,
                    17.7,
                    19.5,
                    20.7,
                    18.3,
                    17,
                    20.5,
                    17,
                    18.6,
                    17.2,
                    19.8,
                    17,
                    18.5,
                    15.9,
                    19,
                    17.6,
                    18.3,
                    17.1,
                    18,
                    17.9,
                    19.2,
                    18.5,
                    18.5,
                    17.6,
                    17.5,
                    17.5,
                    20.1,
                    16.5,
                    17.9,
                    17.1,
                    17.2,
                    15.5,
                    17,
                    16.8,
                    18.7,
                    18.6,
                    18.4,
                    17.8,
                    18.1,
                    17.1,
                    18.5,
                    17.9,
                    19.5,
                    19.2,
                    18.7,
                    19.8,
                    17.8,
                    18.2,
                    18.2,
                    18.9,
                    19.9,
                    17.8,
                    20.3,
                    17.3,
                    18.1,
                    17.1,
                    19.6,
                    20,
                    17.8,
                    18.6,
                    18.2,
                    17.3,
                    17.5,
                    16.6,
                    19.4,
                    17.9,
                    19,
                    18.4,
                    19,
                    17.8,
                    20,
                    16.6,
                    20.8,
                    16.7,
                    18.8,
                    18.6,
                    16.8,
                    18.3,
                    20.7,
                    16.6,
                    19.9,
                    19.5,
                    17.5,
                    19.1,
                    17,
                    17.9,
                    18.5,
                    17.9,
                    19.6,
                    18.7,
                    17.3,
                    16.4,
                    19,
                    17.3,
                    19.7,
                    17.3,
                    18.8,
                    16.6,
                    19.9,
                    18.8,
                    19.4,
                    19.5,
                    16.5,
                    17,
                    19.8,
                    18.1,
                    18.2,
                    19,
                    18.7,
                    13.2,
                    16.3,
                    14.1,
                    15.2,
                    14.5,
                    13.5,
                    14.6,
                    15.3,
                    13.4,
                    15.4,
                    13.7,
                    16.1,
                    13.7,
                    14.6,
                    14.6,
                    15.7,
                    13.5,
                    15.2,
                    14.5,
                    15.1,
                    14.3,
                    14.5,
                    14.5,
                    15.8,
                    13.1,
                    15.1,
                    14.3,
                    15,
                    14.3,
                    15.3,
                    15.3,
                    14.2,
                    14.5,
                    17,
                    14.8,
                    16.3,
                    13.7,
                    17.3,
                    13.6,
                    15.7,
                    13.7,
                    16,
                    13.7,
                    15,
                    15.9,
                    13.9,
                    13.9,
                    15.9,
                    13.3,
                    15.8,
                    14.2,
                    14.1,
                    14.4,
                    15,
                    14.4,
                    15.4,
                    13.9,
                    15,
                    14.5,
                    15.3,
                    13.8,
                    14.9,
                    13.9,
                    15.7,
                    14.2,
                    16.8,
                    14.4,
                    16.2,
                    14.2,
                    15,
                    15,
                    15.6,
                    15.6,
                    14.8,
                    15,
                    16,
                    14.2,
                    16.3,
                    13.8,
                    16.4,
                    14.5,
                    15.6,
                    14.6,
                    15.9,
                    13.8,
                    17.3,
                    14.4,
                    14.2,
                    14,
                    17,
                    15,
                    17.1,
                    14.5,
                    16.1,
                    14.7,
                    15.7,
                    15.8,
                    14.6,
                    14.4,
                    16.5,
                    15,
                    17,
                    15.5,
                    15,
                    13.8,
                    16.1,
                    14.7,
                    15.8,
                    14,
                    15.1,
                    15.2,
                    15.9,
                    15.2,
                    16.3,
                    14.1,
                    16,
                    15.7,
                    16.2,
                    13.7,
                    14.3,
                    15.7,
                    14.8,
                    16.1
                  ],
                  "y0": " ",
                  "yaxis": "y"
                }
              ],
              "layout": {
                "boxmode": "group",
                "legend": {
                  "tracegroupgap": 0
                },
                "margin": {
                  "t": 60
                },
                "template": {
                  "data": {
                    "bar": [
                      {
                        "error_x": {
                          "color": "#2a3f5f"
                        },
                        "error_y": {
                          "color": "#2a3f5f"
                        },
                        "marker": {
                          "line": {
                            "color": "#E5ECF6",
                            "width": 0.5
                          },
                          "pattern": {
                            "fillmode": "overlay",
                            "size": 10,
                            "solidity": 0.2
                          }
                        },
                        "type": "bar"
                      }
                    ],
                    "barpolar": [
                      {
                        "marker": {
                          "line": {
                            "color": "#E5ECF6",
                            "width": 0.5
                          },
                          "pattern": {
                            "fillmode": "overlay",
                            "size": 10,
                            "solidity": 0.2
                          }
                        },
                        "type": "barpolar"
                      }
                    ],
                    "carpet": [
                      {
                        "aaxis": {
                          "endlinecolor": "#2a3f5f",
                          "gridcolor": "white",
                          "linecolor": "white",
                          "minorgridcolor": "white",
                          "startlinecolor": "#2a3f5f"
                        },
                        "baxis": {
                          "endlinecolor": "#2a3f5f",
                          "gridcolor": "white",
                          "linecolor": "white",
                          "minorgridcolor": "white",
                          "startlinecolor": "#2a3f5f"
                        },
                        "type": "carpet"
                      }
                    ],
                    "choropleth": [
                      {
                        "colorbar": {
                          "outlinewidth": 0,
                          "ticks": ""
                        },
                        "type": "choropleth"
                      }
                    ],
                    "contour": [
                      {
                        "colorbar": {
                          "outlinewidth": 0,
                          "ticks": ""
                        },
                        "colorscale": [
                          [
                            0,
                            "#0d0887"
                          ],
                          [
                            0.1111111111111111,
                            "#46039f"
                          ],
                          [
                            0.2222222222222222,
                            "#7201a8"
                          ],
                          [
                            0.3333333333333333,
                            "#9c179e"
                          ],
                          [
                            0.4444444444444444,
                            "#bd3786"
                          ],
                          [
                            0.5555555555555556,
                            "#d8576b"
                          ],
                          [
                            0.6666666666666666,
                            "#ed7953"
                          ],
                          [
                            0.7777777777777778,
                            "#fb9f3a"
                          ],
                          [
                            0.8888888888888888,
                            "#fdca26"
                          ],
                          [
                            1,
                            "#f0f921"
                          ]
                        ],
                        "type": "contour"
                      }
                    ],
                    "contourcarpet": [
                      {
                        "colorbar": {
                          "outlinewidth": 0,
                          "ticks": ""
                        },
                        "type": "contourcarpet"
                      }
                    ],
                    "heatmap": [
                      {
                        "colorbar": {
                          "outlinewidth": 0,
                          "ticks": ""
                        },
                        "colorscale": [
                          [
                            0,
                            "#0d0887"
                          ],
                          [
                            0.1111111111111111,
                            "#46039f"
                          ],
                          [
                            0.2222222222222222,
                            "#7201a8"
                          ],
                          [
                            0.3333333333333333,
                            "#9c179e"
                          ],
                          [
                            0.4444444444444444,
                            "#bd3786"
                          ],
                          [
                            0.5555555555555556,
                            "#d8576b"
                          ],
                          [
                            0.6666666666666666,
                            "#ed7953"
                          ],
                          [
                            0.7777777777777778,
                            "#fb9f3a"
                          ],
                          [
                            0.8888888888888888,
                            "#fdca26"
                          ],
                          [
                            1,
                            "#f0f921"
                          ]
                        ],
                        "type": "heatmap"
                      }
                    ],
                    "heatmapgl": [
                      {
                        "colorbar": {
                          "outlinewidth": 0,
                          "ticks": ""
                        },
                        "colorscale": [
                          [
                            0,
                            "#0d0887"
                          ],
                          [
                            0.1111111111111111,
                            "#46039f"
                          ],
                          [
                            0.2222222222222222,
                            "#7201a8"
                          ],
                          [
                            0.3333333333333333,
                            "#9c179e"
                          ],
                          [
                            0.4444444444444444,
                            "#bd3786"
                          ],
                          [
                            0.5555555555555556,
                            "#d8576b"
                          ],
                          [
                            0.6666666666666666,
                            "#ed7953"
                          ],
                          [
                            0.7777777777777778,
                            "#fb9f3a"
                          ],
                          [
                            0.8888888888888888,
                            "#fdca26"
                          ],
                          [
                            1,
                            "#f0f921"
                          ]
                        ],
                        "type": "heatmapgl"
                      }
                    ],
                    "histogram": [
                      {
                        "marker": {
                          "pattern": {
                            "fillmode": "overlay",
                            "size": 10,
                            "solidity": 0.2
                          }
                        },
                        "type": "histogram"
                      }
                    ],
                    "histogram2d": [
                      {
                        "colorbar": {
                          "outlinewidth": 0,
                          "ticks": ""
                        },
                        "colorscale": [
                          [
                            0,
                            "#0d0887"
                          ],
                          [
                            0.1111111111111111,
                            "#46039f"
                          ],
                          [
                            0.2222222222222222,
                            "#7201a8"
                          ],
                          [
                            0.3333333333333333,
                            "#9c179e"
                          ],
                          [
                            0.4444444444444444,
                            "#bd3786"
                          ],
                          [
                            0.5555555555555556,
                            "#d8576b"
                          ],
                          [
                            0.6666666666666666,
                            "#ed7953"
                          ],
                          [
                            0.7777777777777778,
                            "#fb9f3a"
                          ],
                          [
                            0.8888888888888888,
                            "#fdca26"
                          ],
                          [
                            1,
                            "#f0f921"
                          ]
                        ],
                        "type": "histogram2d"
                      }
                    ],
                    "histogram2dcontour": [
                      {
                        "colorbar": {
                          "outlinewidth": 0,
                          "ticks": ""
                        },
                        "colorscale": [
                          [
                            0,
                            "#0d0887"
                          ],
                          [
                            0.1111111111111111,
                            "#46039f"
                          ],
                          [
                            0.2222222222222222,
                            "#7201a8"
                          ],
                          [
                            0.3333333333333333,
                            "#9c179e"
                          ],
                          [
                            0.4444444444444444,
                            "#bd3786"
                          ],
                          [
                            0.5555555555555556,
                            "#d8576b"
                          ],
                          [
                            0.6666666666666666,
                            "#ed7953"
                          ],
                          [
                            0.7777777777777778,
                            "#fb9f3a"
                          ],
                          [
                            0.8888888888888888,
                            "#fdca26"
                          ],
                          [
                            1,
                            "#f0f921"
                          ]
                        ],
                        "type": "histogram2dcontour"
                      }
                    ],
                    "mesh3d": [
                      {
                        "colorbar": {
                          "outlinewidth": 0,
                          "ticks": ""
                        },
                        "type": "mesh3d"
                      }
                    ],
                    "parcoords": [
                      {
                        "line": {
                          "colorbar": {
                            "outlinewidth": 0,
                            "ticks": ""
                          }
                        },
                        "type": "parcoords"
                      }
                    ],
                    "pie": [
                      {
                        "automargin": true,
                        "type": "pie"
                      }
                    ],
                    "scatter": [
                      {
                        "fillpattern": {
                          "fillmode": "overlay",
                          "size": 10,
                          "solidity": 0.2
                        },
                        "type": "scatter"
                      }
                    ],
                    "scatter3d": [
                      {
                        "line": {
                          "colorbar": {
                            "outlinewidth": 0,
                            "ticks": ""
                          }
                        },
                        "marker": {
                          "colorbar": {
                            "outlinewidth": 0,
                            "ticks": ""
                          }
                        },
                        "type": "scatter3d"
                      }
                    ],
                    "scattercarpet": [
                      {
                        "marker": {
                          "colorbar": {
                            "outlinewidth": 0,
                            "ticks": ""
                          }
                        },
                        "type": "scattercarpet"
                      }
                    ],
                    "scattergeo": [
                      {
                        "marker": {
                          "colorbar": {
                            "outlinewidth": 0,
                            "ticks": ""
                          }
                        },
                        "type": "scattergeo"
                      }
                    ],
                    "scattergl": [
                      {
                        "marker": {
                          "colorbar": {
                            "outlinewidth": 0,
                            "ticks": ""
                          }
                        },
                        "type": "scattergl"
                      }
                    ],
                    "scattermapbox": [
                      {
                        "marker": {
                          "colorbar": {
                            "outlinewidth": 0,
                            "ticks": ""
                          }
                        },
                        "type": "scattermapbox"
                      }
                    ],
                    "scatterpolar": [
                      {
                        "marker": {
                          "colorbar": {
                            "outlinewidth": 0,
                            "ticks": ""
                          }
                        },
                        "type": "scatterpolar"
                      }
                    ],
                    "scatterpolargl": [
                      {
                        "marker": {
                          "colorbar": {
                            "outlinewidth": 0,
                            "ticks": ""
                          }
                        },
                        "type": "scatterpolargl"
                      }
                    ],
                    "scatterternary": [
                      {
                        "marker": {
                          "colorbar": {
                            "outlinewidth": 0,
                            "ticks": ""
                          }
                        },
                        "type": "scatterternary"
                      }
                    ],
                    "surface": [
                      {
                        "colorbar": {
                          "outlinewidth": 0,
                          "ticks": ""
                        },
                        "colorscale": [
                          [
                            0,
                            "#0d0887"
                          ],
                          [
                            0.1111111111111111,
                            "#46039f"
                          ],
                          [
                            0.2222222222222222,
                            "#7201a8"
                          ],
                          [
                            0.3333333333333333,
                            "#9c179e"
                          ],
                          [
                            0.4444444444444444,
                            "#bd3786"
                          ],
                          [
                            0.5555555555555556,
                            "#d8576b"
                          ],
                          [
                            0.6666666666666666,
                            "#ed7953"
                          ],
                          [
                            0.7777777777777778,
                            "#fb9f3a"
                          ],
                          [
                            0.8888888888888888,
                            "#fdca26"
                          ],
                          [
                            1,
                            "#f0f921"
                          ]
                        ],
                        "type": "surface"
                      }
                    ],
                    "table": [
                      {
                        "cells": {
                          "fill": {
                            "color": "#EBF0F8"
                          },
                          "line": {
                            "color": "white"
                          }
                        },
                        "header": {
                          "fill": {
                            "color": "#C8D4E3"
                          },
                          "line": {
                            "color": "white"
                          }
                        },
                        "type": "table"
                      }
                    ]
                  },
                  "layout": {
                    "annotationdefaults": {
                      "arrowcolor": "#2a3f5f",
                      "arrowhead": 0,
                      "arrowwidth": 1
                    },
                    "autotypenumbers": "strict",
                    "coloraxis": {
                      "colorbar": {
                        "outlinewidth": 0,
                        "ticks": ""
                      }
                    },
                    "colorscale": {
                      "diverging": [
                        [
                          0,
                          "#8e0152"
                        ],
                        [
                          0.1,
                          "#c51b7d"
                        ],
                        [
                          0.2,
                          "#de77ae"
                        ],
                        [
                          0.3,
                          "#f1b6da"
                        ],
                        [
                          0.4,
                          "#fde0ef"
                        ],
                        [
                          0.5,
                          "#f7f7f7"
                        ],
                        [
                          0.6,
                          "#e6f5d0"
                        ],
                        [
                          0.7,
                          "#b8e186"
                        ],
                        [
                          0.8,
                          "#7fbc41"
                        ],
                        [
                          0.9,
                          "#4d9221"
                        ],
                        [
                          1,
                          "#276419"
                        ]
                      ],
                      "sequential": [
                        [
                          0,
                          "#0d0887"
                        ],
                        [
                          0.1111111111111111,
                          "#46039f"
                        ],
                        [
                          0.2222222222222222,
                          "#7201a8"
                        ],
                        [
                          0.3333333333333333,
                          "#9c179e"
                        ],
                        [
                          0.4444444444444444,
                          "#bd3786"
                        ],
                        [
                          0.5555555555555556,
                          "#d8576b"
                        ],
                        [
                          0.6666666666666666,
                          "#ed7953"
                        ],
                        [
                          0.7777777777777778,
                          "#fb9f3a"
                        ],
                        [
                          0.8888888888888888,
                          "#fdca26"
                        ],
                        [
                          1,
                          "#f0f921"
                        ]
                      ],
                      "sequentialminus": [
                        [
                          0,
                          "#0d0887"
                        ],
                        [
                          0.1111111111111111,
                          "#46039f"
                        ],
                        [
                          0.2222222222222222,
                          "#7201a8"
                        ],
                        [
                          0.3333333333333333,
                          "#9c179e"
                        ],
                        [
                          0.4444444444444444,
                          "#bd3786"
                        ],
                        [
                          0.5555555555555556,
                          "#d8576b"
                        ],
                        [
                          0.6666666666666666,
                          "#ed7953"
                        ],
                        [
                          0.7777777777777778,
                          "#fb9f3a"
                        ],
                        [
                          0.8888888888888888,
                          "#fdca26"
                        ],
                        [
                          1,
                          "#f0f921"
                        ]
                      ]
                    },
                    "colorway": [
                      "#636efa",
                      "#EF553B",
                      "#00cc96",
                      "#ab63fa",
                      "#FFA15A",
                      "#19d3f3",
                      "#FF6692",
                      "#B6E880",
                      "#FF97FF",
                      "#FECB52"
                    ],
                    "font": {
                      "color": "#2a3f5f"
                    },
                    "geo": {
                      "bgcolor": "white",
                      "lakecolor": "white",
                      "landcolor": "#E5ECF6",
                      "showlakes": true,
                      "showland": true,
                      "subunitcolor": "white"
                    },
                    "hoverlabel": {
                      "align": "left"
                    },
                    "hovermode": "closest",
                    "mapbox": {
                      "style": "light"
                    },
                    "paper_bgcolor": "white",
                    "plot_bgcolor": "#E5ECF6",
                    "polar": {
                      "angularaxis": {
                        "gridcolor": "white",
                        "linecolor": "white",
                        "ticks": ""
                      },
                      "bgcolor": "#E5ECF6",
                      "radialaxis": {
                        "gridcolor": "white",
                        "linecolor": "white",
                        "ticks": ""
                      }
                    },
                    "scene": {
                      "xaxis": {
                        "backgroundcolor": "#E5ECF6",
                        "gridcolor": "white",
                        "gridwidth": 2,
                        "linecolor": "white",
                        "showbackground": true,
                        "ticks": "",
                        "zerolinecolor": "white"
                      },
                      "yaxis": {
                        "backgroundcolor": "#E5ECF6",
                        "gridcolor": "white",
                        "gridwidth": 2,
                        "linecolor": "white",
                        "showbackground": true,
                        "ticks": "",
                        "zerolinecolor": "white"
                      },
                      "zaxis": {
                        "backgroundcolor": "#E5ECF6",
                        "gridcolor": "white",
                        "gridwidth": 2,
                        "linecolor": "white",
                        "showbackground": true,
                        "ticks": "",
                        "zerolinecolor": "white"
                      }
                    },
                    "shapedefaults": {
                      "line": {
                        "color": "#2a3f5f"
                      }
                    },
                    "ternary": {
                      "aaxis": {
                        "gridcolor": "white",
                        "linecolor": "white",
                        "ticks": ""
                      },
                      "baxis": {
                        "gridcolor": "white",
                        "linecolor": "white",
                        "ticks": ""
                      },
                      "bgcolor": "#E5ECF6",
                      "caxis": {
                        "gridcolor": "white",
                        "linecolor": "white",
                        "ticks": ""
                      }
                    },
                    "title": {
                      "x": 0.05
                    },
                    "xaxis": {
                      "automargin": true,
                      "gridcolor": "white",
                      "linecolor": "white",
                      "ticks": "",
                      "title": {
                        "standoff": 15
                      },
                      "zerolinecolor": "white",
                      "zerolinewidth": 2
                    },
                    "yaxis": {
                      "automargin": true,
                      "gridcolor": "white",
                      "linecolor": "white",
                      "ticks": "",
                      "title": {
                        "standoff": 15
                      },
                      "zerolinecolor": "white",
                      "zerolinewidth": 2
                    }
                  }
                },
                "xaxis": {
                  "anchor": "y",
                  "domain": [
                    0,
                    1
                  ]
                },
                "yaxis": {
                  "anchor": "x",
                  "domain": [
                    0,
                    1
                  ],
                  "title": {
                    "text": "bill_depth_mm"
                  }
                }
              }
            }
          },
          "metadata": {},
          "output_type": "display_data"
        }
      ],
      "source": [
        "fig1  = px.box(df , y=\"bill_depth_mm\")\n",
        "fig1.show()"
      ]
    },
    {
      "cell_type": "markdown",
      "metadata": {},
      "source": [
        "- Figure 4 "
      ]
    },
    {
      "cell_type": "code",
      "execution_count": 54,
      "metadata": {
        "colab": {
          "base_uri": "https://localhost:8080/"
        },
        "id": "RN9riewcMWir",
        "outputId": "6e7bb993-e336-4409-bd5a-cff572b3f2e0"
      },
      "outputs": [
        {
          "data": {
            "text/plain": [
              "Index(['species', 'island', 'bill_length_mm', 'bill_depth_mm',\n",
              "       'flipper_length_mm', 'body_mass_g', 'sex'],\n",
              "      dtype='object')"
            ]
          },
          "execution_count": 54,
          "metadata": {},
          "output_type": "execute_result"
        }
      ],
      "source": [
        "df.columns"
      ]
    },
    {
      "cell_type": "markdown",
      "metadata": {
        "id": "DRZHrbOIPj9c"
      },
      "source": [
        "- removing Outlier in bill_length_mm"
      ]
    },
    {
      "cell_type": "code",
      "execution_count": 55,
      "metadata": {
        "colab": {
          "base_uri": "https://localhost:8080/"
        },
        "id": "gL2ptikVMKxZ",
        "outputId": "73211460-5259-462a-f806-b408f7992a4d"
      },
      "outputs": [
        {
          "name": "stdout",
          "output_type": "stream",
          "text": [
            "  species     island  bill_length_mm  bill_depth_mm  flipper_length_mm  \\\n",
            "0  Adelie  Torgersen            39.1           18.7              181.0   \n",
            "1  Adelie  Torgersen            39.5           17.4              186.0   \n",
            "2  Adelie  Torgersen            40.3           18.0              195.0   \n",
            "4  Adelie  Torgersen            36.7           19.3              193.0   \n",
            "5  Adelie  Torgersen            39.3           20.6              190.0   \n",
            "\n",
            "   body_mass_g     sex  \n",
            "0       3750.0    Male  \n",
            "1       3800.0  Female  \n",
            "2       3250.0  Female  \n",
            "4       3450.0  Female  \n",
            "5       3650.0    Male  \n"
          ]
        }
      ],
      "source": [
        "Q1_body_mass = df[\"bill_length_mm\"].quantile(0.25)\n",
        "Q3_body_mass = df[\"bill_length_mm\"].quantile(0.75)\n",
        "IQR = Q3_body_mass-Q1_body_mass\n",
        "# print(IQR)\n",
        "# Define the lower and upper bounds for outliers\n",
        "lower_bound = Q1_body_mass - 1.5 * IQR\n",
        "upper_bound = Q3_body_mass + 1.5 * IQR\n",
        "\n",
        "# Identify and print outliers\n",
        "outliers = [df[(df['bill_length_mm'] < lower_bound) | (df['bill_length_mm'] > upper_bound)]]\n",
        "# print(\"Outliers:\",outliers)\n",
        "\n",
        "# Remove outliers\n",
        "df = df[(df['bill_length_mm'] >= lower_bound) & (df['bill_length_mm'] <= upper_bound)]\n",
        "\n",
        "# Display the first few rows of the dataset without outliers\n",
        "print(df.head())"
      ]
    },
    {
      "cell_type": "code",
      "execution_count": 56,
      "metadata": {
        "colab": {
          "base_uri": "https://localhost:8080/",
          "height": 542
        },
        "id": "NWDCYlidOBce",
        "outputId": "6de795e9-8d64-410f-9618-caa486003bdf"
      },
      "outputs": [
        {
          "data": {
            "application/vnd.plotly.v1+json": {
              "config": {
                "plotlyServerURL": "https://plot.ly"
              },
              "data": [
                {
                  "alignmentgroup": "True",
                  "hovertemplate": "bill_length_mm=%{y}<extra></extra>",
                  "legendgroup": "",
                  "marker": {
                    "color": "#636efa"
                  },
                  "name": "",
                  "notched": false,
                  "offsetgroup": "",
                  "orientation": "v",
                  "showlegend": false,
                  "type": "box",
                  "x0": " ",
                  "xaxis": "x",
                  "y": [
                    39.1,
                    39.5,
                    40.3,
                    36.7,
                    39.3,
                    38.9,
                    39.2,
                    34.1,
                    42,
                    37.8,
                    37.8,
                    41.1,
                    38.6,
                    34.6,
                    36.6,
                    38.7,
                    42.5,
                    34.4,
                    46,
                    37.8,
                    37.7,
                    35.9,
                    38.2,
                    38.8,
                    35.3,
                    40.6,
                    40.5,
                    37.9,
                    40.5,
                    39.5,
                    37.2,
                    39.5,
                    40.9,
                    36.4,
                    39.2,
                    38.8,
                    42.2,
                    37.6,
                    39.8,
                    36.5,
                    40.8,
                    36,
                    44.1,
                    37,
                    39.6,
                    41.1,
                    37.5,
                    36,
                    42.3,
                    39.6,
                    40.1,
                    35,
                    42,
                    34.5,
                    41.4,
                    39,
                    40.6,
                    36.5,
                    37.6,
                    35.7,
                    41.3,
                    37.6,
                    41.1,
                    36.4,
                    41.6,
                    35.5,
                    41.1,
                    35.9,
                    41.8,
                    33.5,
                    39.7,
                    39.6,
                    45.8,
                    35.5,
                    42.8,
                    40.9,
                    37.2,
                    36.2,
                    42.1,
                    34.6,
                    42.9,
                    36.7,
                    35.1,
                    37.3,
                    41.3,
                    36.3,
                    36.9,
                    38.3,
                    38.9,
                    35.7,
                    41.1,
                    34,
                    39.6,
                    36.2,
                    40.8,
                    38.1,
                    40.3,
                    33.1,
                    43.2,
                    35,
                    41,
                    37.7,
                    37.8,
                    37.9,
                    39.7,
                    38.6,
                    38.2,
                    38.1,
                    43.2,
                    38.1,
                    45.6,
                    39.7,
                    42.2,
                    39.6,
                    42.7,
                    38.6,
                    37.3,
                    35.7,
                    41.1,
                    36.2,
                    37.7,
                    40.2,
                    41.4,
                    35.2,
                    40.6,
                    38.8,
                    41.5,
                    39,
                    44.1,
                    38.5,
                    43.1,
                    36.8,
                    37.5,
                    38.1,
                    41.1,
                    35.6,
                    40.2,
                    37,
                    39.7,
                    40.2,
                    40.6,
                    32.1,
                    40.7,
                    37.3,
                    39,
                    39.2,
                    36.6,
                    36,
                    37.8,
                    36,
                    41.5,
                    46.5,
                    50,
                    51.3,
                    45.4,
                    52.7,
                    45.2,
                    46.1,
                    51.3,
                    46,
                    51.3,
                    46.6,
                    51.7,
                    47,
                    52,
                    45.9,
                    50.5,
                    50.3,
                    58,
                    46.4,
                    49.2,
                    42.4,
                    48.5,
                    43.2,
                    50.6,
                    46.7,
                    52,
                    50.5,
                    49.5,
                    46.4,
                    52.8,
                    40.9,
                    54.2,
                    42.5,
                    51,
                    49.7,
                    47.5,
                    47.6,
                    52,
                    46.9,
                    53.5,
                    49,
                    46.2,
                    50.9,
                    45.5,
                    50.9,
                    50.8,
                    50.1,
                    49,
                    51.5,
                    49.8,
                    48.1,
                    51.4,
                    45.7,
                    50.7,
                    42.5,
                    52.2,
                    45.2,
                    49.3,
                    50.2,
                    45.6,
                    51.9,
                    46.8,
                    45.7,
                    55.8,
                    43.5,
                    49.6,
                    50.8,
                    50.2,
                    46.1,
                    50,
                    48.7,
                    50,
                    47.6,
                    46.5,
                    45.4,
                    46.7,
                    43.3,
                    46.8,
                    40.9,
                    49,
                    45.5,
                    48.4,
                    45.8,
                    49.3,
                    42,
                    49.2,
                    46.2,
                    48.7,
                    50.2,
                    45.1,
                    46.5,
                    46.3,
                    42.9,
                    46.1,
                    44.5,
                    47.8,
                    48.2,
                    50,
                    47.3,
                    42.8,
                    45.1,
                    59.6,
                    49.1,
                    48.4,
                    42.6,
                    44.4,
                    44,
                    48.7,
                    42.7,
                    49.6,
                    45.3,
                    49.6,
                    50.5,
                    43.6,
                    45.5,
                    50.5,
                    44.9,
                    45.2,
                    46.6,
                    48.5,
                    45.1,
                    50.1,
                    46.5,
                    45,
                    43.8,
                    45.5,
                    43.2,
                    50.4,
                    45.3,
                    46.2,
                    45.7,
                    54.3,
                    45.8,
                    49.8,
                    46.2,
                    49.5,
                    43.5,
                    50.7,
                    47.7,
                    46.4,
                    48.2,
                    46.5,
                    46.4,
                    48.6,
                    47.5,
                    51.1,
                    45.2,
                    45.2,
                    49.1,
                    52.5,
                    47.4,
                    50,
                    44.9,
                    50.8,
                    43.4,
                    51.3,
                    47.5,
                    52.1,
                    47.5,
                    52.2,
                    45.5,
                    49.5,
                    44.5,
                    50.8,
                    49.4,
                    46.9,
                    48.4,
                    51.1,
                    48.5,
                    55.9,
                    47.2,
                    49.1,
                    47.3,
                    46.8,
                    41.7,
                    53.4,
                    43.3,
                    48.1,
                    50.5,
                    49.8,
                    43.5,
                    51.5,
                    46.2,
                    55.1,
                    44.5,
                    48.8,
                    47.2,
                    46.8,
                    50.4,
                    45.2,
                    49.9
                  ],
                  "y0": " ",
                  "yaxis": "y"
                }
              ],
              "layout": {
                "boxmode": "group",
                "legend": {
                  "tracegroupgap": 0
                },
                "margin": {
                  "t": 60
                },
                "template": {
                  "data": {
                    "bar": [
                      {
                        "error_x": {
                          "color": "#2a3f5f"
                        },
                        "error_y": {
                          "color": "#2a3f5f"
                        },
                        "marker": {
                          "line": {
                            "color": "#E5ECF6",
                            "width": 0.5
                          },
                          "pattern": {
                            "fillmode": "overlay",
                            "size": 10,
                            "solidity": 0.2
                          }
                        },
                        "type": "bar"
                      }
                    ],
                    "barpolar": [
                      {
                        "marker": {
                          "line": {
                            "color": "#E5ECF6",
                            "width": 0.5
                          },
                          "pattern": {
                            "fillmode": "overlay",
                            "size": 10,
                            "solidity": 0.2
                          }
                        },
                        "type": "barpolar"
                      }
                    ],
                    "carpet": [
                      {
                        "aaxis": {
                          "endlinecolor": "#2a3f5f",
                          "gridcolor": "white",
                          "linecolor": "white",
                          "minorgridcolor": "white",
                          "startlinecolor": "#2a3f5f"
                        },
                        "baxis": {
                          "endlinecolor": "#2a3f5f",
                          "gridcolor": "white",
                          "linecolor": "white",
                          "minorgridcolor": "white",
                          "startlinecolor": "#2a3f5f"
                        },
                        "type": "carpet"
                      }
                    ],
                    "choropleth": [
                      {
                        "colorbar": {
                          "outlinewidth": 0,
                          "ticks": ""
                        },
                        "type": "choropleth"
                      }
                    ],
                    "contour": [
                      {
                        "colorbar": {
                          "outlinewidth": 0,
                          "ticks": ""
                        },
                        "colorscale": [
                          [
                            0,
                            "#0d0887"
                          ],
                          [
                            0.1111111111111111,
                            "#46039f"
                          ],
                          [
                            0.2222222222222222,
                            "#7201a8"
                          ],
                          [
                            0.3333333333333333,
                            "#9c179e"
                          ],
                          [
                            0.4444444444444444,
                            "#bd3786"
                          ],
                          [
                            0.5555555555555556,
                            "#d8576b"
                          ],
                          [
                            0.6666666666666666,
                            "#ed7953"
                          ],
                          [
                            0.7777777777777778,
                            "#fb9f3a"
                          ],
                          [
                            0.8888888888888888,
                            "#fdca26"
                          ],
                          [
                            1,
                            "#f0f921"
                          ]
                        ],
                        "type": "contour"
                      }
                    ],
                    "contourcarpet": [
                      {
                        "colorbar": {
                          "outlinewidth": 0,
                          "ticks": ""
                        },
                        "type": "contourcarpet"
                      }
                    ],
                    "heatmap": [
                      {
                        "colorbar": {
                          "outlinewidth": 0,
                          "ticks": ""
                        },
                        "colorscale": [
                          [
                            0,
                            "#0d0887"
                          ],
                          [
                            0.1111111111111111,
                            "#46039f"
                          ],
                          [
                            0.2222222222222222,
                            "#7201a8"
                          ],
                          [
                            0.3333333333333333,
                            "#9c179e"
                          ],
                          [
                            0.4444444444444444,
                            "#bd3786"
                          ],
                          [
                            0.5555555555555556,
                            "#d8576b"
                          ],
                          [
                            0.6666666666666666,
                            "#ed7953"
                          ],
                          [
                            0.7777777777777778,
                            "#fb9f3a"
                          ],
                          [
                            0.8888888888888888,
                            "#fdca26"
                          ],
                          [
                            1,
                            "#f0f921"
                          ]
                        ],
                        "type": "heatmap"
                      }
                    ],
                    "heatmapgl": [
                      {
                        "colorbar": {
                          "outlinewidth": 0,
                          "ticks": ""
                        },
                        "colorscale": [
                          [
                            0,
                            "#0d0887"
                          ],
                          [
                            0.1111111111111111,
                            "#46039f"
                          ],
                          [
                            0.2222222222222222,
                            "#7201a8"
                          ],
                          [
                            0.3333333333333333,
                            "#9c179e"
                          ],
                          [
                            0.4444444444444444,
                            "#bd3786"
                          ],
                          [
                            0.5555555555555556,
                            "#d8576b"
                          ],
                          [
                            0.6666666666666666,
                            "#ed7953"
                          ],
                          [
                            0.7777777777777778,
                            "#fb9f3a"
                          ],
                          [
                            0.8888888888888888,
                            "#fdca26"
                          ],
                          [
                            1,
                            "#f0f921"
                          ]
                        ],
                        "type": "heatmapgl"
                      }
                    ],
                    "histogram": [
                      {
                        "marker": {
                          "pattern": {
                            "fillmode": "overlay",
                            "size": 10,
                            "solidity": 0.2
                          }
                        },
                        "type": "histogram"
                      }
                    ],
                    "histogram2d": [
                      {
                        "colorbar": {
                          "outlinewidth": 0,
                          "ticks": ""
                        },
                        "colorscale": [
                          [
                            0,
                            "#0d0887"
                          ],
                          [
                            0.1111111111111111,
                            "#46039f"
                          ],
                          [
                            0.2222222222222222,
                            "#7201a8"
                          ],
                          [
                            0.3333333333333333,
                            "#9c179e"
                          ],
                          [
                            0.4444444444444444,
                            "#bd3786"
                          ],
                          [
                            0.5555555555555556,
                            "#d8576b"
                          ],
                          [
                            0.6666666666666666,
                            "#ed7953"
                          ],
                          [
                            0.7777777777777778,
                            "#fb9f3a"
                          ],
                          [
                            0.8888888888888888,
                            "#fdca26"
                          ],
                          [
                            1,
                            "#f0f921"
                          ]
                        ],
                        "type": "histogram2d"
                      }
                    ],
                    "histogram2dcontour": [
                      {
                        "colorbar": {
                          "outlinewidth": 0,
                          "ticks": ""
                        },
                        "colorscale": [
                          [
                            0,
                            "#0d0887"
                          ],
                          [
                            0.1111111111111111,
                            "#46039f"
                          ],
                          [
                            0.2222222222222222,
                            "#7201a8"
                          ],
                          [
                            0.3333333333333333,
                            "#9c179e"
                          ],
                          [
                            0.4444444444444444,
                            "#bd3786"
                          ],
                          [
                            0.5555555555555556,
                            "#d8576b"
                          ],
                          [
                            0.6666666666666666,
                            "#ed7953"
                          ],
                          [
                            0.7777777777777778,
                            "#fb9f3a"
                          ],
                          [
                            0.8888888888888888,
                            "#fdca26"
                          ],
                          [
                            1,
                            "#f0f921"
                          ]
                        ],
                        "type": "histogram2dcontour"
                      }
                    ],
                    "mesh3d": [
                      {
                        "colorbar": {
                          "outlinewidth": 0,
                          "ticks": ""
                        },
                        "type": "mesh3d"
                      }
                    ],
                    "parcoords": [
                      {
                        "line": {
                          "colorbar": {
                            "outlinewidth": 0,
                            "ticks": ""
                          }
                        },
                        "type": "parcoords"
                      }
                    ],
                    "pie": [
                      {
                        "automargin": true,
                        "type": "pie"
                      }
                    ],
                    "scatter": [
                      {
                        "fillpattern": {
                          "fillmode": "overlay",
                          "size": 10,
                          "solidity": 0.2
                        },
                        "type": "scatter"
                      }
                    ],
                    "scatter3d": [
                      {
                        "line": {
                          "colorbar": {
                            "outlinewidth": 0,
                            "ticks": ""
                          }
                        },
                        "marker": {
                          "colorbar": {
                            "outlinewidth": 0,
                            "ticks": ""
                          }
                        },
                        "type": "scatter3d"
                      }
                    ],
                    "scattercarpet": [
                      {
                        "marker": {
                          "colorbar": {
                            "outlinewidth": 0,
                            "ticks": ""
                          }
                        },
                        "type": "scattercarpet"
                      }
                    ],
                    "scattergeo": [
                      {
                        "marker": {
                          "colorbar": {
                            "outlinewidth": 0,
                            "ticks": ""
                          }
                        },
                        "type": "scattergeo"
                      }
                    ],
                    "scattergl": [
                      {
                        "marker": {
                          "colorbar": {
                            "outlinewidth": 0,
                            "ticks": ""
                          }
                        },
                        "type": "scattergl"
                      }
                    ],
                    "scattermapbox": [
                      {
                        "marker": {
                          "colorbar": {
                            "outlinewidth": 0,
                            "ticks": ""
                          }
                        },
                        "type": "scattermapbox"
                      }
                    ],
                    "scatterpolar": [
                      {
                        "marker": {
                          "colorbar": {
                            "outlinewidth": 0,
                            "ticks": ""
                          }
                        },
                        "type": "scatterpolar"
                      }
                    ],
                    "scatterpolargl": [
                      {
                        "marker": {
                          "colorbar": {
                            "outlinewidth": 0,
                            "ticks": ""
                          }
                        },
                        "type": "scatterpolargl"
                      }
                    ],
                    "scatterternary": [
                      {
                        "marker": {
                          "colorbar": {
                            "outlinewidth": 0,
                            "ticks": ""
                          }
                        },
                        "type": "scatterternary"
                      }
                    ],
                    "surface": [
                      {
                        "colorbar": {
                          "outlinewidth": 0,
                          "ticks": ""
                        },
                        "colorscale": [
                          [
                            0,
                            "#0d0887"
                          ],
                          [
                            0.1111111111111111,
                            "#46039f"
                          ],
                          [
                            0.2222222222222222,
                            "#7201a8"
                          ],
                          [
                            0.3333333333333333,
                            "#9c179e"
                          ],
                          [
                            0.4444444444444444,
                            "#bd3786"
                          ],
                          [
                            0.5555555555555556,
                            "#d8576b"
                          ],
                          [
                            0.6666666666666666,
                            "#ed7953"
                          ],
                          [
                            0.7777777777777778,
                            "#fb9f3a"
                          ],
                          [
                            0.8888888888888888,
                            "#fdca26"
                          ],
                          [
                            1,
                            "#f0f921"
                          ]
                        ],
                        "type": "surface"
                      }
                    ],
                    "table": [
                      {
                        "cells": {
                          "fill": {
                            "color": "#EBF0F8"
                          },
                          "line": {
                            "color": "white"
                          }
                        },
                        "header": {
                          "fill": {
                            "color": "#C8D4E3"
                          },
                          "line": {
                            "color": "white"
                          }
                        },
                        "type": "table"
                      }
                    ]
                  },
                  "layout": {
                    "annotationdefaults": {
                      "arrowcolor": "#2a3f5f",
                      "arrowhead": 0,
                      "arrowwidth": 1
                    },
                    "autotypenumbers": "strict",
                    "coloraxis": {
                      "colorbar": {
                        "outlinewidth": 0,
                        "ticks": ""
                      }
                    },
                    "colorscale": {
                      "diverging": [
                        [
                          0,
                          "#8e0152"
                        ],
                        [
                          0.1,
                          "#c51b7d"
                        ],
                        [
                          0.2,
                          "#de77ae"
                        ],
                        [
                          0.3,
                          "#f1b6da"
                        ],
                        [
                          0.4,
                          "#fde0ef"
                        ],
                        [
                          0.5,
                          "#f7f7f7"
                        ],
                        [
                          0.6,
                          "#e6f5d0"
                        ],
                        [
                          0.7,
                          "#b8e186"
                        ],
                        [
                          0.8,
                          "#7fbc41"
                        ],
                        [
                          0.9,
                          "#4d9221"
                        ],
                        [
                          1,
                          "#276419"
                        ]
                      ],
                      "sequential": [
                        [
                          0,
                          "#0d0887"
                        ],
                        [
                          0.1111111111111111,
                          "#46039f"
                        ],
                        [
                          0.2222222222222222,
                          "#7201a8"
                        ],
                        [
                          0.3333333333333333,
                          "#9c179e"
                        ],
                        [
                          0.4444444444444444,
                          "#bd3786"
                        ],
                        [
                          0.5555555555555556,
                          "#d8576b"
                        ],
                        [
                          0.6666666666666666,
                          "#ed7953"
                        ],
                        [
                          0.7777777777777778,
                          "#fb9f3a"
                        ],
                        [
                          0.8888888888888888,
                          "#fdca26"
                        ],
                        [
                          1,
                          "#f0f921"
                        ]
                      ],
                      "sequentialminus": [
                        [
                          0,
                          "#0d0887"
                        ],
                        [
                          0.1111111111111111,
                          "#46039f"
                        ],
                        [
                          0.2222222222222222,
                          "#7201a8"
                        ],
                        [
                          0.3333333333333333,
                          "#9c179e"
                        ],
                        [
                          0.4444444444444444,
                          "#bd3786"
                        ],
                        [
                          0.5555555555555556,
                          "#d8576b"
                        ],
                        [
                          0.6666666666666666,
                          "#ed7953"
                        ],
                        [
                          0.7777777777777778,
                          "#fb9f3a"
                        ],
                        [
                          0.8888888888888888,
                          "#fdca26"
                        ],
                        [
                          1,
                          "#f0f921"
                        ]
                      ]
                    },
                    "colorway": [
                      "#636efa",
                      "#EF553B",
                      "#00cc96",
                      "#ab63fa",
                      "#FFA15A",
                      "#19d3f3",
                      "#FF6692",
                      "#B6E880",
                      "#FF97FF",
                      "#FECB52"
                    ],
                    "font": {
                      "color": "#2a3f5f"
                    },
                    "geo": {
                      "bgcolor": "white",
                      "lakecolor": "white",
                      "landcolor": "#E5ECF6",
                      "showlakes": true,
                      "showland": true,
                      "subunitcolor": "white"
                    },
                    "hoverlabel": {
                      "align": "left"
                    },
                    "hovermode": "closest",
                    "mapbox": {
                      "style": "light"
                    },
                    "paper_bgcolor": "white",
                    "plot_bgcolor": "#E5ECF6",
                    "polar": {
                      "angularaxis": {
                        "gridcolor": "white",
                        "linecolor": "white",
                        "ticks": ""
                      },
                      "bgcolor": "#E5ECF6",
                      "radialaxis": {
                        "gridcolor": "white",
                        "linecolor": "white",
                        "ticks": ""
                      }
                    },
                    "scene": {
                      "xaxis": {
                        "backgroundcolor": "#E5ECF6",
                        "gridcolor": "white",
                        "gridwidth": 2,
                        "linecolor": "white",
                        "showbackground": true,
                        "ticks": "",
                        "zerolinecolor": "white"
                      },
                      "yaxis": {
                        "backgroundcolor": "#E5ECF6",
                        "gridcolor": "white",
                        "gridwidth": 2,
                        "linecolor": "white",
                        "showbackground": true,
                        "ticks": "",
                        "zerolinecolor": "white"
                      },
                      "zaxis": {
                        "backgroundcolor": "#E5ECF6",
                        "gridcolor": "white",
                        "gridwidth": 2,
                        "linecolor": "white",
                        "showbackground": true,
                        "ticks": "",
                        "zerolinecolor": "white"
                      }
                    },
                    "shapedefaults": {
                      "line": {
                        "color": "#2a3f5f"
                      }
                    },
                    "ternary": {
                      "aaxis": {
                        "gridcolor": "white",
                        "linecolor": "white",
                        "ticks": ""
                      },
                      "baxis": {
                        "gridcolor": "white",
                        "linecolor": "white",
                        "ticks": ""
                      },
                      "bgcolor": "#E5ECF6",
                      "caxis": {
                        "gridcolor": "white",
                        "linecolor": "white",
                        "ticks": ""
                      }
                    },
                    "title": {
                      "x": 0.05
                    },
                    "xaxis": {
                      "automargin": true,
                      "gridcolor": "white",
                      "linecolor": "white",
                      "ticks": "",
                      "title": {
                        "standoff": 15
                      },
                      "zerolinecolor": "white",
                      "zerolinewidth": 2
                    },
                    "yaxis": {
                      "automargin": true,
                      "gridcolor": "white",
                      "linecolor": "white",
                      "ticks": "",
                      "title": {
                        "standoff": 15
                      },
                      "zerolinecolor": "white",
                      "zerolinewidth": 2
                    }
                  }
                },
                "xaxis": {
                  "anchor": "y",
                  "domain": [
                    0,
                    1
                  ]
                },
                "yaxis": {
                  "anchor": "x",
                  "domain": [
                    0,
                    1
                  ],
                  "title": {
                    "text": "bill_length_mm"
                  }
                }
              }
            }
          },
          "metadata": {},
          "output_type": "display_data"
        }
      ],
      "source": [
        "fig1  = px.box(df , y=\"bill_length_mm\")\n",
        "fig1.show()"
      ]
    },
    {
      "cell_type": "markdown",
      "metadata": {
        "id": "WE_-YvkZPx2d"
      },
      "source": [
        "- Removing Outlier in BodyMass"
      ]
    },
    {
      "cell_type": "code",
      "execution_count": 57,
      "metadata": {
        "id": "9snJ1x-UOaOq"
      },
      "outputs": [],
      "source": [
        "Q1_mass = df[\"body_mass_g\"].quantile(0.25)\n",
        "Q3_mass = df[\"body_mass_g\"].quantile(0.75)\n",
        "IQR_mass = Q3_mass-Q1_mass\n",
        "# print(IQR)\n",
        "# Define the lower and upper bounds for outliers\n",
        "lower_bound = Q1_mass - 1.5 * IQR_mass\n",
        "upper_bound = Q3_mass + 1.5 * IQR_mass\n",
        "\n",
        "# Identify and print outliers\n",
        "outliers = [df[(df['body_mass_g'] < lower_bound) | (df['body_mass_g'] > upper_bound)]]\n",
        "# print(\"Outliers:\",outliers)\n",
        "\n",
        "# Remove outliers\n",
        "df = df[(df['body_mass_g'] >= lower_bound) & (df['body_mass_g'] <= upper_bound)]\n"
      ]
    },
    {
      "cell_type": "code",
      "execution_count": 58,
      "metadata": {
        "colab": {
          "base_uri": "https://localhost:8080/",
          "height": 542
        },
        "id": "bwLOXLBdOoAu",
        "outputId": "b9daefca-647b-43ea-c86e-785faed54913"
      },
      "outputs": [
        {
          "data": {
            "application/vnd.plotly.v1+json": {
              "config": {
                "plotlyServerURL": "https://plot.ly"
              },
              "data": [
                {
                  "alignmentgroup": "True",
                  "hovertemplate": "body_mass_g=%{y}<extra></extra>",
                  "legendgroup": "",
                  "marker": {
                    "color": "#636efa"
                  },
                  "name": "",
                  "notched": false,
                  "offsetgroup": "",
                  "orientation": "v",
                  "showlegend": false,
                  "type": "box",
                  "x0": " ",
                  "xaxis": "x",
                  "y": [
                    3750,
                    3800,
                    3250,
                    3450,
                    3650,
                    3625,
                    4675,
                    3475,
                    4250,
                    3300,
                    3700,
                    3200,
                    3800,
                    4400,
                    3700,
                    3450,
                    4500,
                    3325,
                    4200,
                    3400,
                    3600,
                    3800,
                    3950,
                    3800,
                    3800,
                    3550,
                    3200,
                    3150,
                    3950,
                    3250,
                    3900,
                    3300,
                    3900,
                    3325,
                    4150,
                    3950,
                    3550,
                    3300,
                    4650,
                    3150,
                    3900,
                    3100,
                    4400,
                    3000,
                    4600,
                    3425,
                    2975,
                    3450,
                    4150,
                    3500,
                    4300,
                    3450,
                    4050,
                    2900,
                    3700,
                    3550,
                    3800,
                    2850,
                    3750,
                    3150,
                    4400,
                    3600,
                    4050,
                    2850,
                    3950,
                    3350,
                    4100,
                    3050,
                    4450,
                    3600,
                    3900,
                    3550,
                    4150,
                    3700,
                    4250,
                    3700,
                    3900,
                    3550,
                    4000,
                    3200,
                    4700,
                    3800,
                    4200,
                    3350,
                    3550,
                    3800,
                    3500,
                    3950,
                    3600,
                    3550,
                    4300,
                    3400,
                    4450,
                    3300,
                    4300,
                    3700,
                    4350,
                    2900,
                    4100,
                    3725,
                    4725,
                    3075,
                    4250,
                    2925,
                    3550,
                    3750,
                    3900,
                    3175,
                    4775,
                    3825,
                    4600,
                    3200,
                    4275,
                    3900,
                    4075,
                    2900,
                    3775,
                    3350,
                    3325,
                    3150,
                    3500,
                    3450,
                    3875,
                    3050,
                    4000,
                    3275,
                    4300,
                    3050,
                    4000,
                    3325,
                    3500,
                    3500,
                    4475,
                    3425,
                    3900,
                    3175,
                    3975,
                    3400,
                    4250,
                    3400,
                    3475,
                    3050,
                    3725,
                    3000,
                    3650,
                    4250,
                    3475,
                    3450,
                    3750,
                    3700,
                    4000,
                    3500,
                    3900,
                    3650,
                    3525,
                    3725,
                    3950,
                    3250,
                    3750,
                    4150,
                    3700,
                    3800,
                    3775,
                    3700,
                    4050,
                    3575,
                    4050,
                    3300,
                    3700,
                    3450,
                    4400,
                    3600,
                    3400,
                    2900,
                    3800,
                    3300,
                    4150,
                    3400,
                    3800,
                    3700,
                    4550,
                    3200,
                    4300,
                    3350,
                    4100,
                    3600,
                    3900,
                    3850,
                    4800,
                    2700,
                    4500,
                    3950,
                    3650,
                    3550,
                    3500,
                    3675,
                    4450,
                    3400,
                    4300,
                    3250,
                    3675,
                    3325,
                    3950,
                    3600,
                    4050,
                    3350,
                    3450,
                    3250,
                    4050,
                    3800,
                    3525,
                    3950,
                    3650,
                    3650,
                    4000,
                    3400,
                    3775,
                    4100,
                    3775,
                    4500,
                    5700,
                    4450,
                    5700,
                    5400,
                    4550,
                    4800,
                    5200,
                    4400,
                    5150,
                    4650,
                    5550,
                    4650,
                    5850,
                    4200,
                    5850,
                    4150,
                    6300,
                    4800,
                    5350,
                    5700,
                    5000,
                    4400,
                    5050,
                    5000,
                    5100,
                    4100,
                    5650,
                    4600,
                    5550,
                    5250,
                    4700,
                    5050,
                    6050,
                    5150,
                    5400,
                    4950,
                    5250,
                    4350,
                    5350,
                    3950,
                    5700,
                    4300,
                    4750,
                    5550,
                    4900,
                    4200,
                    5400,
                    5100,
                    5300,
                    4850,
                    5300,
                    4400,
                    5000,
                    4900,
                    5050,
                    4300,
                    5000,
                    4450,
                    5550,
                    4200,
                    5300,
                    4400,
                    5650,
                    4700,
                    5700,
                    4650,
                    5800,
                    4700,
                    5550,
                    4750,
                    5000,
                    5100,
                    5200,
                    4700,
                    5800,
                    4600,
                    6000,
                    4750,
                    5950,
                    4625,
                    5450,
                    4725,
                    5350,
                    4750,
                    5600,
                    4600,
                    5300,
                    4875,
                    5550,
                    4950,
                    5400,
                    4750,
                    5650,
                    4850,
                    5200,
                    4925,
                    4875,
                    4625,
                    5250,
                    4850,
                    5600,
                    4975,
                    5500,
                    4725,
                    5500,
                    4700,
                    5500,
                    4575,
                    5500,
                    5000,
                    5950,
                    4650,
                    5500,
                    4375,
                    5850,
                    4875,
                    6000,
                    4925,
                    4850,
                    5750,
                    5200,
                    5400
                  ],
                  "y0": " ",
                  "yaxis": "y"
                }
              ],
              "layout": {
                "boxmode": "group",
                "legend": {
                  "tracegroupgap": 0
                },
                "margin": {
                  "t": 60
                },
                "template": {
                  "data": {
                    "bar": [
                      {
                        "error_x": {
                          "color": "#2a3f5f"
                        },
                        "error_y": {
                          "color": "#2a3f5f"
                        },
                        "marker": {
                          "line": {
                            "color": "#E5ECF6",
                            "width": 0.5
                          },
                          "pattern": {
                            "fillmode": "overlay",
                            "size": 10,
                            "solidity": 0.2
                          }
                        },
                        "type": "bar"
                      }
                    ],
                    "barpolar": [
                      {
                        "marker": {
                          "line": {
                            "color": "#E5ECF6",
                            "width": 0.5
                          },
                          "pattern": {
                            "fillmode": "overlay",
                            "size": 10,
                            "solidity": 0.2
                          }
                        },
                        "type": "barpolar"
                      }
                    ],
                    "carpet": [
                      {
                        "aaxis": {
                          "endlinecolor": "#2a3f5f",
                          "gridcolor": "white",
                          "linecolor": "white",
                          "minorgridcolor": "white",
                          "startlinecolor": "#2a3f5f"
                        },
                        "baxis": {
                          "endlinecolor": "#2a3f5f",
                          "gridcolor": "white",
                          "linecolor": "white",
                          "minorgridcolor": "white",
                          "startlinecolor": "#2a3f5f"
                        },
                        "type": "carpet"
                      }
                    ],
                    "choropleth": [
                      {
                        "colorbar": {
                          "outlinewidth": 0,
                          "ticks": ""
                        },
                        "type": "choropleth"
                      }
                    ],
                    "contour": [
                      {
                        "colorbar": {
                          "outlinewidth": 0,
                          "ticks": ""
                        },
                        "colorscale": [
                          [
                            0,
                            "#0d0887"
                          ],
                          [
                            0.1111111111111111,
                            "#46039f"
                          ],
                          [
                            0.2222222222222222,
                            "#7201a8"
                          ],
                          [
                            0.3333333333333333,
                            "#9c179e"
                          ],
                          [
                            0.4444444444444444,
                            "#bd3786"
                          ],
                          [
                            0.5555555555555556,
                            "#d8576b"
                          ],
                          [
                            0.6666666666666666,
                            "#ed7953"
                          ],
                          [
                            0.7777777777777778,
                            "#fb9f3a"
                          ],
                          [
                            0.8888888888888888,
                            "#fdca26"
                          ],
                          [
                            1,
                            "#f0f921"
                          ]
                        ],
                        "type": "contour"
                      }
                    ],
                    "contourcarpet": [
                      {
                        "colorbar": {
                          "outlinewidth": 0,
                          "ticks": ""
                        },
                        "type": "contourcarpet"
                      }
                    ],
                    "heatmap": [
                      {
                        "colorbar": {
                          "outlinewidth": 0,
                          "ticks": ""
                        },
                        "colorscale": [
                          [
                            0,
                            "#0d0887"
                          ],
                          [
                            0.1111111111111111,
                            "#46039f"
                          ],
                          [
                            0.2222222222222222,
                            "#7201a8"
                          ],
                          [
                            0.3333333333333333,
                            "#9c179e"
                          ],
                          [
                            0.4444444444444444,
                            "#bd3786"
                          ],
                          [
                            0.5555555555555556,
                            "#d8576b"
                          ],
                          [
                            0.6666666666666666,
                            "#ed7953"
                          ],
                          [
                            0.7777777777777778,
                            "#fb9f3a"
                          ],
                          [
                            0.8888888888888888,
                            "#fdca26"
                          ],
                          [
                            1,
                            "#f0f921"
                          ]
                        ],
                        "type": "heatmap"
                      }
                    ],
                    "heatmapgl": [
                      {
                        "colorbar": {
                          "outlinewidth": 0,
                          "ticks": ""
                        },
                        "colorscale": [
                          [
                            0,
                            "#0d0887"
                          ],
                          [
                            0.1111111111111111,
                            "#46039f"
                          ],
                          [
                            0.2222222222222222,
                            "#7201a8"
                          ],
                          [
                            0.3333333333333333,
                            "#9c179e"
                          ],
                          [
                            0.4444444444444444,
                            "#bd3786"
                          ],
                          [
                            0.5555555555555556,
                            "#d8576b"
                          ],
                          [
                            0.6666666666666666,
                            "#ed7953"
                          ],
                          [
                            0.7777777777777778,
                            "#fb9f3a"
                          ],
                          [
                            0.8888888888888888,
                            "#fdca26"
                          ],
                          [
                            1,
                            "#f0f921"
                          ]
                        ],
                        "type": "heatmapgl"
                      }
                    ],
                    "histogram": [
                      {
                        "marker": {
                          "pattern": {
                            "fillmode": "overlay",
                            "size": 10,
                            "solidity": 0.2
                          }
                        },
                        "type": "histogram"
                      }
                    ],
                    "histogram2d": [
                      {
                        "colorbar": {
                          "outlinewidth": 0,
                          "ticks": ""
                        },
                        "colorscale": [
                          [
                            0,
                            "#0d0887"
                          ],
                          [
                            0.1111111111111111,
                            "#46039f"
                          ],
                          [
                            0.2222222222222222,
                            "#7201a8"
                          ],
                          [
                            0.3333333333333333,
                            "#9c179e"
                          ],
                          [
                            0.4444444444444444,
                            "#bd3786"
                          ],
                          [
                            0.5555555555555556,
                            "#d8576b"
                          ],
                          [
                            0.6666666666666666,
                            "#ed7953"
                          ],
                          [
                            0.7777777777777778,
                            "#fb9f3a"
                          ],
                          [
                            0.8888888888888888,
                            "#fdca26"
                          ],
                          [
                            1,
                            "#f0f921"
                          ]
                        ],
                        "type": "histogram2d"
                      }
                    ],
                    "histogram2dcontour": [
                      {
                        "colorbar": {
                          "outlinewidth": 0,
                          "ticks": ""
                        },
                        "colorscale": [
                          [
                            0,
                            "#0d0887"
                          ],
                          [
                            0.1111111111111111,
                            "#46039f"
                          ],
                          [
                            0.2222222222222222,
                            "#7201a8"
                          ],
                          [
                            0.3333333333333333,
                            "#9c179e"
                          ],
                          [
                            0.4444444444444444,
                            "#bd3786"
                          ],
                          [
                            0.5555555555555556,
                            "#d8576b"
                          ],
                          [
                            0.6666666666666666,
                            "#ed7953"
                          ],
                          [
                            0.7777777777777778,
                            "#fb9f3a"
                          ],
                          [
                            0.8888888888888888,
                            "#fdca26"
                          ],
                          [
                            1,
                            "#f0f921"
                          ]
                        ],
                        "type": "histogram2dcontour"
                      }
                    ],
                    "mesh3d": [
                      {
                        "colorbar": {
                          "outlinewidth": 0,
                          "ticks": ""
                        },
                        "type": "mesh3d"
                      }
                    ],
                    "parcoords": [
                      {
                        "line": {
                          "colorbar": {
                            "outlinewidth": 0,
                            "ticks": ""
                          }
                        },
                        "type": "parcoords"
                      }
                    ],
                    "pie": [
                      {
                        "automargin": true,
                        "type": "pie"
                      }
                    ],
                    "scatter": [
                      {
                        "fillpattern": {
                          "fillmode": "overlay",
                          "size": 10,
                          "solidity": 0.2
                        },
                        "type": "scatter"
                      }
                    ],
                    "scatter3d": [
                      {
                        "line": {
                          "colorbar": {
                            "outlinewidth": 0,
                            "ticks": ""
                          }
                        },
                        "marker": {
                          "colorbar": {
                            "outlinewidth": 0,
                            "ticks": ""
                          }
                        },
                        "type": "scatter3d"
                      }
                    ],
                    "scattercarpet": [
                      {
                        "marker": {
                          "colorbar": {
                            "outlinewidth": 0,
                            "ticks": ""
                          }
                        },
                        "type": "scattercarpet"
                      }
                    ],
                    "scattergeo": [
                      {
                        "marker": {
                          "colorbar": {
                            "outlinewidth": 0,
                            "ticks": ""
                          }
                        },
                        "type": "scattergeo"
                      }
                    ],
                    "scattergl": [
                      {
                        "marker": {
                          "colorbar": {
                            "outlinewidth": 0,
                            "ticks": ""
                          }
                        },
                        "type": "scattergl"
                      }
                    ],
                    "scattermapbox": [
                      {
                        "marker": {
                          "colorbar": {
                            "outlinewidth": 0,
                            "ticks": ""
                          }
                        },
                        "type": "scattermapbox"
                      }
                    ],
                    "scatterpolar": [
                      {
                        "marker": {
                          "colorbar": {
                            "outlinewidth": 0,
                            "ticks": ""
                          }
                        },
                        "type": "scatterpolar"
                      }
                    ],
                    "scatterpolargl": [
                      {
                        "marker": {
                          "colorbar": {
                            "outlinewidth": 0,
                            "ticks": ""
                          }
                        },
                        "type": "scatterpolargl"
                      }
                    ],
                    "scatterternary": [
                      {
                        "marker": {
                          "colorbar": {
                            "outlinewidth": 0,
                            "ticks": ""
                          }
                        },
                        "type": "scatterternary"
                      }
                    ],
                    "surface": [
                      {
                        "colorbar": {
                          "outlinewidth": 0,
                          "ticks": ""
                        },
                        "colorscale": [
                          [
                            0,
                            "#0d0887"
                          ],
                          [
                            0.1111111111111111,
                            "#46039f"
                          ],
                          [
                            0.2222222222222222,
                            "#7201a8"
                          ],
                          [
                            0.3333333333333333,
                            "#9c179e"
                          ],
                          [
                            0.4444444444444444,
                            "#bd3786"
                          ],
                          [
                            0.5555555555555556,
                            "#d8576b"
                          ],
                          [
                            0.6666666666666666,
                            "#ed7953"
                          ],
                          [
                            0.7777777777777778,
                            "#fb9f3a"
                          ],
                          [
                            0.8888888888888888,
                            "#fdca26"
                          ],
                          [
                            1,
                            "#f0f921"
                          ]
                        ],
                        "type": "surface"
                      }
                    ],
                    "table": [
                      {
                        "cells": {
                          "fill": {
                            "color": "#EBF0F8"
                          },
                          "line": {
                            "color": "white"
                          }
                        },
                        "header": {
                          "fill": {
                            "color": "#C8D4E3"
                          },
                          "line": {
                            "color": "white"
                          }
                        },
                        "type": "table"
                      }
                    ]
                  },
                  "layout": {
                    "annotationdefaults": {
                      "arrowcolor": "#2a3f5f",
                      "arrowhead": 0,
                      "arrowwidth": 1
                    },
                    "autotypenumbers": "strict",
                    "coloraxis": {
                      "colorbar": {
                        "outlinewidth": 0,
                        "ticks": ""
                      }
                    },
                    "colorscale": {
                      "diverging": [
                        [
                          0,
                          "#8e0152"
                        ],
                        [
                          0.1,
                          "#c51b7d"
                        ],
                        [
                          0.2,
                          "#de77ae"
                        ],
                        [
                          0.3,
                          "#f1b6da"
                        ],
                        [
                          0.4,
                          "#fde0ef"
                        ],
                        [
                          0.5,
                          "#f7f7f7"
                        ],
                        [
                          0.6,
                          "#e6f5d0"
                        ],
                        [
                          0.7,
                          "#b8e186"
                        ],
                        [
                          0.8,
                          "#7fbc41"
                        ],
                        [
                          0.9,
                          "#4d9221"
                        ],
                        [
                          1,
                          "#276419"
                        ]
                      ],
                      "sequential": [
                        [
                          0,
                          "#0d0887"
                        ],
                        [
                          0.1111111111111111,
                          "#46039f"
                        ],
                        [
                          0.2222222222222222,
                          "#7201a8"
                        ],
                        [
                          0.3333333333333333,
                          "#9c179e"
                        ],
                        [
                          0.4444444444444444,
                          "#bd3786"
                        ],
                        [
                          0.5555555555555556,
                          "#d8576b"
                        ],
                        [
                          0.6666666666666666,
                          "#ed7953"
                        ],
                        [
                          0.7777777777777778,
                          "#fb9f3a"
                        ],
                        [
                          0.8888888888888888,
                          "#fdca26"
                        ],
                        [
                          1,
                          "#f0f921"
                        ]
                      ],
                      "sequentialminus": [
                        [
                          0,
                          "#0d0887"
                        ],
                        [
                          0.1111111111111111,
                          "#46039f"
                        ],
                        [
                          0.2222222222222222,
                          "#7201a8"
                        ],
                        [
                          0.3333333333333333,
                          "#9c179e"
                        ],
                        [
                          0.4444444444444444,
                          "#bd3786"
                        ],
                        [
                          0.5555555555555556,
                          "#d8576b"
                        ],
                        [
                          0.6666666666666666,
                          "#ed7953"
                        ],
                        [
                          0.7777777777777778,
                          "#fb9f3a"
                        ],
                        [
                          0.8888888888888888,
                          "#fdca26"
                        ],
                        [
                          1,
                          "#f0f921"
                        ]
                      ]
                    },
                    "colorway": [
                      "#636efa",
                      "#EF553B",
                      "#00cc96",
                      "#ab63fa",
                      "#FFA15A",
                      "#19d3f3",
                      "#FF6692",
                      "#B6E880",
                      "#FF97FF",
                      "#FECB52"
                    ],
                    "font": {
                      "color": "#2a3f5f"
                    },
                    "geo": {
                      "bgcolor": "white",
                      "lakecolor": "white",
                      "landcolor": "#E5ECF6",
                      "showlakes": true,
                      "showland": true,
                      "subunitcolor": "white"
                    },
                    "hoverlabel": {
                      "align": "left"
                    },
                    "hovermode": "closest",
                    "mapbox": {
                      "style": "light"
                    },
                    "paper_bgcolor": "white",
                    "plot_bgcolor": "#E5ECF6",
                    "polar": {
                      "angularaxis": {
                        "gridcolor": "white",
                        "linecolor": "white",
                        "ticks": ""
                      },
                      "bgcolor": "#E5ECF6",
                      "radialaxis": {
                        "gridcolor": "white",
                        "linecolor": "white",
                        "ticks": ""
                      }
                    },
                    "scene": {
                      "xaxis": {
                        "backgroundcolor": "#E5ECF6",
                        "gridcolor": "white",
                        "gridwidth": 2,
                        "linecolor": "white",
                        "showbackground": true,
                        "ticks": "",
                        "zerolinecolor": "white"
                      },
                      "yaxis": {
                        "backgroundcolor": "#E5ECF6",
                        "gridcolor": "white",
                        "gridwidth": 2,
                        "linecolor": "white",
                        "showbackground": true,
                        "ticks": "",
                        "zerolinecolor": "white"
                      },
                      "zaxis": {
                        "backgroundcolor": "#E5ECF6",
                        "gridcolor": "white",
                        "gridwidth": 2,
                        "linecolor": "white",
                        "showbackground": true,
                        "ticks": "",
                        "zerolinecolor": "white"
                      }
                    },
                    "shapedefaults": {
                      "line": {
                        "color": "#2a3f5f"
                      }
                    },
                    "ternary": {
                      "aaxis": {
                        "gridcolor": "white",
                        "linecolor": "white",
                        "ticks": ""
                      },
                      "baxis": {
                        "gridcolor": "white",
                        "linecolor": "white",
                        "ticks": ""
                      },
                      "bgcolor": "#E5ECF6",
                      "caxis": {
                        "gridcolor": "white",
                        "linecolor": "white",
                        "ticks": ""
                      }
                    },
                    "title": {
                      "x": 0.05
                    },
                    "xaxis": {
                      "automargin": true,
                      "gridcolor": "white",
                      "linecolor": "white",
                      "ticks": "",
                      "title": {
                        "standoff": 15
                      },
                      "zerolinecolor": "white",
                      "zerolinewidth": 2
                    },
                    "yaxis": {
                      "automargin": true,
                      "gridcolor": "white",
                      "linecolor": "white",
                      "ticks": "",
                      "title": {
                        "standoff": 15
                      },
                      "zerolinecolor": "white",
                      "zerolinewidth": 2
                    }
                  }
                },
                "xaxis": {
                  "anchor": "y",
                  "domain": [
                    0,
                    1
                  ]
                },
                "yaxis": {
                  "anchor": "x",
                  "domain": [
                    0,
                    1
                  ],
                  "title": {
                    "text": "body_mass_g"
                  }
                }
              }
            }
          },
          "metadata": {},
          "output_type": "display_data"
        }
      ],
      "source": [
        "fig1  = px.box(df , y=\"body_mass_g\")\n",
        "fig1.show()"
      ]
    },
    {
      "cell_type": "markdown",
      "metadata": {
        "id": "dP8yIVk7PHwy"
      },
      "source": [
        "- Milestone 3 =  Here We Remove All The Outliers From Dataset"
      ]
    },
    {
      "cell_type": "markdown",
      "metadata": {},
      "source": [
        "# 1. Which Species Have Higher Body_Mass"
      ]
    },
    {
      "cell_type": "code",
      "execution_count": 59,
      "metadata": {
        "colab": {
          "base_uri": "https://localhost:8080/",
          "height": 542
        },
        "id": "vykduS16UIqr",
        "outputId": "3a455406-ad39-4db9-bcd2-a8435c019acc"
      },
      "outputs": [
        {
          "data": {
            "application/vnd.plotly.v1+json": {
              "config": {
                "plotlyServerURL": "https://plot.ly"
              },
              "data": [
                {
                  "alignmentgroup": "True",
                  "hovertemplate": "species=%{x}<br>body_mass_g=%{y}<extra></extra>",
                  "legendgroup": "",
                  "marker": {
                    "color": "#636efa"
                  },
                  "name": "",
                  "notched": false,
                  "offsetgroup": "",
                  "orientation": "v",
                  "showlegend": false,
                  "type": "box",
                  "x": [
                    "Adelie",
                    "Adelie",
                    "Adelie",
                    "Adelie",
                    "Adelie",
                    "Adelie",
                    "Adelie",
                    "Adelie",
                    "Adelie",
                    "Adelie",
                    "Adelie",
                    "Adelie",
                    "Adelie",
                    "Adelie",
                    "Adelie",
                    "Adelie",
                    "Adelie",
                    "Adelie",
                    "Adelie",
                    "Adelie",
                    "Adelie",
                    "Adelie",
                    "Adelie",
                    "Adelie",
                    "Adelie",
                    "Adelie",
                    "Adelie",
                    "Adelie",
                    "Adelie",
                    "Adelie",
                    "Adelie",
                    "Adelie",
                    "Adelie",
                    "Adelie",
                    "Adelie",
                    "Adelie",
                    "Adelie",
                    "Adelie",
                    "Adelie",
                    "Adelie",
                    "Adelie",
                    "Adelie",
                    "Adelie",
                    "Adelie",
                    "Adelie",
                    "Adelie",
                    "Adelie",
                    "Adelie",
                    "Adelie",
                    "Adelie",
                    "Adelie",
                    "Adelie",
                    "Adelie",
                    "Adelie",
                    "Adelie",
                    "Adelie",
                    "Adelie",
                    "Adelie",
                    "Adelie",
                    "Adelie",
                    "Adelie",
                    "Adelie",
                    "Adelie",
                    "Adelie",
                    "Adelie",
                    "Adelie",
                    "Adelie",
                    "Adelie",
                    "Adelie",
                    "Adelie",
                    "Adelie",
                    "Adelie",
                    "Adelie",
                    "Adelie",
                    "Adelie",
                    "Adelie",
                    "Adelie",
                    "Adelie",
                    "Adelie",
                    "Adelie",
                    "Adelie",
                    "Adelie",
                    "Adelie",
                    "Adelie",
                    "Adelie",
                    "Adelie",
                    "Adelie",
                    "Adelie",
                    "Adelie",
                    "Adelie",
                    "Adelie",
                    "Adelie",
                    "Adelie",
                    "Adelie",
                    "Adelie",
                    "Adelie",
                    "Adelie",
                    "Adelie",
                    "Adelie",
                    "Adelie",
                    "Adelie",
                    "Adelie",
                    "Adelie",
                    "Adelie",
                    "Adelie",
                    "Adelie",
                    "Adelie",
                    "Adelie",
                    "Adelie",
                    "Adelie",
                    "Adelie",
                    "Adelie",
                    "Adelie",
                    "Adelie",
                    "Adelie",
                    "Adelie",
                    "Adelie",
                    "Adelie",
                    "Adelie",
                    "Adelie",
                    "Adelie",
                    "Adelie",
                    "Adelie",
                    "Adelie",
                    "Adelie",
                    "Adelie",
                    "Adelie",
                    "Adelie",
                    "Adelie",
                    "Adelie",
                    "Adelie",
                    "Adelie",
                    "Adelie",
                    "Adelie",
                    "Adelie",
                    "Adelie",
                    "Adelie",
                    "Adelie",
                    "Adelie",
                    "Adelie",
                    "Adelie",
                    "Adelie",
                    "Adelie",
                    "Adelie",
                    "Adelie",
                    "Adelie",
                    "Adelie",
                    "Adelie",
                    "Adelie",
                    "Adelie",
                    "Adelie",
                    "Chinstrap",
                    "Chinstrap",
                    "Chinstrap",
                    "Chinstrap",
                    "Chinstrap",
                    "Chinstrap",
                    "Chinstrap",
                    "Chinstrap",
                    "Chinstrap",
                    "Chinstrap",
                    "Chinstrap",
                    "Chinstrap",
                    "Chinstrap",
                    "Chinstrap",
                    "Chinstrap",
                    "Chinstrap",
                    "Chinstrap",
                    "Chinstrap",
                    "Chinstrap",
                    "Chinstrap",
                    "Chinstrap",
                    "Chinstrap",
                    "Chinstrap",
                    "Chinstrap",
                    "Chinstrap",
                    "Chinstrap",
                    "Chinstrap",
                    "Chinstrap",
                    "Chinstrap",
                    "Chinstrap",
                    "Chinstrap",
                    "Chinstrap",
                    "Chinstrap",
                    "Chinstrap",
                    "Chinstrap",
                    "Chinstrap",
                    "Chinstrap",
                    "Chinstrap",
                    "Chinstrap",
                    "Chinstrap",
                    "Chinstrap",
                    "Chinstrap",
                    "Chinstrap",
                    "Chinstrap",
                    "Chinstrap",
                    "Chinstrap",
                    "Chinstrap",
                    "Chinstrap",
                    "Chinstrap",
                    "Chinstrap",
                    "Chinstrap",
                    "Chinstrap",
                    "Chinstrap",
                    "Chinstrap",
                    "Chinstrap",
                    "Chinstrap",
                    "Chinstrap",
                    "Chinstrap",
                    "Chinstrap",
                    "Chinstrap",
                    "Chinstrap",
                    "Chinstrap",
                    "Chinstrap",
                    "Chinstrap",
                    "Chinstrap",
                    "Chinstrap",
                    "Chinstrap",
                    "Chinstrap",
                    "Gentoo",
                    "Gentoo",
                    "Gentoo",
                    "Gentoo",
                    "Gentoo",
                    "Gentoo",
                    "Gentoo",
                    "Gentoo",
                    "Gentoo",
                    "Gentoo",
                    "Gentoo",
                    "Gentoo",
                    "Gentoo",
                    "Gentoo",
                    "Gentoo",
                    "Gentoo",
                    "Gentoo",
                    "Gentoo",
                    "Gentoo",
                    "Gentoo",
                    "Gentoo",
                    "Gentoo",
                    "Gentoo",
                    "Gentoo",
                    "Gentoo",
                    "Gentoo",
                    "Gentoo",
                    "Gentoo",
                    "Gentoo",
                    "Gentoo",
                    "Gentoo",
                    "Gentoo",
                    "Gentoo",
                    "Gentoo",
                    "Gentoo",
                    "Gentoo",
                    "Gentoo",
                    "Gentoo",
                    "Gentoo",
                    "Gentoo",
                    "Gentoo",
                    "Gentoo",
                    "Gentoo",
                    "Gentoo",
                    "Gentoo",
                    "Gentoo",
                    "Gentoo",
                    "Gentoo",
                    "Gentoo",
                    "Gentoo",
                    "Gentoo",
                    "Gentoo",
                    "Gentoo",
                    "Gentoo",
                    "Gentoo",
                    "Gentoo",
                    "Gentoo",
                    "Gentoo",
                    "Gentoo",
                    "Gentoo",
                    "Gentoo",
                    "Gentoo",
                    "Gentoo",
                    "Gentoo",
                    "Gentoo",
                    "Gentoo",
                    "Gentoo",
                    "Gentoo",
                    "Gentoo",
                    "Gentoo",
                    "Gentoo",
                    "Gentoo",
                    "Gentoo",
                    "Gentoo",
                    "Gentoo",
                    "Gentoo",
                    "Gentoo",
                    "Gentoo",
                    "Gentoo",
                    "Gentoo",
                    "Gentoo",
                    "Gentoo",
                    "Gentoo",
                    "Gentoo",
                    "Gentoo",
                    "Gentoo",
                    "Gentoo",
                    "Gentoo",
                    "Gentoo",
                    "Gentoo",
                    "Gentoo",
                    "Gentoo",
                    "Gentoo",
                    "Gentoo",
                    "Gentoo",
                    "Gentoo",
                    "Gentoo",
                    "Gentoo",
                    "Gentoo",
                    "Gentoo",
                    "Gentoo",
                    "Gentoo",
                    "Gentoo",
                    "Gentoo",
                    "Gentoo",
                    "Gentoo",
                    "Gentoo",
                    "Gentoo",
                    "Gentoo",
                    "Gentoo",
                    "Gentoo",
                    "Gentoo",
                    "Gentoo",
                    "Gentoo",
                    "Gentoo",
                    "Gentoo",
                    "Gentoo",
                    "Gentoo",
                    "Gentoo",
                    "Gentoo",
                    "Gentoo",
                    "Gentoo",
                    "Gentoo"
                  ],
                  "x0": " ",
                  "xaxis": "x",
                  "y": [
                    3750,
                    3800,
                    3250,
                    3450,
                    3650,
                    3625,
                    4675,
                    3475,
                    4250,
                    3300,
                    3700,
                    3200,
                    3800,
                    4400,
                    3700,
                    3450,
                    4500,
                    3325,
                    4200,
                    3400,
                    3600,
                    3800,
                    3950,
                    3800,
                    3800,
                    3550,
                    3200,
                    3150,
                    3950,
                    3250,
                    3900,
                    3300,
                    3900,
                    3325,
                    4150,
                    3950,
                    3550,
                    3300,
                    4650,
                    3150,
                    3900,
                    3100,
                    4400,
                    3000,
                    4600,
                    3425,
                    2975,
                    3450,
                    4150,
                    3500,
                    4300,
                    3450,
                    4050,
                    2900,
                    3700,
                    3550,
                    3800,
                    2850,
                    3750,
                    3150,
                    4400,
                    3600,
                    4050,
                    2850,
                    3950,
                    3350,
                    4100,
                    3050,
                    4450,
                    3600,
                    3900,
                    3550,
                    4150,
                    3700,
                    4250,
                    3700,
                    3900,
                    3550,
                    4000,
                    3200,
                    4700,
                    3800,
                    4200,
                    3350,
                    3550,
                    3800,
                    3500,
                    3950,
                    3600,
                    3550,
                    4300,
                    3400,
                    4450,
                    3300,
                    4300,
                    3700,
                    4350,
                    2900,
                    4100,
                    3725,
                    4725,
                    3075,
                    4250,
                    2925,
                    3550,
                    3750,
                    3900,
                    3175,
                    4775,
                    3825,
                    4600,
                    3200,
                    4275,
                    3900,
                    4075,
                    2900,
                    3775,
                    3350,
                    3325,
                    3150,
                    3500,
                    3450,
                    3875,
                    3050,
                    4000,
                    3275,
                    4300,
                    3050,
                    4000,
                    3325,
                    3500,
                    3500,
                    4475,
                    3425,
                    3900,
                    3175,
                    3975,
                    3400,
                    4250,
                    3400,
                    3475,
                    3050,
                    3725,
                    3000,
                    3650,
                    4250,
                    3475,
                    3450,
                    3750,
                    3700,
                    4000,
                    3500,
                    3900,
                    3650,
                    3525,
                    3725,
                    3950,
                    3250,
                    3750,
                    4150,
                    3700,
                    3800,
                    3775,
                    3700,
                    4050,
                    3575,
                    4050,
                    3300,
                    3700,
                    3450,
                    4400,
                    3600,
                    3400,
                    2900,
                    3800,
                    3300,
                    4150,
                    3400,
                    3800,
                    3700,
                    4550,
                    3200,
                    4300,
                    3350,
                    4100,
                    3600,
                    3900,
                    3850,
                    4800,
                    2700,
                    4500,
                    3950,
                    3650,
                    3550,
                    3500,
                    3675,
                    4450,
                    3400,
                    4300,
                    3250,
                    3675,
                    3325,
                    3950,
                    3600,
                    4050,
                    3350,
                    3450,
                    3250,
                    4050,
                    3800,
                    3525,
                    3950,
                    3650,
                    3650,
                    4000,
                    3400,
                    3775,
                    4100,
                    3775,
                    4500,
                    5700,
                    4450,
                    5700,
                    5400,
                    4550,
                    4800,
                    5200,
                    4400,
                    5150,
                    4650,
                    5550,
                    4650,
                    5850,
                    4200,
                    5850,
                    4150,
                    6300,
                    4800,
                    5350,
                    5700,
                    5000,
                    4400,
                    5050,
                    5000,
                    5100,
                    4100,
                    5650,
                    4600,
                    5550,
                    5250,
                    4700,
                    5050,
                    6050,
                    5150,
                    5400,
                    4950,
                    5250,
                    4350,
                    5350,
                    3950,
                    5700,
                    4300,
                    4750,
                    5550,
                    4900,
                    4200,
                    5400,
                    5100,
                    5300,
                    4850,
                    5300,
                    4400,
                    5000,
                    4900,
                    5050,
                    4300,
                    5000,
                    4450,
                    5550,
                    4200,
                    5300,
                    4400,
                    5650,
                    4700,
                    5700,
                    4650,
                    5800,
                    4700,
                    5550,
                    4750,
                    5000,
                    5100,
                    5200,
                    4700,
                    5800,
                    4600,
                    6000,
                    4750,
                    5950,
                    4625,
                    5450,
                    4725,
                    5350,
                    4750,
                    5600,
                    4600,
                    5300,
                    4875,
                    5550,
                    4950,
                    5400,
                    4750,
                    5650,
                    4850,
                    5200,
                    4925,
                    4875,
                    4625,
                    5250,
                    4850,
                    5600,
                    4975,
                    5500,
                    4725,
                    5500,
                    4700,
                    5500,
                    4575,
                    5500,
                    5000,
                    5950,
                    4650,
                    5500,
                    4375,
                    5850,
                    4875,
                    6000,
                    4925,
                    4850,
                    5750,
                    5200,
                    5400
                  ],
                  "y0": " ",
                  "yaxis": "y"
                }
              ],
              "layout": {
                "boxmode": "group",
                "legend": {
                  "tracegroupgap": 0
                },
                "margin": {
                  "t": 60
                },
                "template": {
                  "data": {
                    "bar": [
                      {
                        "error_x": {
                          "color": "#2a3f5f"
                        },
                        "error_y": {
                          "color": "#2a3f5f"
                        },
                        "marker": {
                          "line": {
                            "color": "#E5ECF6",
                            "width": 0.5
                          },
                          "pattern": {
                            "fillmode": "overlay",
                            "size": 10,
                            "solidity": 0.2
                          }
                        },
                        "type": "bar"
                      }
                    ],
                    "barpolar": [
                      {
                        "marker": {
                          "line": {
                            "color": "#E5ECF6",
                            "width": 0.5
                          },
                          "pattern": {
                            "fillmode": "overlay",
                            "size": 10,
                            "solidity": 0.2
                          }
                        },
                        "type": "barpolar"
                      }
                    ],
                    "carpet": [
                      {
                        "aaxis": {
                          "endlinecolor": "#2a3f5f",
                          "gridcolor": "white",
                          "linecolor": "white",
                          "minorgridcolor": "white",
                          "startlinecolor": "#2a3f5f"
                        },
                        "baxis": {
                          "endlinecolor": "#2a3f5f",
                          "gridcolor": "white",
                          "linecolor": "white",
                          "minorgridcolor": "white",
                          "startlinecolor": "#2a3f5f"
                        },
                        "type": "carpet"
                      }
                    ],
                    "choropleth": [
                      {
                        "colorbar": {
                          "outlinewidth": 0,
                          "ticks": ""
                        },
                        "type": "choropleth"
                      }
                    ],
                    "contour": [
                      {
                        "colorbar": {
                          "outlinewidth": 0,
                          "ticks": ""
                        },
                        "colorscale": [
                          [
                            0,
                            "#0d0887"
                          ],
                          [
                            0.1111111111111111,
                            "#46039f"
                          ],
                          [
                            0.2222222222222222,
                            "#7201a8"
                          ],
                          [
                            0.3333333333333333,
                            "#9c179e"
                          ],
                          [
                            0.4444444444444444,
                            "#bd3786"
                          ],
                          [
                            0.5555555555555556,
                            "#d8576b"
                          ],
                          [
                            0.6666666666666666,
                            "#ed7953"
                          ],
                          [
                            0.7777777777777778,
                            "#fb9f3a"
                          ],
                          [
                            0.8888888888888888,
                            "#fdca26"
                          ],
                          [
                            1,
                            "#f0f921"
                          ]
                        ],
                        "type": "contour"
                      }
                    ],
                    "contourcarpet": [
                      {
                        "colorbar": {
                          "outlinewidth": 0,
                          "ticks": ""
                        },
                        "type": "contourcarpet"
                      }
                    ],
                    "heatmap": [
                      {
                        "colorbar": {
                          "outlinewidth": 0,
                          "ticks": ""
                        },
                        "colorscale": [
                          [
                            0,
                            "#0d0887"
                          ],
                          [
                            0.1111111111111111,
                            "#46039f"
                          ],
                          [
                            0.2222222222222222,
                            "#7201a8"
                          ],
                          [
                            0.3333333333333333,
                            "#9c179e"
                          ],
                          [
                            0.4444444444444444,
                            "#bd3786"
                          ],
                          [
                            0.5555555555555556,
                            "#d8576b"
                          ],
                          [
                            0.6666666666666666,
                            "#ed7953"
                          ],
                          [
                            0.7777777777777778,
                            "#fb9f3a"
                          ],
                          [
                            0.8888888888888888,
                            "#fdca26"
                          ],
                          [
                            1,
                            "#f0f921"
                          ]
                        ],
                        "type": "heatmap"
                      }
                    ],
                    "heatmapgl": [
                      {
                        "colorbar": {
                          "outlinewidth": 0,
                          "ticks": ""
                        },
                        "colorscale": [
                          [
                            0,
                            "#0d0887"
                          ],
                          [
                            0.1111111111111111,
                            "#46039f"
                          ],
                          [
                            0.2222222222222222,
                            "#7201a8"
                          ],
                          [
                            0.3333333333333333,
                            "#9c179e"
                          ],
                          [
                            0.4444444444444444,
                            "#bd3786"
                          ],
                          [
                            0.5555555555555556,
                            "#d8576b"
                          ],
                          [
                            0.6666666666666666,
                            "#ed7953"
                          ],
                          [
                            0.7777777777777778,
                            "#fb9f3a"
                          ],
                          [
                            0.8888888888888888,
                            "#fdca26"
                          ],
                          [
                            1,
                            "#f0f921"
                          ]
                        ],
                        "type": "heatmapgl"
                      }
                    ],
                    "histogram": [
                      {
                        "marker": {
                          "pattern": {
                            "fillmode": "overlay",
                            "size": 10,
                            "solidity": 0.2
                          }
                        },
                        "type": "histogram"
                      }
                    ],
                    "histogram2d": [
                      {
                        "colorbar": {
                          "outlinewidth": 0,
                          "ticks": ""
                        },
                        "colorscale": [
                          [
                            0,
                            "#0d0887"
                          ],
                          [
                            0.1111111111111111,
                            "#46039f"
                          ],
                          [
                            0.2222222222222222,
                            "#7201a8"
                          ],
                          [
                            0.3333333333333333,
                            "#9c179e"
                          ],
                          [
                            0.4444444444444444,
                            "#bd3786"
                          ],
                          [
                            0.5555555555555556,
                            "#d8576b"
                          ],
                          [
                            0.6666666666666666,
                            "#ed7953"
                          ],
                          [
                            0.7777777777777778,
                            "#fb9f3a"
                          ],
                          [
                            0.8888888888888888,
                            "#fdca26"
                          ],
                          [
                            1,
                            "#f0f921"
                          ]
                        ],
                        "type": "histogram2d"
                      }
                    ],
                    "histogram2dcontour": [
                      {
                        "colorbar": {
                          "outlinewidth": 0,
                          "ticks": ""
                        },
                        "colorscale": [
                          [
                            0,
                            "#0d0887"
                          ],
                          [
                            0.1111111111111111,
                            "#46039f"
                          ],
                          [
                            0.2222222222222222,
                            "#7201a8"
                          ],
                          [
                            0.3333333333333333,
                            "#9c179e"
                          ],
                          [
                            0.4444444444444444,
                            "#bd3786"
                          ],
                          [
                            0.5555555555555556,
                            "#d8576b"
                          ],
                          [
                            0.6666666666666666,
                            "#ed7953"
                          ],
                          [
                            0.7777777777777778,
                            "#fb9f3a"
                          ],
                          [
                            0.8888888888888888,
                            "#fdca26"
                          ],
                          [
                            1,
                            "#f0f921"
                          ]
                        ],
                        "type": "histogram2dcontour"
                      }
                    ],
                    "mesh3d": [
                      {
                        "colorbar": {
                          "outlinewidth": 0,
                          "ticks": ""
                        },
                        "type": "mesh3d"
                      }
                    ],
                    "parcoords": [
                      {
                        "line": {
                          "colorbar": {
                            "outlinewidth": 0,
                            "ticks": ""
                          }
                        },
                        "type": "parcoords"
                      }
                    ],
                    "pie": [
                      {
                        "automargin": true,
                        "type": "pie"
                      }
                    ],
                    "scatter": [
                      {
                        "fillpattern": {
                          "fillmode": "overlay",
                          "size": 10,
                          "solidity": 0.2
                        },
                        "type": "scatter"
                      }
                    ],
                    "scatter3d": [
                      {
                        "line": {
                          "colorbar": {
                            "outlinewidth": 0,
                            "ticks": ""
                          }
                        },
                        "marker": {
                          "colorbar": {
                            "outlinewidth": 0,
                            "ticks": ""
                          }
                        },
                        "type": "scatter3d"
                      }
                    ],
                    "scattercarpet": [
                      {
                        "marker": {
                          "colorbar": {
                            "outlinewidth": 0,
                            "ticks": ""
                          }
                        },
                        "type": "scattercarpet"
                      }
                    ],
                    "scattergeo": [
                      {
                        "marker": {
                          "colorbar": {
                            "outlinewidth": 0,
                            "ticks": ""
                          }
                        },
                        "type": "scattergeo"
                      }
                    ],
                    "scattergl": [
                      {
                        "marker": {
                          "colorbar": {
                            "outlinewidth": 0,
                            "ticks": ""
                          }
                        },
                        "type": "scattergl"
                      }
                    ],
                    "scattermapbox": [
                      {
                        "marker": {
                          "colorbar": {
                            "outlinewidth": 0,
                            "ticks": ""
                          }
                        },
                        "type": "scattermapbox"
                      }
                    ],
                    "scatterpolar": [
                      {
                        "marker": {
                          "colorbar": {
                            "outlinewidth": 0,
                            "ticks": ""
                          }
                        },
                        "type": "scatterpolar"
                      }
                    ],
                    "scatterpolargl": [
                      {
                        "marker": {
                          "colorbar": {
                            "outlinewidth": 0,
                            "ticks": ""
                          }
                        },
                        "type": "scatterpolargl"
                      }
                    ],
                    "scatterternary": [
                      {
                        "marker": {
                          "colorbar": {
                            "outlinewidth": 0,
                            "ticks": ""
                          }
                        },
                        "type": "scatterternary"
                      }
                    ],
                    "surface": [
                      {
                        "colorbar": {
                          "outlinewidth": 0,
                          "ticks": ""
                        },
                        "colorscale": [
                          [
                            0,
                            "#0d0887"
                          ],
                          [
                            0.1111111111111111,
                            "#46039f"
                          ],
                          [
                            0.2222222222222222,
                            "#7201a8"
                          ],
                          [
                            0.3333333333333333,
                            "#9c179e"
                          ],
                          [
                            0.4444444444444444,
                            "#bd3786"
                          ],
                          [
                            0.5555555555555556,
                            "#d8576b"
                          ],
                          [
                            0.6666666666666666,
                            "#ed7953"
                          ],
                          [
                            0.7777777777777778,
                            "#fb9f3a"
                          ],
                          [
                            0.8888888888888888,
                            "#fdca26"
                          ],
                          [
                            1,
                            "#f0f921"
                          ]
                        ],
                        "type": "surface"
                      }
                    ],
                    "table": [
                      {
                        "cells": {
                          "fill": {
                            "color": "#EBF0F8"
                          },
                          "line": {
                            "color": "white"
                          }
                        },
                        "header": {
                          "fill": {
                            "color": "#C8D4E3"
                          },
                          "line": {
                            "color": "white"
                          }
                        },
                        "type": "table"
                      }
                    ]
                  },
                  "layout": {
                    "annotationdefaults": {
                      "arrowcolor": "#2a3f5f",
                      "arrowhead": 0,
                      "arrowwidth": 1
                    },
                    "autotypenumbers": "strict",
                    "coloraxis": {
                      "colorbar": {
                        "outlinewidth": 0,
                        "ticks": ""
                      }
                    },
                    "colorscale": {
                      "diverging": [
                        [
                          0,
                          "#8e0152"
                        ],
                        [
                          0.1,
                          "#c51b7d"
                        ],
                        [
                          0.2,
                          "#de77ae"
                        ],
                        [
                          0.3,
                          "#f1b6da"
                        ],
                        [
                          0.4,
                          "#fde0ef"
                        ],
                        [
                          0.5,
                          "#f7f7f7"
                        ],
                        [
                          0.6,
                          "#e6f5d0"
                        ],
                        [
                          0.7,
                          "#b8e186"
                        ],
                        [
                          0.8,
                          "#7fbc41"
                        ],
                        [
                          0.9,
                          "#4d9221"
                        ],
                        [
                          1,
                          "#276419"
                        ]
                      ],
                      "sequential": [
                        [
                          0,
                          "#0d0887"
                        ],
                        [
                          0.1111111111111111,
                          "#46039f"
                        ],
                        [
                          0.2222222222222222,
                          "#7201a8"
                        ],
                        [
                          0.3333333333333333,
                          "#9c179e"
                        ],
                        [
                          0.4444444444444444,
                          "#bd3786"
                        ],
                        [
                          0.5555555555555556,
                          "#d8576b"
                        ],
                        [
                          0.6666666666666666,
                          "#ed7953"
                        ],
                        [
                          0.7777777777777778,
                          "#fb9f3a"
                        ],
                        [
                          0.8888888888888888,
                          "#fdca26"
                        ],
                        [
                          1,
                          "#f0f921"
                        ]
                      ],
                      "sequentialminus": [
                        [
                          0,
                          "#0d0887"
                        ],
                        [
                          0.1111111111111111,
                          "#46039f"
                        ],
                        [
                          0.2222222222222222,
                          "#7201a8"
                        ],
                        [
                          0.3333333333333333,
                          "#9c179e"
                        ],
                        [
                          0.4444444444444444,
                          "#bd3786"
                        ],
                        [
                          0.5555555555555556,
                          "#d8576b"
                        ],
                        [
                          0.6666666666666666,
                          "#ed7953"
                        ],
                        [
                          0.7777777777777778,
                          "#fb9f3a"
                        ],
                        [
                          0.8888888888888888,
                          "#fdca26"
                        ],
                        [
                          1,
                          "#f0f921"
                        ]
                      ]
                    },
                    "colorway": [
                      "#636efa",
                      "#EF553B",
                      "#00cc96",
                      "#ab63fa",
                      "#FFA15A",
                      "#19d3f3",
                      "#FF6692",
                      "#B6E880",
                      "#FF97FF",
                      "#FECB52"
                    ],
                    "font": {
                      "color": "#2a3f5f"
                    },
                    "geo": {
                      "bgcolor": "white",
                      "lakecolor": "white",
                      "landcolor": "#E5ECF6",
                      "showlakes": true,
                      "showland": true,
                      "subunitcolor": "white"
                    },
                    "hoverlabel": {
                      "align": "left"
                    },
                    "hovermode": "closest",
                    "mapbox": {
                      "style": "light"
                    },
                    "paper_bgcolor": "white",
                    "plot_bgcolor": "#E5ECF6",
                    "polar": {
                      "angularaxis": {
                        "gridcolor": "white",
                        "linecolor": "white",
                        "ticks": ""
                      },
                      "bgcolor": "#E5ECF6",
                      "radialaxis": {
                        "gridcolor": "white",
                        "linecolor": "white",
                        "ticks": ""
                      }
                    },
                    "scene": {
                      "xaxis": {
                        "backgroundcolor": "#E5ECF6",
                        "gridcolor": "white",
                        "gridwidth": 2,
                        "linecolor": "white",
                        "showbackground": true,
                        "ticks": "",
                        "zerolinecolor": "white"
                      },
                      "yaxis": {
                        "backgroundcolor": "#E5ECF6",
                        "gridcolor": "white",
                        "gridwidth": 2,
                        "linecolor": "white",
                        "showbackground": true,
                        "ticks": "",
                        "zerolinecolor": "white"
                      },
                      "zaxis": {
                        "backgroundcolor": "#E5ECF6",
                        "gridcolor": "white",
                        "gridwidth": 2,
                        "linecolor": "white",
                        "showbackground": true,
                        "ticks": "",
                        "zerolinecolor": "white"
                      }
                    },
                    "shapedefaults": {
                      "line": {
                        "color": "#2a3f5f"
                      }
                    },
                    "ternary": {
                      "aaxis": {
                        "gridcolor": "white",
                        "linecolor": "white",
                        "ticks": ""
                      },
                      "baxis": {
                        "gridcolor": "white",
                        "linecolor": "white",
                        "ticks": ""
                      },
                      "bgcolor": "#E5ECF6",
                      "caxis": {
                        "gridcolor": "white",
                        "linecolor": "white",
                        "ticks": ""
                      }
                    },
                    "title": {
                      "x": 0.05
                    },
                    "xaxis": {
                      "automargin": true,
                      "gridcolor": "white",
                      "linecolor": "white",
                      "ticks": "",
                      "title": {
                        "standoff": 15
                      },
                      "zerolinecolor": "white",
                      "zerolinewidth": 2
                    },
                    "yaxis": {
                      "automargin": true,
                      "gridcolor": "white",
                      "linecolor": "white",
                      "ticks": "",
                      "title": {
                        "standoff": 15
                      },
                      "zerolinecolor": "white",
                      "zerolinewidth": 2
                    }
                  }
                },
                "xaxis": {
                  "anchor": "y",
                  "domain": [
                    0,
                    1
                  ],
                  "title": {
                    "text": "species"
                  }
                },
                "yaxis": {
                  "anchor": "x",
                  "domain": [
                    0,
                    1
                  ],
                  "title": {
                    "text": "body_mass_g"
                  }
                }
              }
            }
          },
          "metadata": {},
          "output_type": "display_data"
        }
      ],
      "source": [
        "# Which Specie Have High Body Mass\n",
        "fig = px.box(df , x=\"species\" , y=\"body_mass_g\")\n",
        "fig.show()"
      ]
    },
    {
      "cell_type": "markdown",
      "metadata": {
        "id": "0CjdsxSdUf6y"
      },
      "source": [
        "- Here We Can See `Gentoo` Have High Body Mass And `Adelie` Have Lowest Body Mass"
      ]
    },
    {
      "cell_type": "markdown",
      "metadata": {},
      "source": [
        "## 2. Now Lets See On Hightest And Lowest Body Mass Species is Male Or Female"
      ]
    },
    {
      "cell_type": "code",
      "execution_count": 60,
      "metadata": {
        "colab": {
          "base_uri": "https://localhost:8080/",
          "height": 542
        },
        "id": "L0-9ChabUurx",
        "outputId": "fad615b7-d91a-4a01-b98d-e3735a4282ac"
      },
      "outputs": [
        {
          "data": {
            "application/vnd.plotly.v1+json": {
              "config": {
                "plotlyServerURL": "https://plot.ly"
              },
              "data": [
                {
                  "alignmentgroup": "True",
                  "hovertemplate": "sex=Male<br>species=%{x}<br>body_mass_g=%{y}<extra></extra>",
                  "legendgroup": "Male",
                  "marker": {
                    "color": "#636efa"
                  },
                  "name": "Male",
                  "notched": false,
                  "offsetgroup": "Male",
                  "orientation": "v",
                  "showlegend": true,
                  "type": "box",
                  "x": [
                    "Adelie",
                    "Adelie",
                    "Adelie",
                    "Adelie",
                    "Adelie",
                    "Adelie",
                    "Adelie",
                    "Adelie",
                    "Adelie",
                    "Adelie",
                    "Adelie",
                    "Adelie",
                    "Adelie",
                    "Adelie",
                    "Adelie",
                    "Adelie",
                    "Adelie",
                    "Adelie",
                    "Adelie",
                    "Adelie",
                    "Adelie",
                    "Adelie",
                    "Adelie",
                    "Adelie",
                    "Adelie",
                    "Adelie",
                    "Adelie",
                    "Adelie",
                    "Adelie",
                    "Adelie",
                    "Adelie",
                    "Adelie",
                    "Adelie",
                    "Adelie",
                    "Adelie",
                    "Adelie",
                    "Adelie",
                    "Adelie",
                    "Adelie",
                    "Adelie",
                    "Adelie",
                    "Adelie",
                    "Adelie",
                    "Adelie",
                    "Adelie",
                    "Adelie",
                    "Adelie",
                    "Adelie",
                    "Adelie",
                    "Adelie",
                    "Adelie",
                    "Adelie",
                    "Adelie",
                    "Adelie",
                    "Adelie",
                    "Adelie",
                    "Adelie",
                    "Adelie",
                    "Adelie",
                    "Adelie",
                    "Adelie",
                    "Adelie",
                    "Adelie",
                    "Adelie",
                    "Adelie",
                    "Adelie",
                    "Adelie",
                    "Adelie",
                    "Adelie",
                    "Adelie",
                    "Adelie",
                    "Adelie",
                    "Adelie",
                    "Adelie",
                    "Adelie",
                    "Adelie",
                    "Adelie",
                    "Adelie",
                    "Chinstrap",
                    "Chinstrap",
                    "Chinstrap",
                    "Chinstrap",
                    "Chinstrap",
                    "Chinstrap",
                    "Chinstrap",
                    "Chinstrap",
                    "Chinstrap",
                    "Chinstrap",
                    "Chinstrap",
                    "Chinstrap",
                    "Chinstrap",
                    "Chinstrap",
                    "Chinstrap",
                    "Chinstrap",
                    "Chinstrap",
                    "Chinstrap",
                    "Chinstrap",
                    "Chinstrap",
                    "Chinstrap",
                    "Chinstrap",
                    "Chinstrap",
                    "Chinstrap",
                    "Chinstrap",
                    "Chinstrap",
                    "Chinstrap",
                    "Chinstrap",
                    "Chinstrap",
                    "Chinstrap",
                    "Chinstrap",
                    "Chinstrap",
                    "Chinstrap",
                    "Chinstrap",
                    "Gentoo",
                    "Gentoo",
                    "Gentoo",
                    "Gentoo",
                    "Gentoo",
                    "Gentoo",
                    "Gentoo",
                    "Gentoo",
                    "Gentoo",
                    "Gentoo",
                    "Gentoo",
                    "Gentoo",
                    "Gentoo",
                    "Gentoo",
                    "Gentoo",
                    "Gentoo",
                    "Gentoo",
                    "Gentoo",
                    "Gentoo",
                    "Gentoo",
                    "Gentoo",
                    "Gentoo",
                    "Gentoo",
                    "Gentoo",
                    "Gentoo",
                    "Gentoo",
                    "Gentoo",
                    "Gentoo",
                    "Gentoo",
                    "Gentoo",
                    "Gentoo",
                    "Gentoo",
                    "Gentoo",
                    "Gentoo",
                    "Gentoo",
                    "Gentoo",
                    "Gentoo",
                    "Gentoo",
                    "Gentoo",
                    "Gentoo",
                    "Gentoo",
                    "Gentoo",
                    "Gentoo",
                    "Gentoo",
                    "Gentoo",
                    "Gentoo",
                    "Gentoo",
                    "Gentoo",
                    "Gentoo",
                    "Gentoo",
                    "Gentoo",
                    "Gentoo",
                    "Gentoo",
                    "Gentoo",
                    "Gentoo",
                    "Gentoo",
                    "Gentoo",
                    "Gentoo",
                    "Gentoo",
                    "Gentoo",
                    "Gentoo",
                    "Gentoo",
                    "Gentoo",
                    "Gentoo",
                    "Gentoo"
                  ],
                  "x0": " ",
                  "xaxis": "x",
                  "y": [
                    3750,
                    3650,
                    4675,
                    3475,
                    4250,
                    3300,
                    3700,
                    3800,
                    4400,
                    4500,
                    4200,
                    3600,
                    3950,
                    3800,
                    3550,
                    3950,
                    3900,
                    3900,
                    4150,
                    3950,
                    4650,
                    3900,
                    4400,
                    4600,
                    3425,
                    2975,
                    4150,
                    4300,
                    4050,
                    3700,
                    3800,
                    3750,
                    4400,
                    4050,
                    3950,
                    4100,
                    4450,
                    3900,
                    4150,
                    4250,
                    3900,
                    4000,
                    4700,
                    4200,
                    3550,
                    3800,
                    3950,
                    4300,
                    4450,
                    4300,
                    4350,
                    4100,
                    4725,
                    4250,
                    3550,
                    3900,
                    4775,
                    4600,
                    4275,
                    4075,
                    3775,
                    3325,
                    3500,
                    3875,
                    4000,
                    4300,
                    4000,
                    3500,
                    4475,
                    3900,
                    3975,
                    4250,
                    3475,
                    3725,
                    3650,
                    4250,
                    3750,
                    4000,
                    3900,
                    3650,
                    3725,
                    3750,
                    3700,
                    3775,
                    4050,
                    4050,
                    3300,
                    4400,
                    3400,
                    3800,
                    4150,
                    3800,
                    4550,
                    4300,
                    4100,
                    3600,
                    4800,
                    4500,
                    3950,
                    3550,
                    4450,
                    4300,
                    3250,
                    3950,
                    4050,
                    3450,
                    4050,
                    3800,
                    3950,
                    4000,
                    3775,
                    4100,
                    5700,
                    5700,
                    5400,
                    5200,
                    5150,
                    5550,
                    5850,
                    5850,
                    6300,
                    5350,
                    5700,
                    5050,
                    5100,
                    4100,
                    5650,
                    5550,
                    5250,
                    6050,
                    5400,
                    5250,
                    5350,
                    5700,
                    4750,
                    5550,
                    5400,
                    5300,
                    5300,
                    5000,
                    5050,
                    5000,
                    5550,
                    5300,
                    5650,
                    5700,
                    4650,
                    5800,
                    5550,
                    5000,
                    5100,
                    5800,
                    6000,
                    5950,
                    5450,
                    5350,
                    5600,
                    5300,
                    5550,
                    5400,
                    5650,
                    5200,
                    4925,
                    5250,
                    5600,
                    5500,
                    4725,
                    5500,
                    5500,
                    5500,
                    5950,
                    5500,
                    5850,
                    4875,
                    6000,
                    5750,
                    5400
                  ],
                  "y0": " ",
                  "yaxis": "y"
                },
                {
                  "alignmentgroup": "True",
                  "hovertemplate": "sex=Female<br>species=%{x}<br>body_mass_g=%{y}<extra></extra>",
                  "legendgroup": "Female",
                  "marker": {
                    "color": "#EF553B"
                  },
                  "name": "Female",
                  "notched": false,
                  "offsetgroup": "Female",
                  "orientation": "v",
                  "showlegend": true,
                  "type": "box",
                  "x": [
                    "Adelie",
                    "Adelie",
                    "Adelie",
                    "Adelie",
                    "Adelie",
                    "Adelie",
                    "Adelie",
                    "Adelie",
                    "Adelie",
                    "Adelie",
                    "Adelie",
                    "Adelie",
                    "Adelie",
                    "Adelie",
                    "Adelie",
                    "Adelie",
                    "Adelie",
                    "Adelie",
                    "Adelie",
                    "Adelie",
                    "Adelie",
                    "Adelie",
                    "Adelie",
                    "Adelie",
                    "Adelie",
                    "Adelie",
                    "Adelie",
                    "Adelie",
                    "Adelie",
                    "Adelie",
                    "Adelie",
                    "Adelie",
                    "Adelie",
                    "Adelie",
                    "Adelie",
                    "Adelie",
                    "Adelie",
                    "Adelie",
                    "Adelie",
                    "Adelie",
                    "Adelie",
                    "Adelie",
                    "Adelie",
                    "Adelie",
                    "Adelie",
                    "Adelie",
                    "Adelie",
                    "Adelie",
                    "Adelie",
                    "Adelie",
                    "Adelie",
                    "Adelie",
                    "Adelie",
                    "Adelie",
                    "Adelie",
                    "Adelie",
                    "Adelie",
                    "Adelie",
                    "Adelie",
                    "Adelie",
                    "Adelie",
                    "Adelie",
                    "Adelie",
                    "Adelie",
                    "Adelie",
                    "Adelie",
                    "Adelie",
                    "Adelie",
                    "Adelie",
                    "Adelie",
                    "Adelie",
                    "Adelie",
                    "Adelie",
                    "Chinstrap",
                    "Chinstrap",
                    "Chinstrap",
                    "Chinstrap",
                    "Chinstrap",
                    "Chinstrap",
                    "Chinstrap",
                    "Chinstrap",
                    "Chinstrap",
                    "Chinstrap",
                    "Chinstrap",
                    "Chinstrap",
                    "Chinstrap",
                    "Chinstrap",
                    "Chinstrap",
                    "Chinstrap",
                    "Chinstrap",
                    "Chinstrap",
                    "Chinstrap",
                    "Chinstrap",
                    "Chinstrap",
                    "Chinstrap",
                    "Chinstrap",
                    "Chinstrap",
                    "Chinstrap",
                    "Chinstrap",
                    "Chinstrap",
                    "Chinstrap",
                    "Chinstrap",
                    "Chinstrap",
                    "Chinstrap",
                    "Chinstrap",
                    "Chinstrap",
                    "Chinstrap",
                    "Gentoo",
                    "Gentoo",
                    "Gentoo",
                    "Gentoo",
                    "Gentoo",
                    "Gentoo",
                    "Gentoo",
                    "Gentoo",
                    "Gentoo",
                    "Gentoo",
                    "Gentoo",
                    "Gentoo",
                    "Gentoo",
                    "Gentoo",
                    "Gentoo",
                    "Gentoo",
                    "Gentoo",
                    "Gentoo",
                    "Gentoo",
                    "Gentoo",
                    "Gentoo",
                    "Gentoo",
                    "Gentoo",
                    "Gentoo",
                    "Gentoo",
                    "Gentoo",
                    "Gentoo",
                    "Gentoo",
                    "Gentoo",
                    "Gentoo",
                    "Gentoo",
                    "Gentoo",
                    "Gentoo",
                    "Gentoo",
                    "Gentoo",
                    "Gentoo",
                    "Gentoo",
                    "Gentoo",
                    "Gentoo",
                    "Gentoo",
                    "Gentoo",
                    "Gentoo",
                    "Gentoo",
                    "Gentoo",
                    "Gentoo",
                    "Gentoo",
                    "Gentoo",
                    "Gentoo",
                    "Gentoo",
                    "Gentoo",
                    "Gentoo",
                    "Gentoo",
                    "Gentoo",
                    "Gentoo",
                    "Gentoo",
                    "Gentoo",
                    "Gentoo",
                    "Gentoo"
                  ],
                  "x0": " ",
                  "xaxis": "x",
                  "y": [
                    3800,
                    3250,
                    3450,
                    3625,
                    3200,
                    3700,
                    3450,
                    3325,
                    3400,
                    3800,
                    3800,
                    3200,
                    3150,
                    3250,
                    3300,
                    3325,
                    3550,
                    3300,
                    3150,
                    3100,
                    3000,
                    3450,
                    3500,
                    3450,
                    2900,
                    3550,
                    2850,
                    3150,
                    3600,
                    2850,
                    3350,
                    3050,
                    3600,
                    3550,
                    3700,
                    3700,
                    3550,
                    3200,
                    3800,
                    3350,
                    3500,
                    3600,
                    3550,
                    3400,
                    3300,
                    3700,
                    2900,
                    3725,
                    3075,
                    2925,
                    3750,
                    3175,
                    3825,
                    3200,
                    3900,
                    2900,
                    3350,
                    3150,
                    3450,
                    3050,
                    3275,
                    3050,
                    3325,
                    3500,
                    3425,
                    3175,
                    3400,
                    3400,
                    3050,
                    3000,
                    3475,
                    3450,
                    3700,
                    3500,
                    3525,
                    3950,
                    3250,
                    4150,
                    3800,
                    3700,
                    3575,
                    3700,
                    3450,
                    3600,
                    2900,
                    3300,
                    3400,
                    3700,
                    3200,
                    3350,
                    3900,
                    3850,
                    2700,
                    3650,
                    3500,
                    3675,
                    3400,
                    3675,
                    3325,
                    3600,
                    3350,
                    3250,
                    3525,
                    3650,
                    3650,
                    3400,
                    3775,
                    4500,
                    4450,
                    4550,
                    4800,
                    4400,
                    4650,
                    4650,
                    4200,
                    4150,
                    4800,
                    5000,
                    4400,
                    5000,
                    4600,
                    4700,
                    5050,
                    5150,
                    4950,
                    4350,
                    3950,
                    4300,
                    4900,
                    4200,
                    5100,
                    4850,
                    4400,
                    4900,
                    4300,
                    4450,
                    4200,
                    4400,
                    4700,
                    4700,
                    4750,
                    5200,
                    4700,
                    4600,
                    4750,
                    4625,
                    4725,
                    4750,
                    4600,
                    4875,
                    4950,
                    4750,
                    4850,
                    4875,
                    4625,
                    4850,
                    4975,
                    4700,
                    4575,
                    5000,
                    4650,
                    4375,
                    4925,
                    4850,
                    5200
                  ],
                  "y0": " ",
                  "yaxis": "y"
                }
              ],
              "layout": {
                "boxmode": "group",
                "legend": {
                  "title": {
                    "text": "sex"
                  },
                  "tracegroupgap": 0
                },
                "margin": {
                  "t": 60
                },
                "template": {
                  "data": {
                    "bar": [
                      {
                        "error_x": {
                          "color": "#2a3f5f"
                        },
                        "error_y": {
                          "color": "#2a3f5f"
                        },
                        "marker": {
                          "line": {
                            "color": "#E5ECF6",
                            "width": 0.5
                          },
                          "pattern": {
                            "fillmode": "overlay",
                            "size": 10,
                            "solidity": 0.2
                          }
                        },
                        "type": "bar"
                      }
                    ],
                    "barpolar": [
                      {
                        "marker": {
                          "line": {
                            "color": "#E5ECF6",
                            "width": 0.5
                          },
                          "pattern": {
                            "fillmode": "overlay",
                            "size": 10,
                            "solidity": 0.2
                          }
                        },
                        "type": "barpolar"
                      }
                    ],
                    "carpet": [
                      {
                        "aaxis": {
                          "endlinecolor": "#2a3f5f",
                          "gridcolor": "white",
                          "linecolor": "white",
                          "minorgridcolor": "white",
                          "startlinecolor": "#2a3f5f"
                        },
                        "baxis": {
                          "endlinecolor": "#2a3f5f",
                          "gridcolor": "white",
                          "linecolor": "white",
                          "minorgridcolor": "white",
                          "startlinecolor": "#2a3f5f"
                        },
                        "type": "carpet"
                      }
                    ],
                    "choropleth": [
                      {
                        "colorbar": {
                          "outlinewidth": 0,
                          "ticks": ""
                        },
                        "type": "choropleth"
                      }
                    ],
                    "contour": [
                      {
                        "colorbar": {
                          "outlinewidth": 0,
                          "ticks": ""
                        },
                        "colorscale": [
                          [
                            0,
                            "#0d0887"
                          ],
                          [
                            0.1111111111111111,
                            "#46039f"
                          ],
                          [
                            0.2222222222222222,
                            "#7201a8"
                          ],
                          [
                            0.3333333333333333,
                            "#9c179e"
                          ],
                          [
                            0.4444444444444444,
                            "#bd3786"
                          ],
                          [
                            0.5555555555555556,
                            "#d8576b"
                          ],
                          [
                            0.6666666666666666,
                            "#ed7953"
                          ],
                          [
                            0.7777777777777778,
                            "#fb9f3a"
                          ],
                          [
                            0.8888888888888888,
                            "#fdca26"
                          ],
                          [
                            1,
                            "#f0f921"
                          ]
                        ],
                        "type": "contour"
                      }
                    ],
                    "contourcarpet": [
                      {
                        "colorbar": {
                          "outlinewidth": 0,
                          "ticks": ""
                        },
                        "type": "contourcarpet"
                      }
                    ],
                    "heatmap": [
                      {
                        "colorbar": {
                          "outlinewidth": 0,
                          "ticks": ""
                        },
                        "colorscale": [
                          [
                            0,
                            "#0d0887"
                          ],
                          [
                            0.1111111111111111,
                            "#46039f"
                          ],
                          [
                            0.2222222222222222,
                            "#7201a8"
                          ],
                          [
                            0.3333333333333333,
                            "#9c179e"
                          ],
                          [
                            0.4444444444444444,
                            "#bd3786"
                          ],
                          [
                            0.5555555555555556,
                            "#d8576b"
                          ],
                          [
                            0.6666666666666666,
                            "#ed7953"
                          ],
                          [
                            0.7777777777777778,
                            "#fb9f3a"
                          ],
                          [
                            0.8888888888888888,
                            "#fdca26"
                          ],
                          [
                            1,
                            "#f0f921"
                          ]
                        ],
                        "type": "heatmap"
                      }
                    ],
                    "heatmapgl": [
                      {
                        "colorbar": {
                          "outlinewidth": 0,
                          "ticks": ""
                        },
                        "colorscale": [
                          [
                            0,
                            "#0d0887"
                          ],
                          [
                            0.1111111111111111,
                            "#46039f"
                          ],
                          [
                            0.2222222222222222,
                            "#7201a8"
                          ],
                          [
                            0.3333333333333333,
                            "#9c179e"
                          ],
                          [
                            0.4444444444444444,
                            "#bd3786"
                          ],
                          [
                            0.5555555555555556,
                            "#d8576b"
                          ],
                          [
                            0.6666666666666666,
                            "#ed7953"
                          ],
                          [
                            0.7777777777777778,
                            "#fb9f3a"
                          ],
                          [
                            0.8888888888888888,
                            "#fdca26"
                          ],
                          [
                            1,
                            "#f0f921"
                          ]
                        ],
                        "type": "heatmapgl"
                      }
                    ],
                    "histogram": [
                      {
                        "marker": {
                          "pattern": {
                            "fillmode": "overlay",
                            "size": 10,
                            "solidity": 0.2
                          }
                        },
                        "type": "histogram"
                      }
                    ],
                    "histogram2d": [
                      {
                        "colorbar": {
                          "outlinewidth": 0,
                          "ticks": ""
                        },
                        "colorscale": [
                          [
                            0,
                            "#0d0887"
                          ],
                          [
                            0.1111111111111111,
                            "#46039f"
                          ],
                          [
                            0.2222222222222222,
                            "#7201a8"
                          ],
                          [
                            0.3333333333333333,
                            "#9c179e"
                          ],
                          [
                            0.4444444444444444,
                            "#bd3786"
                          ],
                          [
                            0.5555555555555556,
                            "#d8576b"
                          ],
                          [
                            0.6666666666666666,
                            "#ed7953"
                          ],
                          [
                            0.7777777777777778,
                            "#fb9f3a"
                          ],
                          [
                            0.8888888888888888,
                            "#fdca26"
                          ],
                          [
                            1,
                            "#f0f921"
                          ]
                        ],
                        "type": "histogram2d"
                      }
                    ],
                    "histogram2dcontour": [
                      {
                        "colorbar": {
                          "outlinewidth": 0,
                          "ticks": ""
                        },
                        "colorscale": [
                          [
                            0,
                            "#0d0887"
                          ],
                          [
                            0.1111111111111111,
                            "#46039f"
                          ],
                          [
                            0.2222222222222222,
                            "#7201a8"
                          ],
                          [
                            0.3333333333333333,
                            "#9c179e"
                          ],
                          [
                            0.4444444444444444,
                            "#bd3786"
                          ],
                          [
                            0.5555555555555556,
                            "#d8576b"
                          ],
                          [
                            0.6666666666666666,
                            "#ed7953"
                          ],
                          [
                            0.7777777777777778,
                            "#fb9f3a"
                          ],
                          [
                            0.8888888888888888,
                            "#fdca26"
                          ],
                          [
                            1,
                            "#f0f921"
                          ]
                        ],
                        "type": "histogram2dcontour"
                      }
                    ],
                    "mesh3d": [
                      {
                        "colorbar": {
                          "outlinewidth": 0,
                          "ticks": ""
                        },
                        "type": "mesh3d"
                      }
                    ],
                    "parcoords": [
                      {
                        "line": {
                          "colorbar": {
                            "outlinewidth": 0,
                            "ticks": ""
                          }
                        },
                        "type": "parcoords"
                      }
                    ],
                    "pie": [
                      {
                        "automargin": true,
                        "type": "pie"
                      }
                    ],
                    "scatter": [
                      {
                        "fillpattern": {
                          "fillmode": "overlay",
                          "size": 10,
                          "solidity": 0.2
                        },
                        "type": "scatter"
                      }
                    ],
                    "scatter3d": [
                      {
                        "line": {
                          "colorbar": {
                            "outlinewidth": 0,
                            "ticks": ""
                          }
                        },
                        "marker": {
                          "colorbar": {
                            "outlinewidth": 0,
                            "ticks": ""
                          }
                        },
                        "type": "scatter3d"
                      }
                    ],
                    "scattercarpet": [
                      {
                        "marker": {
                          "colorbar": {
                            "outlinewidth": 0,
                            "ticks": ""
                          }
                        },
                        "type": "scattercarpet"
                      }
                    ],
                    "scattergeo": [
                      {
                        "marker": {
                          "colorbar": {
                            "outlinewidth": 0,
                            "ticks": ""
                          }
                        },
                        "type": "scattergeo"
                      }
                    ],
                    "scattergl": [
                      {
                        "marker": {
                          "colorbar": {
                            "outlinewidth": 0,
                            "ticks": ""
                          }
                        },
                        "type": "scattergl"
                      }
                    ],
                    "scattermapbox": [
                      {
                        "marker": {
                          "colorbar": {
                            "outlinewidth": 0,
                            "ticks": ""
                          }
                        },
                        "type": "scattermapbox"
                      }
                    ],
                    "scatterpolar": [
                      {
                        "marker": {
                          "colorbar": {
                            "outlinewidth": 0,
                            "ticks": ""
                          }
                        },
                        "type": "scatterpolar"
                      }
                    ],
                    "scatterpolargl": [
                      {
                        "marker": {
                          "colorbar": {
                            "outlinewidth": 0,
                            "ticks": ""
                          }
                        },
                        "type": "scatterpolargl"
                      }
                    ],
                    "scatterternary": [
                      {
                        "marker": {
                          "colorbar": {
                            "outlinewidth": 0,
                            "ticks": ""
                          }
                        },
                        "type": "scatterternary"
                      }
                    ],
                    "surface": [
                      {
                        "colorbar": {
                          "outlinewidth": 0,
                          "ticks": ""
                        },
                        "colorscale": [
                          [
                            0,
                            "#0d0887"
                          ],
                          [
                            0.1111111111111111,
                            "#46039f"
                          ],
                          [
                            0.2222222222222222,
                            "#7201a8"
                          ],
                          [
                            0.3333333333333333,
                            "#9c179e"
                          ],
                          [
                            0.4444444444444444,
                            "#bd3786"
                          ],
                          [
                            0.5555555555555556,
                            "#d8576b"
                          ],
                          [
                            0.6666666666666666,
                            "#ed7953"
                          ],
                          [
                            0.7777777777777778,
                            "#fb9f3a"
                          ],
                          [
                            0.8888888888888888,
                            "#fdca26"
                          ],
                          [
                            1,
                            "#f0f921"
                          ]
                        ],
                        "type": "surface"
                      }
                    ],
                    "table": [
                      {
                        "cells": {
                          "fill": {
                            "color": "#EBF0F8"
                          },
                          "line": {
                            "color": "white"
                          }
                        },
                        "header": {
                          "fill": {
                            "color": "#C8D4E3"
                          },
                          "line": {
                            "color": "white"
                          }
                        },
                        "type": "table"
                      }
                    ]
                  },
                  "layout": {
                    "annotationdefaults": {
                      "arrowcolor": "#2a3f5f",
                      "arrowhead": 0,
                      "arrowwidth": 1
                    },
                    "autotypenumbers": "strict",
                    "coloraxis": {
                      "colorbar": {
                        "outlinewidth": 0,
                        "ticks": ""
                      }
                    },
                    "colorscale": {
                      "diverging": [
                        [
                          0,
                          "#8e0152"
                        ],
                        [
                          0.1,
                          "#c51b7d"
                        ],
                        [
                          0.2,
                          "#de77ae"
                        ],
                        [
                          0.3,
                          "#f1b6da"
                        ],
                        [
                          0.4,
                          "#fde0ef"
                        ],
                        [
                          0.5,
                          "#f7f7f7"
                        ],
                        [
                          0.6,
                          "#e6f5d0"
                        ],
                        [
                          0.7,
                          "#b8e186"
                        ],
                        [
                          0.8,
                          "#7fbc41"
                        ],
                        [
                          0.9,
                          "#4d9221"
                        ],
                        [
                          1,
                          "#276419"
                        ]
                      ],
                      "sequential": [
                        [
                          0,
                          "#0d0887"
                        ],
                        [
                          0.1111111111111111,
                          "#46039f"
                        ],
                        [
                          0.2222222222222222,
                          "#7201a8"
                        ],
                        [
                          0.3333333333333333,
                          "#9c179e"
                        ],
                        [
                          0.4444444444444444,
                          "#bd3786"
                        ],
                        [
                          0.5555555555555556,
                          "#d8576b"
                        ],
                        [
                          0.6666666666666666,
                          "#ed7953"
                        ],
                        [
                          0.7777777777777778,
                          "#fb9f3a"
                        ],
                        [
                          0.8888888888888888,
                          "#fdca26"
                        ],
                        [
                          1,
                          "#f0f921"
                        ]
                      ],
                      "sequentialminus": [
                        [
                          0,
                          "#0d0887"
                        ],
                        [
                          0.1111111111111111,
                          "#46039f"
                        ],
                        [
                          0.2222222222222222,
                          "#7201a8"
                        ],
                        [
                          0.3333333333333333,
                          "#9c179e"
                        ],
                        [
                          0.4444444444444444,
                          "#bd3786"
                        ],
                        [
                          0.5555555555555556,
                          "#d8576b"
                        ],
                        [
                          0.6666666666666666,
                          "#ed7953"
                        ],
                        [
                          0.7777777777777778,
                          "#fb9f3a"
                        ],
                        [
                          0.8888888888888888,
                          "#fdca26"
                        ],
                        [
                          1,
                          "#f0f921"
                        ]
                      ]
                    },
                    "colorway": [
                      "#636efa",
                      "#EF553B",
                      "#00cc96",
                      "#ab63fa",
                      "#FFA15A",
                      "#19d3f3",
                      "#FF6692",
                      "#B6E880",
                      "#FF97FF",
                      "#FECB52"
                    ],
                    "font": {
                      "color": "#2a3f5f"
                    },
                    "geo": {
                      "bgcolor": "white",
                      "lakecolor": "white",
                      "landcolor": "#E5ECF6",
                      "showlakes": true,
                      "showland": true,
                      "subunitcolor": "white"
                    },
                    "hoverlabel": {
                      "align": "left"
                    },
                    "hovermode": "closest",
                    "mapbox": {
                      "style": "light"
                    },
                    "paper_bgcolor": "white",
                    "plot_bgcolor": "#E5ECF6",
                    "polar": {
                      "angularaxis": {
                        "gridcolor": "white",
                        "linecolor": "white",
                        "ticks": ""
                      },
                      "bgcolor": "#E5ECF6",
                      "radialaxis": {
                        "gridcolor": "white",
                        "linecolor": "white",
                        "ticks": ""
                      }
                    },
                    "scene": {
                      "xaxis": {
                        "backgroundcolor": "#E5ECF6",
                        "gridcolor": "white",
                        "gridwidth": 2,
                        "linecolor": "white",
                        "showbackground": true,
                        "ticks": "",
                        "zerolinecolor": "white"
                      },
                      "yaxis": {
                        "backgroundcolor": "#E5ECF6",
                        "gridcolor": "white",
                        "gridwidth": 2,
                        "linecolor": "white",
                        "showbackground": true,
                        "ticks": "",
                        "zerolinecolor": "white"
                      },
                      "zaxis": {
                        "backgroundcolor": "#E5ECF6",
                        "gridcolor": "white",
                        "gridwidth": 2,
                        "linecolor": "white",
                        "showbackground": true,
                        "ticks": "",
                        "zerolinecolor": "white"
                      }
                    },
                    "shapedefaults": {
                      "line": {
                        "color": "#2a3f5f"
                      }
                    },
                    "ternary": {
                      "aaxis": {
                        "gridcolor": "white",
                        "linecolor": "white",
                        "ticks": ""
                      },
                      "baxis": {
                        "gridcolor": "white",
                        "linecolor": "white",
                        "ticks": ""
                      },
                      "bgcolor": "#E5ECF6",
                      "caxis": {
                        "gridcolor": "white",
                        "linecolor": "white",
                        "ticks": ""
                      }
                    },
                    "title": {
                      "x": 0.05
                    },
                    "xaxis": {
                      "automargin": true,
                      "gridcolor": "white",
                      "linecolor": "white",
                      "ticks": "",
                      "title": {
                        "standoff": 15
                      },
                      "zerolinecolor": "white",
                      "zerolinewidth": 2
                    },
                    "yaxis": {
                      "automargin": true,
                      "gridcolor": "white",
                      "linecolor": "white",
                      "ticks": "",
                      "title": {
                        "standoff": 15
                      },
                      "zerolinecolor": "white",
                      "zerolinewidth": 2
                    }
                  }
                },
                "xaxis": {
                  "anchor": "y",
                  "domain": [
                    0,
                    1
                  ],
                  "title": {
                    "text": "species"
                  }
                },
                "yaxis": {
                  "anchor": "x",
                  "domain": [
                    0,
                    1
                  ],
                  "title": {
                    "text": "body_mass_g"
                  }
                }
              }
            }
          },
          "metadata": {},
          "output_type": "display_data"
        }
      ],
      "source": [
        "# Now Lets See On Hightest And Lowest Body Mass Species is Male Or Female\n",
        "fig = px.box(df , x=\"species\" , y=\"body_mass_g\" , color =\"sex\")\n",
        "fig.show()"
      ]
    },
    {
      "cell_type": "markdown",
      "metadata": {
        "id": "9q5NuSxjVIaA"
      },
      "source": [
        "- From Above Fig We Can Clerly see .. `Adelie` Female Have Lowest Body mass And `Gentoo` Males Have Hightest Bodymass"
      ]
    },
    {
      "cell_type": "markdown",
      "metadata": {},
      "source": [
        " # 3 . Which Specie Have Higher and Lower `bill_depth_mm` "
      ]
    },
    {
      "cell_type": "code",
      "execution_count": 61,
      "metadata": {
        "colab": {
          "base_uri": "https://localhost:8080/",
          "height": 542
        },
        "id": "He7HlD2UVVf7",
        "outputId": "e694e4be-baa7-4056-ec5f-02a00e8c99dc"
      },
      "outputs": [
        {
          "data": {
            "application/vnd.plotly.v1+json": {
              "config": {
                "plotlyServerURL": "https://plot.ly"
              },
              "data": [
                {
                  "alignmentgroup": "True",
                  "hovertemplate": "species=Adelie<br>island=%{x}<br>bill_depth_mm=%{y}<extra></extra>",
                  "legendgroup": "Adelie",
                  "marker": {
                    "color": "#636efa"
                  },
                  "name": "Adelie",
                  "notched": false,
                  "offsetgroup": "Adelie",
                  "orientation": "v",
                  "showlegend": true,
                  "type": "box",
                  "x": [
                    "Torgersen",
                    "Torgersen",
                    "Torgersen",
                    "Torgersen",
                    "Torgersen",
                    "Torgersen",
                    "Torgersen",
                    "Torgersen",
                    "Torgersen",
                    "Torgersen",
                    "Torgersen",
                    "Torgersen",
                    "Torgersen",
                    "Torgersen",
                    "Torgersen",
                    "Torgersen",
                    "Torgersen",
                    "Torgersen",
                    "Torgersen",
                    "Biscoe",
                    "Biscoe",
                    "Biscoe",
                    "Biscoe",
                    "Biscoe",
                    "Biscoe",
                    "Biscoe",
                    "Biscoe",
                    "Biscoe",
                    "Biscoe",
                    "Dream",
                    "Dream",
                    "Dream",
                    "Dream",
                    "Dream",
                    "Dream",
                    "Dream",
                    "Dream",
                    "Dream",
                    "Dream",
                    "Dream",
                    "Dream",
                    "Dream",
                    "Dream",
                    "Dream",
                    "Dream",
                    "Dream",
                    "Dream",
                    "Dream",
                    "Dream",
                    "Biscoe",
                    "Biscoe",
                    "Biscoe",
                    "Biscoe",
                    "Biscoe",
                    "Biscoe",
                    "Biscoe",
                    "Biscoe",
                    "Biscoe",
                    "Biscoe",
                    "Biscoe",
                    "Biscoe",
                    "Biscoe",
                    "Biscoe",
                    "Biscoe",
                    "Biscoe",
                    "Biscoe",
                    "Biscoe",
                    "Torgersen",
                    "Torgersen",
                    "Torgersen",
                    "Torgersen",
                    "Torgersen",
                    "Torgersen",
                    "Torgersen",
                    "Torgersen",
                    "Torgersen",
                    "Torgersen",
                    "Torgersen",
                    "Torgersen",
                    "Torgersen",
                    "Torgersen",
                    "Torgersen",
                    "Torgersen",
                    "Dream",
                    "Dream",
                    "Dream",
                    "Dream",
                    "Dream",
                    "Dream",
                    "Dream",
                    "Dream",
                    "Dream",
                    "Dream",
                    "Dream",
                    "Dream",
                    "Dream",
                    "Dream",
                    "Dream",
                    "Dream",
                    "Biscoe",
                    "Biscoe",
                    "Biscoe",
                    "Biscoe",
                    "Biscoe",
                    "Biscoe",
                    "Biscoe",
                    "Biscoe",
                    "Biscoe",
                    "Biscoe",
                    "Biscoe",
                    "Biscoe",
                    "Biscoe",
                    "Biscoe",
                    "Biscoe",
                    "Biscoe",
                    "Torgersen",
                    "Torgersen",
                    "Torgersen",
                    "Torgersen",
                    "Torgersen",
                    "Torgersen",
                    "Torgersen",
                    "Torgersen",
                    "Torgersen",
                    "Torgersen",
                    "Torgersen",
                    "Torgersen",
                    "Torgersen",
                    "Torgersen",
                    "Torgersen",
                    "Torgersen",
                    "Dream",
                    "Dream",
                    "Dream",
                    "Dream",
                    "Dream",
                    "Dream",
                    "Dream",
                    "Dream",
                    "Dream",
                    "Dream",
                    "Dream",
                    "Dream",
                    "Dream",
                    "Dream",
                    "Dream",
                    "Dream",
                    "Dream",
                    "Dream",
                    "Dream",
                    "Dream"
                  ],
                  "x0": " ",
                  "xaxis": "x",
                  "y": [
                    18.7,
                    17.4,
                    18,
                    19.3,
                    20.6,
                    17.8,
                    19.6,
                    18.1,
                    20.2,
                    17.1,
                    17.3,
                    17.6,
                    21.2,
                    21.1,
                    17.8,
                    19,
                    20.7,
                    18.4,
                    21.5,
                    18.3,
                    18.7,
                    19.2,
                    18.1,
                    17.2,
                    18.9,
                    18.6,
                    17.9,
                    18.6,
                    18.9,
                    16.7,
                    18.1,
                    17.8,
                    18.9,
                    17,
                    21.1,
                    20,
                    18.5,
                    19.3,
                    19.1,
                    18,
                    18.4,
                    18.5,
                    19.7,
                    16.9,
                    18.8,
                    19,
                    18.9,
                    17.9,
                    21.2,
                    17.7,
                    18.9,
                    17.9,
                    19.5,
                    18.1,
                    18.6,
                    17.5,
                    18.8,
                    16.6,
                    19.1,
                    16.9,
                    21.1,
                    17,
                    18.2,
                    17.1,
                    18,
                    16.2,
                    19.1,
                    16.6,
                    19.4,
                    19,
                    18.4,
                    17.2,
                    18.9,
                    17.5,
                    18.5,
                    16.8,
                    19.4,
                    16.1,
                    19.1,
                    17.2,
                    17.6,
                    18.8,
                    19.4,
                    17.8,
                    20.3,
                    19.5,
                    18.6,
                    19.2,
                    18.8,
                    18,
                    18.1,
                    17.1,
                    18.1,
                    17.3,
                    18.9,
                    18.6,
                    18.5,
                    16.1,
                    18.5,
                    17.9,
                    20,
                    16,
                    20,
                    18.6,
                    18.9,
                    17.2,
                    20,
                    17,
                    19,
                    16.5,
                    20.3,
                    17.7,
                    19.5,
                    20.7,
                    18.3,
                    17,
                    20.5,
                    17,
                    18.6,
                    17.2,
                    19.8,
                    17,
                    18.5,
                    15.9,
                    19,
                    17.6,
                    18.3,
                    17.1,
                    18,
                    17.9,
                    19.2,
                    18.5,
                    18.5,
                    17.6,
                    17.5,
                    17.5,
                    20.1,
                    16.5,
                    17.9,
                    17.1,
                    17.2,
                    15.5,
                    17,
                    16.8,
                    18.7,
                    18.6,
                    18.4,
                    17.8,
                    18.1,
                    17.1,
                    18.5
                  ],
                  "y0": " ",
                  "yaxis": "y"
                },
                {
                  "alignmentgroup": "True",
                  "hovertemplate": "species=Chinstrap<br>island=%{x}<br>bill_depth_mm=%{y}<extra></extra>",
                  "legendgroup": "Chinstrap",
                  "marker": {
                    "color": "#EF553B"
                  },
                  "name": "Chinstrap",
                  "notched": false,
                  "offsetgroup": "Chinstrap",
                  "orientation": "v",
                  "showlegend": true,
                  "type": "box",
                  "x": [
                    "Dream",
                    "Dream",
                    "Dream",
                    "Dream",
                    "Dream",
                    "Dream",
                    "Dream",
                    "Dream",
                    "Dream",
                    "Dream",
                    "Dream",
                    "Dream",
                    "Dream",
                    "Dream",
                    "Dream",
                    "Dream",
                    "Dream",
                    "Dream",
                    "Dream",
                    "Dream",
                    "Dream",
                    "Dream",
                    "Dream",
                    "Dream",
                    "Dream",
                    "Dream",
                    "Dream",
                    "Dream",
                    "Dream",
                    "Dream",
                    "Dream",
                    "Dream",
                    "Dream",
                    "Dream",
                    "Dream",
                    "Dream",
                    "Dream",
                    "Dream",
                    "Dream",
                    "Dream",
                    "Dream",
                    "Dream",
                    "Dream",
                    "Dream",
                    "Dream",
                    "Dream",
                    "Dream",
                    "Dream",
                    "Dream",
                    "Dream",
                    "Dream",
                    "Dream",
                    "Dream",
                    "Dream",
                    "Dream",
                    "Dream",
                    "Dream",
                    "Dream",
                    "Dream",
                    "Dream",
                    "Dream",
                    "Dream",
                    "Dream",
                    "Dream",
                    "Dream",
                    "Dream",
                    "Dream",
                    "Dream"
                  ],
                  "x0": " ",
                  "xaxis": "x",
                  "y": [
                    17.9,
                    19.5,
                    19.2,
                    18.7,
                    19.8,
                    17.8,
                    18.2,
                    18.2,
                    18.9,
                    19.9,
                    17.8,
                    20.3,
                    17.3,
                    18.1,
                    17.1,
                    19.6,
                    20,
                    17.8,
                    18.6,
                    18.2,
                    17.3,
                    17.5,
                    16.6,
                    19.4,
                    17.9,
                    19,
                    18.4,
                    19,
                    17.8,
                    20,
                    16.6,
                    20.8,
                    16.7,
                    18.8,
                    18.6,
                    16.8,
                    18.3,
                    20.7,
                    16.6,
                    19.9,
                    19.5,
                    17.5,
                    19.1,
                    17,
                    17.9,
                    18.5,
                    17.9,
                    19.6,
                    18.7,
                    17.3,
                    16.4,
                    19,
                    17.3,
                    19.7,
                    17.3,
                    18.8,
                    16.6,
                    19.9,
                    18.8,
                    19.4,
                    19.5,
                    16.5,
                    17,
                    19.8,
                    18.1,
                    18.2,
                    19,
                    18.7
                  ],
                  "y0": " ",
                  "yaxis": "y"
                },
                {
                  "alignmentgroup": "True",
                  "hovertemplate": "species=Gentoo<br>island=%{x}<br>bill_depth_mm=%{y}<extra></extra>",
                  "legendgroup": "Gentoo",
                  "marker": {
                    "color": "#00cc96"
                  },
                  "name": "Gentoo",
                  "notched": false,
                  "offsetgroup": "Gentoo",
                  "orientation": "v",
                  "showlegend": true,
                  "type": "box",
                  "x": [
                    "Biscoe",
                    "Biscoe",
                    "Biscoe",
                    "Biscoe",
                    "Biscoe",
                    "Biscoe",
                    "Biscoe",
                    "Biscoe",
                    "Biscoe",
                    "Biscoe",
                    "Biscoe",
                    "Biscoe",
                    "Biscoe",
                    "Biscoe",
                    "Biscoe",
                    "Biscoe",
                    "Biscoe",
                    "Biscoe",
                    "Biscoe",
                    "Biscoe",
                    "Biscoe",
                    "Biscoe",
                    "Biscoe",
                    "Biscoe",
                    "Biscoe",
                    "Biscoe",
                    "Biscoe",
                    "Biscoe",
                    "Biscoe",
                    "Biscoe",
                    "Biscoe",
                    "Biscoe",
                    "Biscoe",
                    "Biscoe",
                    "Biscoe",
                    "Biscoe",
                    "Biscoe",
                    "Biscoe",
                    "Biscoe",
                    "Biscoe",
                    "Biscoe",
                    "Biscoe",
                    "Biscoe",
                    "Biscoe",
                    "Biscoe",
                    "Biscoe",
                    "Biscoe",
                    "Biscoe",
                    "Biscoe",
                    "Biscoe",
                    "Biscoe",
                    "Biscoe",
                    "Biscoe",
                    "Biscoe",
                    "Biscoe",
                    "Biscoe",
                    "Biscoe",
                    "Biscoe",
                    "Biscoe",
                    "Biscoe",
                    "Biscoe",
                    "Biscoe",
                    "Biscoe",
                    "Biscoe",
                    "Biscoe",
                    "Biscoe",
                    "Biscoe",
                    "Biscoe",
                    "Biscoe",
                    "Biscoe",
                    "Biscoe",
                    "Biscoe",
                    "Biscoe",
                    "Biscoe",
                    "Biscoe",
                    "Biscoe",
                    "Biscoe",
                    "Biscoe",
                    "Biscoe",
                    "Biscoe",
                    "Biscoe",
                    "Biscoe",
                    "Biscoe",
                    "Biscoe",
                    "Biscoe",
                    "Biscoe",
                    "Biscoe",
                    "Biscoe",
                    "Biscoe",
                    "Biscoe",
                    "Biscoe",
                    "Biscoe",
                    "Biscoe",
                    "Biscoe",
                    "Biscoe",
                    "Biscoe",
                    "Biscoe",
                    "Biscoe",
                    "Biscoe",
                    "Biscoe",
                    "Biscoe",
                    "Biscoe",
                    "Biscoe",
                    "Biscoe",
                    "Biscoe",
                    "Biscoe",
                    "Biscoe",
                    "Biscoe",
                    "Biscoe",
                    "Biscoe",
                    "Biscoe",
                    "Biscoe",
                    "Biscoe",
                    "Biscoe",
                    "Biscoe",
                    "Biscoe",
                    "Biscoe",
                    "Biscoe",
                    "Biscoe",
                    "Biscoe",
                    "Biscoe",
                    "Biscoe",
                    "Biscoe"
                  ],
                  "x0": " ",
                  "xaxis": "x",
                  "y": [
                    13.2,
                    16.3,
                    14.1,
                    15.2,
                    14.5,
                    13.5,
                    14.6,
                    15.3,
                    13.4,
                    15.4,
                    13.7,
                    16.1,
                    13.7,
                    14.6,
                    14.6,
                    15.7,
                    13.5,
                    15.2,
                    14.5,
                    15.1,
                    14.3,
                    14.5,
                    14.5,
                    15.8,
                    13.1,
                    15.1,
                    14.3,
                    15,
                    14.3,
                    15.3,
                    15.3,
                    14.2,
                    14.5,
                    17,
                    14.8,
                    16.3,
                    13.7,
                    17.3,
                    13.6,
                    15.7,
                    13.7,
                    16,
                    13.7,
                    15,
                    15.9,
                    13.9,
                    13.9,
                    15.9,
                    13.3,
                    15.8,
                    14.2,
                    14.1,
                    14.4,
                    15,
                    14.4,
                    15.4,
                    13.9,
                    15,
                    14.5,
                    15.3,
                    13.8,
                    14.9,
                    13.9,
                    15.7,
                    14.2,
                    16.8,
                    14.4,
                    16.2,
                    14.2,
                    15,
                    15,
                    15.6,
                    15.6,
                    14.8,
                    15,
                    16,
                    14.2,
                    16.3,
                    13.8,
                    16.4,
                    14.5,
                    15.6,
                    14.6,
                    15.9,
                    13.8,
                    17.3,
                    14.4,
                    14.2,
                    14,
                    17,
                    15,
                    17.1,
                    14.5,
                    16.1,
                    14.7,
                    15.7,
                    15.8,
                    14.6,
                    14.4,
                    16.5,
                    15,
                    17,
                    15.5,
                    15,
                    13.8,
                    16.1,
                    14.7,
                    15.8,
                    14,
                    15.1,
                    15.2,
                    15.9,
                    15.2,
                    16.3,
                    14.1,
                    16,
                    15.7,
                    16.2,
                    13.7,
                    14.3,
                    15.7,
                    14.8,
                    16.1
                  ],
                  "y0": " ",
                  "yaxis": "y"
                }
              ],
              "layout": {
                "boxmode": "group",
                "legend": {
                  "title": {
                    "text": "species"
                  },
                  "tracegroupgap": 0
                },
                "margin": {
                  "t": 60
                },
                "template": {
                  "data": {
                    "bar": [
                      {
                        "error_x": {
                          "color": "#2a3f5f"
                        },
                        "error_y": {
                          "color": "#2a3f5f"
                        },
                        "marker": {
                          "line": {
                            "color": "#E5ECF6",
                            "width": 0.5
                          },
                          "pattern": {
                            "fillmode": "overlay",
                            "size": 10,
                            "solidity": 0.2
                          }
                        },
                        "type": "bar"
                      }
                    ],
                    "barpolar": [
                      {
                        "marker": {
                          "line": {
                            "color": "#E5ECF6",
                            "width": 0.5
                          },
                          "pattern": {
                            "fillmode": "overlay",
                            "size": 10,
                            "solidity": 0.2
                          }
                        },
                        "type": "barpolar"
                      }
                    ],
                    "carpet": [
                      {
                        "aaxis": {
                          "endlinecolor": "#2a3f5f",
                          "gridcolor": "white",
                          "linecolor": "white",
                          "minorgridcolor": "white",
                          "startlinecolor": "#2a3f5f"
                        },
                        "baxis": {
                          "endlinecolor": "#2a3f5f",
                          "gridcolor": "white",
                          "linecolor": "white",
                          "minorgridcolor": "white",
                          "startlinecolor": "#2a3f5f"
                        },
                        "type": "carpet"
                      }
                    ],
                    "choropleth": [
                      {
                        "colorbar": {
                          "outlinewidth": 0,
                          "ticks": ""
                        },
                        "type": "choropleth"
                      }
                    ],
                    "contour": [
                      {
                        "colorbar": {
                          "outlinewidth": 0,
                          "ticks": ""
                        },
                        "colorscale": [
                          [
                            0,
                            "#0d0887"
                          ],
                          [
                            0.1111111111111111,
                            "#46039f"
                          ],
                          [
                            0.2222222222222222,
                            "#7201a8"
                          ],
                          [
                            0.3333333333333333,
                            "#9c179e"
                          ],
                          [
                            0.4444444444444444,
                            "#bd3786"
                          ],
                          [
                            0.5555555555555556,
                            "#d8576b"
                          ],
                          [
                            0.6666666666666666,
                            "#ed7953"
                          ],
                          [
                            0.7777777777777778,
                            "#fb9f3a"
                          ],
                          [
                            0.8888888888888888,
                            "#fdca26"
                          ],
                          [
                            1,
                            "#f0f921"
                          ]
                        ],
                        "type": "contour"
                      }
                    ],
                    "contourcarpet": [
                      {
                        "colorbar": {
                          "outlinewidth": 0,
                          "ticks": ""
                        },
                        "type": "contourcarpet"
                      }
                    ],
                    "heatmap": [
                      {
                        "colorbar": {
                          "outlinewidth": 0,
                          "ticks": ""
                        },
                        "colorscale": [
                          [
                            0,
                            "#0d0887"
                          ],
                          [
                            0.1111111111111111,
                            "#46039f"
                          ],
                          [
                            0.2222222222222222,
                            "#7201a8"
                          ],
                          [
                            0.3333333333333333,
                            "#9c179e"
                          ],
                          [
                            0.4444444444444444,
                            "#bd3786"
                          ],
                          [
                            0.5555555555555556,
                            "#d8576b"
                          ],
                          [
                            0.6666666666666666,
                            "#ed7953"
                          ],
                          [
                            0.7777777777777778,
                            "#fb9f3a"
                          ],
                          [
                            0.8888888888888888,
                            "#fdca26"
                          ],
                          [
                            1,
                            "#f0f921"
                          ]
                        ],
                        "type": "heatmap"
                      }
                    ],
                    "heatmapgl": [
                      {
                        "colorbar": {
                          "outlinewidth": 0,
                          "ticks": ""
                        },
                        "colorscale": [
                          [
                            0,
                            "#0d0887"
                          ],
                          [
                            0.1111111111111111,
                            "#46039f"
                          ],
                          [
                            0.2222222222222222,
                            "#7201a8"
                          ],
                          [
                            0.3333333333333333,
                            "#9c179e"
                          ],
                          [
                            0.4444444444444444,
                            "#bd3786"
                          ],
                          [
                            0.5555555555555556,
                            "#d8576b"
                          ],
                          [
                            0.6666666666666666,
                            "#ed7953"
                          ],
                          [
                            0.7777777777777778,
                            "#fb9f3a"
                          ],
                          [
                            0.8888888888888888,
                            "#fdca26"
                          ],
                          [
                            1,
                            "#f0f921"
                          ]
                        ],
                        "type": "heatmapgl"
                      }
                    ],
                    "histogram": [
                      {
                        "marker": {
                          "pattern": {
                            "fillmode": "overlay",
                            "size": 10,
                            "solidity": 0.2
                          }
                        },
                        "type": "histogram"
                      }
                    ],
                    "histogram2d": [
                      {
                        "colorbar": {
                          "outlinewidth": 0,
                          "ticks": ""
                        },
                        "colorscale": [
                          [
                            0,
                            "#0d0887"
                          ],
                          [
                            0.1111111111111111,
                            "#46039f"
                          ],
                          [
                            0.2222222222222222,
                            "#7201a8"
                          ],
                          [
                            0.3333333333333333,
                            "#9c179e"
                          ],
                          [
                            0.4444444444444444,
                            "#bd3786"
                          ],
                          [
                            0.5555555555555556,
                            "#d8576b"
                          ],
                          [
                            0.6666666666666666,
                            "#ed7953"
                          ],
                          [
                            0.7777777777777778,
                            "#fb9f3a"
                          ],
                          [
                            0.8888888888888888,
                            "#fdca26"
                          ],
                          [
                            1,
                            "#f0f921"
                          ]
                        ],
                        "type": "histogram2d"
                      }
                    ],
                    "histogram2dcontour": [
                      {
                        "colorbar": {
                          "outlinewidth": 0,
                          "ticks": ""
                        },
                        "colorscale": [
                          [
                            0,
                            "#0d0887"
                          ],
                          [
                            0.1111111111111111,
                            "#46039f"
                          ],
                          [
                            0.2222222222222222,
                            "#7201a8"
                          ],
                          [
                            0.3333333333333333,
                            "#9c179e"
                          ],
                          [
                            0.4444444444444444,
                            "#bd3786"
                          ],
                          [
                            0.5555555555555556,
                            "#d8576b"
                          ],
                          [
                            0.6666666666666666,
                            "#ed7953"
                          ],
                          [
                            0.7777777777777778,
                            "#fb9f3a"
                          ],
                          [
                            0.8888888888888888,
                            "#fdca26"
                          ],
                          [
                            1,
                            "#f0f921"
                          ]
                        ],
                        "type": "histogram2dcontour"
                      }
                    ],
                    "mesh3d": [
                      {
                        "colorbar": {
                          "outlinewidth": 0,
                          "ticks": ""
                        },
                        "type": "mesh3d"
                      }
                    ],
                    "parcoords": [
                      {
                        "line": {
                          "colorbar": {
                            "outlinewidth": 0,
                            "ticks": ""
                          }
                        },
                        "type": "parcoords"
                      }
                    ],
                    "pie": [
                      {
                        "automargin": true,
                        "type": "pie"
                      }
                    ],
                    "scatter": [
                      {
                        "fillpattern": {
                          "fillmode": "overlay",
                          "size": 10,
                          "solidity": 0.2
                        },
                        "type": "scatter"
                      }
                    ],
                    "scatter3d": [
                      {
                        "line": {
                          "colorbar": {
                            "outlinewidth": 0,
                            "ticks": ""
                          }
                        },
                        "marker": {
                          "colorbar": {
                            "outlinewidth": 0,
                            "ticks": ""
                          }
                        },
                        "type": "scatter3d"
                      }
                    ],
                    "scattercarpet": [
                      {
                        "marker": {
                          "colorbar": {
                            "outlinewidth": 0,
                            "ticks": ""
                          }
                        },
                        "type": "scattercarpet"
                      }
                    ],
                    "scattergeo": [
                      {
                        "marker": {
                          "colorbar": {
                            "outlinewidth": 0,
                            "ticks": ""
                          }
                        },
                        "type": "scattergeo"
                      }
                    ],
                    "scattergl": [
                      {
                        "marker": {
                          "colorbar": {
                            "outlinewidth": 0,
                            "ticks": ""
                          }
                        },
                        "type": "scattergl"
                      }
                    ],
                    "scattermapbox": [
                      {
                        "marker": {
                          "colorbar": {
                            "outlinewidth": 0,
                            "ticks": ""
                          }
                        },
                        "type": "scattermapbox"
                      }
                    ],
                    "scatterpolar": [
                      {
                        "marker": {
                          "colorbar": {
                            "outlinewidth": 0,
                            "ticks": ""
                          }
                        },
                        "type": "scatterpolar"
                      }
                    ],
                    "scatterpolargl": [
                      {
                        "marker": {
                          "colorbar": {
                            "outlinewidth": 0,
                            "ticks": ""
                          }
                        },
                        "type": "scatterpolargl"
                      }
                    ],
                    "scatterternary": [
                      {
                        "marker": {
                          "colorbar": {
                            "outlinewidth": 0,
                            "ticks": ""
                          }
                        },
                        "type": "scatterternary"
                      }
                    ],
                    "surface": [
                      {
                        "colorbar": {
                          "outlinewidth": 0,
                          "ticks": ""
                        },
                        "colorscale": [
                          [
                            0,
                            "#0d0887"
                          ],
                          [
                            0.1111111111111111,
                            "#46039f"
                          ],
                          [
                            0.2222222222222222,
                            "#7201a8"
                          ],
                          [
                            0.3333333333333333,
                            "#9c179e"
                          ],
                          [
                            0.4444444444444444,
                            "#bd3786"
                          ],
                          [
                            0.5555555555555556,
                            "#d8576b"
                          ],
                          [
                            0.6666666666666666,
                            "#ed7953"
                          ],
                          [
                            0.7777777777777778,
                            "#fb9f3a"
                          ],
                          [
                            0.8888888888888888,
                            "#fdca26"
                          ],
                          [
                            1,
                            "#f0f921"
                          ]
                        ],
                        "type": "surface"
                      }
                    ],
                    "table": [
                      {
                        "cells": {
                          "fill": {
                            "color": "#EBF0F8"
                          },
                          "line": {
                            "color": "white"
                          }
                        },
                        "header": {
                          "fill": {
                            "color": "#C8D4E3"
                          },
                          "line": {
                            "color": "white"
                          }
                        },
                        "type": "table"
                      }
                    ]
                  },
                  "layout": {
                    "annotationdefaults": {
                      "arrowcolor": "#2a3f5f",
                      "arrowhead": 0,
                      "arrowwidth": 1
                    },
                    "autotypenumbers": "strict",
                    "coloraxis": {
                      "colorbar": {
                        "outlinewidth": 0,
                        "ticks": ""
                      }
                    },
                    "colorscale": {
                      "diverging": [
                        [
                          0,
                          "#8e0152"
                        ],
                        [
                          0.1,
                          "#c51b7d"
                        ],
                        [
                          0.2,
                          "#de77ae"
                        ],
                        [
                          0.3,
                          "#f1b6da"
                        ],
                        [
                          0.4,
                          "#fde0ef"
                        ],
                        [
                          0.5,
                          "#f7f7f7"
                        ],
                        [
                          0.6,
                          "#e6f5d0"
                        ],
                        [
                          0.7,
                          "#b8e186"
                        ],
                        [
                          0.8,
                          "#7fbc41"
                        ],
                        [
                          0.9,
                          "#4d9221"
                        ],
                        [
                          1,
                          "#276419"
                        ]
                      ],
                      "sequential": [
                        [
                          0,
                          "#0d0887"
                        ],
                        [
                          0.1111111111111111,
                          "#46039f"
                        ],
                        [
                          0.2222222222222222,
                          "#7201a8"
                        ],
                        [
                          0.3333333333333333,
                          "#9c179e"
                        ],
                        [
                          0.4444444444444444,
                          "#bd3786"
                        ],
                        [
                          0.5555555555555556,
                          "#d8576b"
                        ],
                        [
                          0.6666666666666666,
                          "#ed7953"
                        ],
                        [
                          0.7777777777777778,
                          "#fb9f3a"
                        ],
                        [
                          0.8888888888888888,
                          "#fdca26"
                        ],
                        [
                          1,
                          "#f0f921"
                        ]
                      ],
                      "sequentialminus": [
                        [
                          0,
                          "#0d0887"
                        ],
                        [
                          0.1111111111111111,
                          "#46039f"
                        ],
                        [
                          0.2222222222222222,
                          "#7201a8"
                        ],
                        [
                          0.3333333333333333,
                          "#9c179e"
                        ],
                        [
                          0.4444444444444444,
                          "#bd3786"
                        ],
                        [
                          0.5555555555555556,
                          "#d8576b"
                        ],
                        [
                          0.6666666666666666,
                          "#ed7953"
                        ],
                        [
                          0.7777777777777778,
                          "#fb9f3a"
                        ],
                        [
                          0.8888888888888888,
                          "#fdca26"
                        ],
                        [
                          1,
                          "#f0f921"
                        ]
                      ]
                    },
                    "colorway": [
                      "#636efa",
                      "#EF553B",
                      "#00cc96",
                      "#ab63fa",
                      "#FFA15A",
                      "#19d3f3",
                      "#FF6692",
                      "#B6E880",
                      "#FF97FF",
                      "#FECB52"
                    ],
                    "font": {
                      "color": "#2a3f5f"
                    },
                    "geo": {
                      "bgcolor": "white",
                      "lakecolor": "white",
                      "landcolor": "#E5ECF6",
                      "showlakes": true,
                      "showland": true,
                      "subunitcolor": "white"
                    },
                    "hoverlabel": {
                      "align": "left"
                    },
                    "hovermode": "closest",
                    "mapbox": {
                      "style": "light"
                    },
                    "paper_bgcolor": "white",
                    "plot_bgcolor": "#E5ECF6",
                    "polar": {
                      "angularaxis": {
                        "gridcolor": "white",
                        "linecolor": "white",
                        "ticks": ""
                      },
                      "bgcolor": "#E5ECF6",
                      "radialaxis": {
                        "gridcolor": "white",
                        "linecolor": "white",
                        "ticks": ""
                      }
                    },
                    "scene": {
                      "xaxis": {
                        "backgroundcolor": "#E5ECF6",
                        "gridcolor": "white",
                        "gridwidth": 2,
                        "linecolor": "white",
                        "showbackground": true,
                        "ticks": "",
                        "zerolinecolor": "white"
                      },
                      "yaxis": {
                        "backgroundcolor": "#E5ECF6",
                        "gridcolor": "white",
                        "gridwidth": 2,
                        "linecolor": "white",
                        "showbackground": true,
                        "ticks": "",
                        "zerolinecolor": "white"
                      },
                      "zaxis": {
                        "backgroundcolor": "#E5ECF6",
                        "gridcolor": "white",
                        "gridwidth": 2,
                        "linecolor": "white",
                        "showbackground": true,
                        "ticks": "",
                        "zerolinecolor": "white"
                      }
                    },
                    "shapedefaults": {
                      "line": {
                        "color": "#2a3f5f"
                      }
                    },
                    "ternary": {
                      "aaxis": {
                        "gridcolor": "white",
                        "linecolor": "white",
                        "ticks": ""
                      },
                      "baxis": {
                        "gridcolor": "white",
                        "linecolor": "white",
                        "ticks": ""
                      },
                      "bgcolor": "#E5ECF6",
                      "caxis": {
                        "gridcolor": "white",
                        "linecolor": "white",
                        "ticks": ""
                      }
                    },
                    "title": {
                      "x": 0.05
                    },
                    "xaxis": {
                      "automargin": true,
                      "gridcolor": "white",
                      "linecolor": "white",
                      "ticks": "",
                      "title": {
                        "standoff": 15
                      },
                      "zerolinecolor": "white",
                      "zerolinewidth": 2
                    },
                    "yaxis": {
                      "automargin": true,
                      "gridcolor": "white",
                      "linecolor": "white",
                      "ticks": "",
                      "title": {
                        "standoff": 15
                      },
                      "zerolinecolor": "white",
                      "zerolinewidth": 2
                    }
                  }
                },
                "xaxis": {
                  "anchor": "y",
                  "domain": [
                    0,
                    1
                  ],
                  "title": {
                    "text": "island"
                  }
                },
                "yaxis": {
                  "anchor": "x",
                  "domain": [
                    0,
                    1
                  ],
                  "title": {
                    "text": "bill_depth_mm"
                  }
                }
              }
            }
          },
          "metadata": {},
          "output_type": "display_data"
        }
      ],
      "source": [
        "fig1  = px.box(df , x=\"island\", y=\"bill_depth_mm\", color=\"species\")\n",
        "fig1.show()"
      ]
    },
    {
      "cell_type": "markdown",
      "metadata": {
        "id": "_twC2-AGVyWg"
      },
      "source": [
        "- On `Torgersen` Island `Adelie` Specie Have Highest `Bill_depth_mm` and On `Biscoe` Island `Gentoo` Specie Have Lowest `Bill_depth_mm`"
      ]
    },
    {
      "cell_type": "code",
      "execution_count": 62,
      "metadata": {},
      "outputs": [
        {
          "data": {
            "text/html": [
              "<div>\n",
              "<style scoped>\n",
              "    .dataframe tbody tr th:only-of-type {\n",
              "        vertical-align: middle;\n",
              "    }\n",
              "\n",
              "    .dataframe tbody tr th {\n",
              "        vertical-align: top;\n",
              "    }\n",
              "\n",
              "    .dataframe thead th {\n",
              "        text-align: right;\n",
              "    }\n",
              "</style>\n",
              "<table border=\"1\" class=\"dataframe\">\n",
              "  <thead>\n",
              "    <tr style=\"text-align: right;\">\n",
              "      <th></th>\n",
              "      <th>species</th>\n",
              "      <th>island</th>\n",
              "      <th>bill_length_mm</th>\n",
              "      <th>bill_depth_mm</th>\n",
              "      <th>flipper_length_mm</th>\n",
              "      <th>body_mass_g</th>\n",
              "      <th>sex</th>\n",
              "    </tr>\n",
              "  </thead>\n",
              "  <tbody>\n",
              "    <tr>\n",
              "      <th>0</th>\n",
              "      <td>Adelie</td>\n",
              "      <td>Torgersen</td>\n",
              "      <td>39.1</td>\n",
              "      <td>18.7</td>\n",
              "      <td>181.0</td>\n",
              "      <td>3750.0</td>\n",
              "      <td>Male</td>\n",
              "    </tr>\n",
              "    <tr>\n",
              "      <th>1</th>\n",
              "      <td>Adelie</td>\n",
              "      <td>Torgersen</td>\n",
              "      <td>39.5</td>\n",
              "      <td>17.4</td>\n",
              "      <td>186.0</td>\n",
              "      <td>3800.0</td>\n",
              "      <td>Female</td>\n",
              "    </tr>\n",
              "    <tr>\n",
              "      <th>2</th>\n",
              "      <td>Adelie</td>\n",
              "      <td>Torgersen</td>\n",
              "      <td>40.3</td>\n",
              "      <td>18.0</td>\n",
              "      <td>195.0</td>\n",
              "      <td>3250.0</td>\n",
              "      <td>Female</td>\n",
              "    </tr>\n",
              "    <tr>\n",
              "      <th>4</th>\n",
              "      <td>Adelie</td>\n",
              "      <td>Torgersen</td>\n",
              "      <td>36.7</td>\n",
              "      <td>19.3</td>\n",
              "      <td>193.0</td>\n",
              "      <td>3450.0</td>\n",
              "      <td>Female</td>\n",
              "    </tr>\n",
              "    <tr>\n",
              "      <th>5</th>\n",
              "      <td>Adelie</td>\n",
              "      <td>Torgersen</td>\n",
              "      <td>39.3</td>\n",
              "      <td>20.6</td>\n",
              "      <td>190.0</td>\n",
              "      <td>3650.0</td>\n",
              "      <td>Male</td>\n",
              "    </tr>\n",
              "  </tbody>\n",
              "</table>\n",
              "</div>"
            ],
            "text/plain": [
              "  species     island  bill_length_mm  bill_depth_mm  flipper_length_mm  \\\n",
              "0  Adelie  Torgersen            39.1           18.7              181.0   \n",
              "1  Adelie  Torgersen            39.5           17.4              186.0   \n",
              "2  Adelie  Torgersen            40.3           18.0              195.0   \n",
              "4  Adelie  Torgersen            36.7           19.3              193.0   \n",
              "5  Adelie  Torgersen            39.3           20.6              190.0   \n",
              "\n",
              "   body_mass_g     sex  \n",
              "0       3750.0    Male  \n",
              "1       3800.0  Female  \n",
              "2       3250.0  Female  \n",
              "4       3450.0  Female  \n",
              "5       3650.0    Male  "
            ]
          },
          "execution_count": 62,
          "metadata": {},
          "output_type": "execute_result"
        }
      ],
      "source": [
        "df.head()"
      ]
    },
    {
      "cell_type": "markdown",
      "metadata": {},
      "source": [
        "# 4. Which Island Have High Number of Species "
      ]
    },
    {
      "cell_type": "code",
      "execution_count": 63,
      "metadata": {},
      "outputs": [],
      "source": [
        "# Which Island Have High Number of Species \n",
        "val_count = df.groupby(\"island\")[\"species\"].value_counts()"
      ]
    },
    {
      "cell_type": "code",
      "execution_count": 64,
      "metadata": {},
      "outputs": [
        {
          "data": {
            "image/png": "[encoded data removed]",
            "text/plain": [
              "<Figure size 800x600 with 1 Axes>"
            ]
          },
          "metadata": {},
          "output_type": "display_data"
        }
      ],
      "source": [
        "import seaborn as sns\n",
        "import matplotlib.pyplot as plt\n",
        "\n",
        "# Load the penguins dataset\n",
        "df = sns.load_dataset(\"penguins\")\n",
        "\n",
        "# Create a countplot to show the distribution of penguin species across islands\n",
        "plt.figure(figsize=(8, 6))\n",
        "sns.countplot(x='island', data=df, hue='species')\n",
        "plt.title('Distribution of Penguin Species across Islands')\n",
        "plt.xlabel('Island')\n",
        "plt.ylabel('Count of Species')\n",
        "plt.legend(title='Species', loc='upper right')\n",
        "plt.show()\n"
      ]
    },
    {
      "cell_type": "markdown",
      "metadata": {},
      "source": [
        "From Above Fig  we Can See That `Biscoe` Island Have Higher Number Of `Gentoo` Specie"
      ]
    },
    {
      "cell_type": "code",
      "execution_count": 65,
      "metadata": {},
      "outputs": [
        {
          "data": {
            "text/html": [
              "<div>\n",
              "<style scoped>\n",
              "    .dataframe tbody tr th:only-of-type {\n",
              "        vertical-align: middle;\n",
              "    }\n",
              "\n",
              "    .dataframe tbody tr th {\n",
              "        vertical-align: top;\n",
              "    }\n",
              "\n",
              "    .dataframe thead th {\n",
              "        text-align: right;\n",
              "    }\n",
              "</style>\n",
              "<table border=\"1\" class=\"dataframe\">\n",
              "  <thead>\n",
              "    <tr style=\"text-align: right;\">\n",
              "      <th></th>\n",
              "      <th>species</th>\n",
              "      <th>island</th>\n",
              "      <th>bill_length_mm</th>\n",
              "      <th>bill_depth_mm</th>\n",
              "      <th>flipper_length_mm</th>\n",
              "      <th>body_mass_g</th>\n",
              "      <th>sex</th>\n",
              "    </tr>\n",
              "  </thead>\n",
              "  <tbody>\n",
              "    <tr>\n",
              "      <th>0</th>\n",
              "      <td>Adelie</td>\n",
              "      <td>Torgersen</td>\n",
              "      <td>39.1</td>\n",
              "      <td>18.7</td>\n",
              "      <td>181.0</td>\n",
              "      <td>3750.0</td>\n",
              "      <td>Male</td>\n",
              "    </tr>\n",
              "    <tr>\n",
              "      <th>1</th>\n",
              "      <td>Adelie</td>\n",
              "      <td>Torgersen</td>\n",
              "      <td>39.5</td>\n",
              "      <td>17.4</td>\n",
              "      <td>186.0</td>\n",
              "      <td>3800.0</td>\n",
              "      <td>Female</td>\n",
              "    </tr>\n",
              "    <tr>\n",
              "      <th>2</th>\n",
              "      <td>Adelie</td>\n",
              "      <td>Torgersen</td>\n",
              "      <td>40.3</td>\n",
              "      <td>18.0</td>\n",
              "      <td>195.0</td>\n",
              "      <td>3250.0</td>\n",
              "      <td>Female</td>\n",
              "    </tr>\n",
              "    <tr>\n",
              "      <th>3</th>\n",
              "      <td>Adelie</td>\n",
              "      <td>Torgersen</td>\n",
              "      <td>NaN</td>\n",
              "      <td>NaN</td>\n",
              "      <td>NaN</td>\n",
              "      <td>NaN</td>\n",
              "      <td>NaN</td>\n",
              "    </tr>\n",
              "    <tr>\n",
              "      <th>4</th>\n",
              "      <td>Adelie</td>\n",
              "      <td>Torgersen</td>\n",
              "      <td>36.7</td>\n",
              "      <td>19.3</td>\n",
              "      <td>193.0</td>\n",
              "      <td>3450.0</td>\n",
              "      <td>Female</td>\n",
              "    </tr>\n",
              "  </tbody>\n",
              "</table>\n",
              "</div>"
            ],
            "text/plain": [
              "  species     island  bill_length_mm  bill_depth_mm  flipper_length_mm  \\\n",
              "0  Adelie  Torgersen            39.1           18.7              181.0   \n",
              "1  Adelie  Torgersen            39.5           17.4              186.0   \n",
              "2  Adelie  Torgersen            40.3           18.0              195.0   \n",
              "3  Adelie  Torgersen             NaN            NaN                NaN   \n",
              "4  Adelie  Torgersen            36.7           19.3              193.0   \n",
              "\n",
              "   body_mass_g     sex  \n",
              "0       3750.0    Male  \n",
              "1       3800.0  Female  \n",
              "2       3250.0  Female  \n",
              "3          NaN     NaN  \n",
              "4       3450.0  Female  "
            ]
          },
          "execution_count": 65,
          "metadata": {},
          "output_type": "execute_result"
        }
      ],
      "source": [
        "df.head()"
      ]
    },
    {
      "cell_type": "markdown",
      "metadata": {},
      "source": [
        "# 5 . Island Wise Top 5 Species Having High Bill_length_mm "
      ]
    },
    {
      "cell_type": "code",
      "execution_count": 66,
      "metadata": {},
      "outputs": [
        {
          "data": {
            "text/plain": [
              "island     species  \n",
              "Biscoe     Gentoo       5843.1\n",
              "Dream      Chinstrap    3320.7\n",
              "           Adelie       2156.1\n",
              "Torgersen  Adelie       1986.5\n",
              "Biscoe     Adelie       1714.9\n",
              "Name: bill_length_mm, dtype: float64"
            ]
          },
          "execution_count": 66,
          "metadata": {},
          "output_type": "execute_result"
        }
      ],
      "source": [
        "df.groupby([\"island\",\"species\"])[\"bill_length_mm\"].sum().sort_values(ascending=False)\n",
        "df.groupby([\"island\",\"species\"])[\"bill_length_mm\"].sum().sort_values(ascending=False).head(10)"
      ]
    },
    {
      "cell_type": "code",
      "execution_count": 67,
      "metadata": {},
      "outputs": [
        {
          "data": {
            "text/plain": [
              "<Axes: ylabel='island,species'>"
            ]
          },
          "execution_count": 67,
          "metadata": {},
          "output_type": "execute_result"
        },
        {
          "data": {
            "image/png": "[encoded data removed]",
            "text/plain": [
              "<Figure size 640x480 with 1 Axes>"
            ]
          },
          "metadata": {},
          "output_type": "display_data"
        }
      ],
      "source": [
        "df.groupby([\"island\",\"species\"])[\"bill_length_mm\"].sum().sort_values(ascending=False).head(10).plot(kind=\"barh\")\n"
      ]
    },
    {
      "cell_type": "markdown",
      "metadata": {},
      "source": [
        "# 6 . Island Wise Top 5 Species Having High flipper_length_mm "
      ]
    },
    {
      "cell_type": "code",
      "execution_count": 68,
      "metadata": {},
      "outputs": [
        {
          "data": {
            "text/plain": [
              "<Axes: ylabel='island,species'>"
            ]
          },
          "execution_count": 68,
          "metadata": {},
          "output_type": "execute_result"
        },
        {
          "data": {
            "image/png": "[encoded data removed]",
            "text/plain": [
              "<Figure size 640x480 with 1 Axes>"
            ]
          },
          "metadata": {},
          "output_type": "display_data"
        }
      ],
      "source": [
        "df.groupby([\"island\",\"species\"])[\"flipper_length_mm\"].sum().sort_values(ascending=False).head(10)\n",
        "df.groupby([\"island\",\"species\"])[\"flipper_length_mm\"].sum().sort_values(ascending=False).head(10).plot(kind=\"barh\")"
      ]
    },
    {
      "cell_type": "markdown",
      "metadata": {},
      "source": [
        "# 7 . Island Wise Top 5 Sex Having High flipper_length_mm "
      ]
    },
    {
      "cell_type": "code",
      "execution_count": 69,
      "metadata": {},
      "outputs": [
        {
          "data": {
            "image/png": "[encoded data removed]",
            "text/plain": [
              "<Figure size 640x480 with 1 Axes>"
            ]
          },
          "metadata": {},
          "output_type": "display_data"
        }
      ],
      "source": [
        "df.groupby([\"island\",\"sex\"])[\"flipper_length_mm\"].sum().sort_values(ascending=False).head(10)\n",
        "df.groupby([\"island\",\"sex\"])[\"flipper_length_mm\"].sum().sort_values(ascending=False).head(10).plot(kind=\"barh\")\n",
        "plt.xlabel(\"flipper_length_mm\")\n",
        "plt.ylabel(\"Island Wise Species\")\n",
        "plt.title(\"Flipper Length by Island\")\n",
        "plt.show()\n"
      ]
    },
    {
      "cell_type": "code",
      "execution_count": 70,
      "metadata": {},
      "outputs": [
        {
          "data": {
            "text/plain": [
              "Index(['species', 'island', 'bill_length_mm', 'bill_depth_mm',\n",
              "       'flipper_length_mm', 'body_mass_g', 'sex'],\n",
              "      dtype='object')"
            ]
          },
          "execution_count": 70,
          "metadata": {},
          "output_type": "execute_result"
        }
      ],
      "source": [
        "df.columns"
      ]
    },
    {
      "cell_type": "markdown",
      "metadata": {},
      "source": [
        "# 8 . Island Wise Top 5 Species Having High Body_Mass "
      ]
    },
    {
      "cell_type": "code",
      "execution_count": 71,
      "metadata": {},
      "outputs": [
        {
          "data": {
            "image/png": "[encoded data removed]",
            "text/plain": [
              "<Figure size 640x480 with 1 Axes>"
            ]
          },
          "metadata": {},
          "output_type": "display_data"
        }
      ],
      "source": [
        "# Island Wise Species Bodymass\n",
        "df.groupby([\"island\",\"species\"])[\"body_mass_g\"].sum().sort_values(ascending=False).head(10)\n",
        "df.groupby([\"island\",\"species\"])[\"body_mass_g\"].sum().sort_values(ascending=False).head(10).plot(kind=\"barh\")\n",
        "plt.show()"
      ]
    },
    {
      "cell_type": "markdown",
      "metadata": {},
      "source": [
        "# Steps To Ready Data For Machine Learning\n"
      ]
    },
    {
      "cell_type": "markdown",
      "metadata": {},
      "source": [
        "# Encode Data "
      ]
    },
    {
      "cell_type": "code",
      "execution_count": 72,
      "metadata": {},
      "outputs": [
        {
          "data": {
            "text/plain": [
              "array(['Adelie', 'Chinstrap', 'Gentoo'], dtype=object)"
            ]
          },
          "execution_count": 72,
          "metadata": {},
          "output_type": "execute_result"
        }
      ],
      "source": [
        "df[\"species\"].unique()"
      ]
    },
    {
      "cell_type": "markdown",
      "metadata": {},
      "source": [
        "- Encode Island "
      ]
    },
    {
      "cell_type": "code",
      "execution_count": 73,
      "metadata": {},
      "outputs": [],
      "source": [
        "from sklearn.preprocessing import OrdinalEncoder\n",
        "\n",
        "encoder = OrdinalEncoder(categories=[['Torgersen', 'Biscoe', 'Dream']])\n",
        "\n",
        "df[\"Island_encode\"] = encoder.fit_transform(df[[\"island\"]])\n"
      ]
    },
    {
      "cell_type": "markdown",
      "metadata": {},
      "source": [
        "- Encode Species"
      ]
    },
    {
      "cell_type": "code",
      "execution_count": 74,
      "metadata": {},
      "outputs": [],
      "source": [
        "\n",
        "from sklearn.preprocessing import OrdinalEncoder\n",
        "\n",
        "encoder = OrdinalEncoder(categories=[['Adelie', 'Chinstrap', 'Gentoo']])\n",
        "\n",
        "df[\"Species_encode\"] = encoder.fit_transform(df[[\"species\"]])\n",
        "\n"
      ]
    },
    {
      "cell_type": "markdown",
      "metadata": {},
      "source": [
        "- Encode Sex"
      ]
    },
    {
      "cell_type": "code",
      "execution_count": 78,
      "metadata": {},
      "outputs": [
        {
          "data": {
            "text/html": [
              "<div>\n",
              "<style scoped>\n",
              "    .dataframe tbody tr th:only-of-type {\n",
              "        vertical-align: middle;\n",
              "    }\n",
              "\n",
              "    .dataframe tbody tr th {\n",
              "        vertical-align: top;\n",
              "    }\n",
              "\n",
              "    .dataframe thead th {\n",
              "        text-align: right;\n",
              "    }\n",
              "</style>\n",
              "<table border=\"1\" class=\"dataframe\">\n",
              "  <thead>\n",
              "    <tr style=\"text-align: right;\">\n",
              "      <th></th>\n",
              "      <th>species</th>\n",
              "      <th>island</th>\n",
              "      <th>bill_length_mm</th>\n",
              "      <th>bill_depth_mm</th>\n",
              "      <th>flipper_length_mm</th>\n",
              "      <th>body_mass_g</th>\n",
              "      <th>sex</th>\n",
              "      <th>Island_encode</th>\n",
              "      <th>Species_encode</th>\n",
              "    </tr>\n",
              "  </thead>\n",
              "  <tbody>\n",
              "    <tr>\n",
              "      <th>0</th>\n",
              "      <td>Adelie</td>\n",
              "      <td>Torgersen</td>\n",
              "      <td>39.1</td>\n",
              "      <td>18.7</td>\n",
              "      <td>181.0</td>\n",
              "      <td>3750.0</td>\n",
              "      <td>Male</td>\n",
              "      <td>0.0</td>\n",
              "      <td>0.0</td>\n",
              "    </tr>\n",
              "    <tr>\n",
              "      <th>1</th>\n",
              "      <td>Adelie</td>\n",
              "      <td>Torgersen</td>\n",
              "      <td>39.5</td>\n",
              "      <td>17.4</td>\n",
              "      <td>186.0</td>\n",
              "      <td>3800.0</td>\n",
              "      <td>Female</td>\n",
              "      <td>0.0</td>\n",
              "      <td>0.0</td>\n",
              "    </tr>\n",
              "    <tr>\n",
              "      <th>2</th>\n",
              "      <td>Adelie</td>\n",
              "      <td>Torgersen</td>\n",
              "      <td>40.3</td>\n",
              "      <td>18.0</td>\n",
              "      <td>195.0</td>\n",
              "      <td>3250.0</td>\n",
              "      <td>Female</td>\n",
              "      <td>0.0</td>\n",
              "      <td>0.0</td>\n",
              "    </tr>\n",
              "    <tr>\n",
              "      <th>3</th>\n",
              "      <td>Adelie</td>\n",
              "      <td>Torgersen</td>\n",
              "      <td>NaN</td>\n",
              "      <td>NaN</td>\n",
              "      <td>NaN</td>\n",
              "      <td>NaN</td>\n",
              "      <td>NaN</td>\n",
              "      <td>0.0</td>\n",
              "      <td>0.0</td>\n",
              "    </tr>\n",
              "    <tr>\n",
              "      <th>4</th>\n",
              "      <td>Adelie</td>\n",
              "      <td>Torgersen</td>\n",
              "      <td>36.7</td>\n",
              "      <td>19.3</td>\n",
              "      <td>193.0</td>\n",
              "      <td>3450.0</td>\n",
              "      <td>Female</td>\n",
              "      <td>0.0</td>\n",
              "      <td>0.0</td>\n",
              "    </tr>\n",
              "  </tbody>\n",
              "</table>\n",
              "</div>"
            ],
            "text/plain": [
              "  species     island  bill_length_mm  bill_depth_mm  flipper_length_mm  \\\n",
              "0  Adelie  Torgersen            39.1           18.7              181.0   \n",
              "1  Adelie  Torgersen            39.5           17.4              186.0   \n",
              "2  Adelie  Torgersen            40.3           18.0              195.0   \n",
              "3  Adelie  Torgersen             NaN            NaN                NaN   \n",
              "4  Adelie  Torgersen            36.7           19.3              193.0   \n",
              "\n",
              "   body_mass_g     sex  Island_encode  Species_encode  \n",
              "0       3750.0    Male            0.0             0.0  \n",
              "1       3800.0  Female            0.0             0.0  \n",
              "2       3250.0  Female            0.0             0.0  \n",
              "3          NaN     NaN            0.0             0.0  \n",
              "4       3450.0  Female            0.0             0.0  "
            ]
          },
          "execution_count": 78,
          "metadata": {},
          "output_type": "execute_result"
        }
      ],
      "source": [
        "df.head()"
      ]
    },
    {
      "cell_type": "code",
      "execution_count": 89,
      "metadata": {},
      "outputs": [],
      "source": [
        "\n",
        "from sklearn.preprocessing import OrdinalEncoder\n",
        "\n",
        "encoder = OrdinalEncoder(categories=[['Male', 'Female']])\n",
        "\n",
        "df[\"Sex_encode\"] = encoder.fit_transform(df[[\"sex\"]])\n",
        "\n"
      ]
    },
    {
      "cell_type": "code",
      "execution_count": 90,
      "metadata": {},
      "outputs": [
        {
          "data": {
            "text/html": [
              "<div>\n",
              "<style scoped>\n",
              "    .dataframe tbody tr th:only-of-type {\n",
              "        vertical-align: middle;\n",
              "    }\n",
              "\n",
              "    .dataframe tbody tr th {\n",
              "        vertical-align: top;\n",
              "    }\n",
              "\n",
              "    .dataframe thead th {\n",
              "        text-align: right;\n",
              "    }\n",
              "</style>\n",
              "<table border=\"1\" class=\"dataframe\">\n",
              "  <thead>\n",
              "    <tr style=\"text-align: right;\">\n",
              "      <th></th>\n",
              "      <th>species</th>\n",
              "      <th>island</th>\n",
              "      <th>bill_length_mm</th>\n",
              "      <th>bill_depth_mm</th>\n",
              "      <th>flipper_length_mm</th>\n",
              "      <th>body_mass_g</th>\n",
              "      <th>sex</th>\n",
              "      <th>Island_encode</th>\n",
              "      <th>Species_encode</th>\n",
              "      <th>Sex_encode</th>\n",
              "    </tr>\n",
              "  </thead>\n",
              "  <tbody>\n",
              "    <tr>\n",
              "      <th>0</th>\n",
              "      <td>Adelie</td>\n",
              "      <td>Torgersen</td>\n",
              "      <td>39.10000</td>\n",
              "      <td>18.70000</td>\n",
              "      <td>181.00000</td>\n",
              "      <td>3750.000000</td>\n",
              "      <td>Male</td>\n",
              "      <td>0.0</td>\n",
              "      <td>0.0</td>\n",
              "      <td>0.0</td>\n",
              "    </tr>\n",
              "    <tr>\n",
              "      <th>1</th>\n",
              "      <td>Adelie</td>\n",
              "      <td>Torgersen</td>\n",
              "      <td>39.50000</td>\n",
              "      <td>17.40000</td>\n",
              "      <td>186.00000</td>\n",
              "      <td>3800.000000</td>\n",
              "      <td>Female</td>\n",
              "      <td>0.0</td>\n",
              "      <td>0.0</td>\n",
              "      <td>1.0</td>\n",
              "    </tr>\n",
              "    <tr>\n",
              "      <th>2</th>\n",
              "      <td>Adelie</td>\n",
              "      <td>Torgersen</td>\n",
              "      <td>40.30000</td>\n",
              "      <td>18.00000</td>\n",
              "      <td>195.00000</td>\n",
              "      <td>3250.000000</td>\n",
              "      <td>Female</td>\n",
              "      <td>0.0</td>\n",
              "      <td>0.0</td>\n",
              "      <td>1.0</td>\n",
              "    </tr>\n",
              "    <tr>\n",
              "      <th>3</th>\n",
              "      <td>Adelie</td>\n",
              "      <td>Torgersen</td>\n",
              "      <td>43.92193</td>\n",
              "      <td>43.92193</td>\n",
              "      <td>43.92193</td>\n",
              "      <td>4201.754386</td>\n",
              "      <td>Male</td>\n",
              "      <td>0.0</td>\n",
              "      <td>0.0</td>\n",
              "      <td>0.0</td>\n",
              "    </tr>\n",
              "    <tr>\n",
              "      <th>4</th>\n",
              "      <td>Adelie</td>\n",
              "      <td>Torgersen</td>\n",
              "      <td>36.70000</td>\n",
              "      <td>19.30000</td>\n",
              "      <td>193.00000</td>\n",
              "      <td>3450.000000</td>\n",
              "      <td>Female</td>\n",
              "      <td>0.0</td>\n",
              "      <td>0.0</td>\n",
              "      <td>1.0</td>\n",
              "    </tr>\n",
              "  </tbody>\n",
              "</table>\n",
              "</div>"
            ],
            "text/plain": [
              "  species     island  bill_length_mm  bill_depth_mm  flipper_length_mm  \\\n",
              "0  Adelie  Torgersen        39.10000       18.70000          181.00000   \n",
              "1  Adelie  Torgersen        39.50000       17.40000          186.00000   \n",
              "2  Adelie  Torgersen        40.30000       18.00000          195.00000   \n",
              "3  Adelie  Torgersen        43.92193       43.92193           43.92193   \n",
              "4  Adelie  Torgersen        36.70000       19.30000          193.00000   \n",
              "\n",
              "   body_mass_g     sex  Island_encode  Species_encode  Sex_encode  \n",
              "0  3750.000000    Male            0.0             0.0         0.0  \n",
              "1  3800.000000  Female            0.0             0.0         1.0  \n",
              "2  3250.000000  Female            0.0             0.0         1.0  \n",
              "3  4201.754386    Male            0.0             0.0         0.0  \n",
              "4  3450.000000  Female            0.0             0.0         1.0  "
            ]
          },
          "execution_count": 90,
          "metadata": {},
          "output_type": "execute_result"
        }
      ],
      "source": [
        "df.head()"
      ]
    },
    {
      "cell_type": "markdown",
      "metadata": {},
      "source": [
        "- Lets Remove Categorical Columns"
      ]
    },
    {
      "cell_type": "code",
      "execution_count": 91,
      "metadata": {},
      "outputs": [],
      "source": [
        "df.drop(columns=\"species\" , inplace=True)\n",
        "df.drop(columns=\"sex\" , inplace=True)\n",
        "df.drop(columns=\"island\" , inplace=True)\n"
      ]
    },
    {
      "cell_type": "markdown",
      "metadata": {},
      "source": [
        " Here All The Categorical Columns ARe Encoded For Machine Learning"
      ]
    },
    {
      "cell_type": "markdown",
      "metadata": {},
      "source": [
        "# Scale Data Using Min-Max Scaling "
      ]
    },
    {
      "cell_type": "markdown",
      "metadata": {},
      "source": [
        "- Scale Body_mass Column"
      ]
    },
    {
      "cell_type": "code",
      "execution_count": 92,
      "metadata": {},
      "outputs": [
        {
          "data": {
            "text/html": [
              "<div>\n",
              "<style scoped>\n",
              "    .dataframe tbody tr th:only-of-type {\n",
              "        vertical-align: middle;\n",
              "    }\n",
              "\n",
              "    .dataframe tbody tr th {\n",
              "        vertical-align: top;\n",
              "    }\n",
              "\n",
              "    .dataframe thead th {\n",
              "        text-align: right;\n",
              "    }\n",
              "</style>\n",
              "<table border=\"1\" class=\"dataframe\">\n",
              "  <thead>\n",
              "    <tr style=\"text-align: right;\">\n",
              "      <th></th>\n",
              "      <th>bill_length_mm</th>\n",
              "      <th>bill_depth_mm</th>\n",
              "      <th>flipper_length_mm</th>\n",
              "      <th>body_mass_g</th>\n",
              "      <th>Island_encode</th>\n",
              "      <th>Species_encode</th>\n",
              "      <th>Sex_encode</th>\n",
              "      <th>body_mass_g_scaled</th>\n",
              "    </tr>\n",
              "  </thead>\n",
              "  <tbody>\n",
              "    <tr>\n",
              "      <th>0</th>\n",
              "      <td>39.10000</td>\n",
              "      <td>18.70000</td>\n",
              "      <td>181.00000</td>\n",
              "      <td>3750.000000</td>\n",
              "      <td>0.0</td>\n",
              "      <td>0.0</td>\n",
              "      <td>0.0</td>\n",
              "      <td>0.291667</td>\n",
              "    </tr>\n",
              "    <tr>\n",
              "      <th>1</th>\n",
              "      <td>39.50000</td>\n",
              "      <td>17.40000</td>\n",
              "      <td>186.00000</td>\n",
              "      <td>3800.000000</td>\n",
              "      <td>0.0</td>\n",
              "      <td>0.0</td>\n",
              "      <td>1.0</td>\n",
              "      <td>0.305556</td>\n",
              "    </tr>\n",
              "    <tr>\n",
              "      <th>2</th>\n",
              "      <td>40.30000</td>\n",
              "      <td>18.00000</td>\n",
              "      <td>195.00000</td>\n",
              "      <td>3250.000000</td>\n",
              "      <td>0.0</td>\n",
              "      <td>0.0</td>\n",
              "      <td>1.0</td>\n",
              "      <td>0.152778</td>\n",
              "    </tr>\n",
              "    <tr>\n",
              "      <th>3</th>\n",
              "      <td>43.92193</td>\n",
              "      <td>43.92193</td>\n",
              "      <td>43.92193</td>\n",
              "      <td>4201.754386</td>\n",
              "      <td>0.0</td>\n",
              "      <td>0.0</td>\n",
              "      <td>0.0</td>\n",
              "      <td>0.417154</td>\n",
              "    </tr>\n",
              "    <tr>\n",
              "      <th>4</th>\n",
              "      <td>36.70000</td>\n",
              "      <td>19.30000</td>\n",
              "      <td>193.00000</td>\n",
              "      <td>3450.000000</td>\n",
              "      <td>0.0</td>\n",
              "      <td>0.0</td>\n",
              "      <td>1.0</td>\n",
              "      <td>0.208333</td>\n",
              "    </tr>\n",
              "  </tbody>\n",
              "</table>\n",
              "</div>"
            ],
            "text/plain": [
              "   bill_length_mm  bill_depth_mm  flipper_length_mm  body_mass_g  \\\n",
              "0        39.10000       18.70000          181.00000  3750.000000   \n",
              "1        39.50000       17.40000          186.00000  3800.000000   \n",
              "2        40.30000       18.00000          195.00000  3250.000000   \n",
              "3        43.92193       43.92193           43.92193  4201.754386   \n",
              "4        36.70000       19.30000          193.00000  3450.000000   \n",
              "\n",
              "   Island_encode  Species_encode  Sex_encode  body_mass_g_scaled  \n",
              "0            0.0             0.0         0.0            0.291667  \n",
              "1            0.0             0.0         1.0            0.305556  \n",
              "2            0.0             0.0         1.0            0.152778  \n",
              "3            0.0             0.0         0.0            0.417154  \n",
              "4            0.0             0.0         1.0            0.208333  "
            ]
          },
          "execution_count": 92,
          "metadata": {},
          "output_type": "execute_result"
        }
      ],
      "source": [
        "from sklearn.preprocessing import MinMaxScaler\n",
        "\n",
        "scaler = MinMaxScaler()\n",
        "\n",
        "df[\"body_mass_g_scaled\"] = scaler.fit_transform(df[[\"body_mass_g\"]])\n",
        "\n",
        "df.head()"
      ]
    },
    {
      "cell_type": "markdown",
      "metadata": {},
      "source": [
        "- Scale bill_length "
      ]
    },
    {
      "cell_type": "code",
      "execution_count": 93,
      "metadata": {},
      "outputs": [
        {
          "data": {
            "text/html": [
              "<div>\n",
              "<style scoped>\n",
              "    .dataframe tbody tr th:only-of-type {\n",
              "        vertical-align: middle;\n",
              "    }\n",
              "\n",
              "    .dataframe tbody tr th {\n",
              "        vertical-align: top;\n",
              "    }\n",
              "\n",
              "    .dataframe thead th {\n",
              "        text-align: right;\n",
              "    }\n",
              "</style>\n",
              "<table border=\"1\" class=\"dataframe\">\n",
              "  <thead>\n",
              "    <tr style=\"text-align: right;\">\n",
              "      <th></th>\n",
              "      <th>bill_length_mm</th>\n",
              "      <th>bill_depth_mm</th>\n",
              "      <th>flipper_length_mm</th>\n",
              "      <th>body_mass_g</th>\n",
              "      <th>Island_encode</th>\n",
              "      <th>Species_encode</th>\n",
              "      <th>Sex_encode</th>\n",
              "      <th>body_mass_g_scaled</th>\n",
              "      <th>bill_length_mm_scaled</th>\n",
              "    </tr>\n",
              "  </thead>\n",
              "  <tbody>\n",
              "    <tr>\n",
              "      <th>0</th>\n",
              "      <td>39.10000</td>\n",
              "      <td>18.70000</td>\n",
              "      <td>181.00000</td>\n",
              "      <td>3750.000000</td>\n",
              "      <td>0.0</td>\n",
              "      <td>0.0</td>\n",
              "      <td>0.0</td>\n",
              "      <td>0.291667</td>\n",
              "      <td>0.254545</td>\n",
              "    </tr>\n",
              "    <tr>\n",
              "      <th>1</th>\n",
              "      <td>39.50000</td>\n",
              "      <td>17.40000</td>\n",
              "      <td>186.00000</td>\n",
              "      <td>3800.000000</td>\n",
              "      <td>0.0</td>\n",
              "      <td>0.0</td>\n",
              "      <td>1.0</td>\n",
              "      <td>0.305556</td>\n",
              "      <td>0.269091</td>\n",
              "    </tr>\n",
              "    <tr>\n",
              "      <th>2</th>\n",
              "      <td>40.30000</td>\n",
              "      <td>18.00000</td>\n",
              "      <td>195.00000</td>\n",
              "      <td>3250.000000</td>\n",
              "      <td>0.0</td>\n",
              "      <td>0.0</td>\n",
              "      <td>1.0</td>\n",
              "      <td>0.152778</td>\n",
              "      <td>0.298182</td>\n",
              "    </tr>\n",
              "    <tr>\n",
              "      <th>3</th>\n",
              "      <td>43.92193</td>\n",
              "      <td>43.92193</td>\n",
              "      <td>43.92193</td>\n",
              "      <td>4201.754386</td>\n",
              "      <td>0.0</td>\n",
              "      <td>0.0</td>\n",
              "      <td>0.0</td>\n",
              "      <td>0.417154</td>\n",
              "      <td>0.429888</td>\n",
              "    </tr>\n",
              "    <tr>\n",
              "      <th>4</th>\n",
              "      <td>36.70000</td>\n",
              "      <td>19.30000</td>\n",
              "      <td>193.00000</td>\n",
              "      <td>3450.000000</td>\n",
              "      <td>0.0</td>\n",
              "      <td>0.0</td>\n",
              "      <td>1.0</td>\n",
              "      <td>0.208333</td>\n",
              "      <td>0.167273</td>\n",
              "    </tr>\n",
              "  </tbody>\n",
              "</table>\n",
              "</div>"
            ],
            "text/plain": [
              "   bill_length_mm  bill_depth_mm  flipper_length_mm  body_mass_g  \\\n",
              "0        39.10000       18.70000          181.00000  3750.000000   \n",
              "1        39.50000       17.40000          186.00000  3800.000000   \n",
              "2        40.30000       18.00000          195.00000  3250.000000   \n",
              "3        43.92193       43.92193           43.92193  4201.754386   \n",
              "4        36.70000       19.30000          193.00000  3450.000000   \n",
              "\n",
              "   Island_encode  Species_encode  Sex_encode  body_mass_g_scaled  \\\n",
              "0            0.0             0.0         0.0            0.291667   \n",
              "1            0.0             0.0         1.0            0.305556   \n",
              "2            0.0             0.0         1.0            0.152778   \n",
              "3            0.0             0.0         0.0            0.417154   \n",
              "4            0.0             0.0         1.0            0.208333   \n",
              "\n",
              "   bill_length_mm_scaled  \n",
              "0               0.254545  \n",
              "1               0.269091  \n",
              "2               0.298182  \n",
              "3               0.429888  \n",
              "4               0.167273  "
            ]
          },
          "execution_count": 93,
          "metadata": {},
          "output_type": "execute_result"
        }
      ],
      "source": [
        "from sklearn.preprocessing import MinMaxScaler\n",
        "\n",
        "scaler = MinMaxScaler()\n",
        "\n",
        "df[\"bill_length_mm_scaled\"] = scaler.fit_transform(df[[\"bill_length_mm\"]])\n",
        "\n",
        "df.head()"
      ]
    },
    {
      "cell_type": "markdown",
      "metadata": {},
      "source": [
        "- Sclae bill_depth"
      ]
    },
    {
      "cell_type": "code",
      "execution_count": 94,
      "metadata": {},
      "outputs": [
        {
          "data": {
            "text/html": [
              "<div>\n",
              "<style scoped>\n",
              "    .dataframe tbody tr th:only-of-type {\n",
              "        vertical-align: middle;\n",
              "    }\n",
              "\n",
              "    .dataframe tbody tr th {\n",
              "        vertical-align: top;\n",
              "    }\n",
              "\n",
              "    .dataframe thead th {\n",
              "        text-align: right;\n",
              "    }\n",
              "</style>\n",
              "<table border=\"1\" class=\"dataframe\">\n",
              "  <thead>\n",
              "    <tr style=\"text-align: right;\">\n",
              "      <th></th>\n",
              "      <th>bill_length_mm</th>\n",
              "      <th>bill_depth_mm</th>\n",
              "      <th>flipper_length_mm</th>\n",
              "      <th>body_mass_g</th>\n",
              "      <th>Island_encode</th>\n",
              "      <th>Species_encode</th>\n",
              "      <th>Sex_encode</th>\n",
              "      <th>body_mass_g_scaled</th>\n",
              "      <th>bill_length_mm_scaled</th>\n",
              "      <th>bill_depth_mm_scaled</th>\n",
              "    </tr>\n",
              "  </thead>\n",
              "  <tbody>\n",
              "    <tr>\n",
              "      <th>0</th>\n",
              "      <td>39.10000</td>\n",
              "      <td>18.70000</td>\n",
              "      <td>181.00000</td>\n",
              "      <td>3750.000000</td>\n",
              "      <td>0.0</td>\n",
              "      <td>0.0</td>\n",
              "      <td>0.0</td>\n",
              "      <td>0.291667</td>\n",
              "      <td>0.254545</td>\n",
              "      <td>0.181689</td>\n",
              "    </tr>\n",
              "    <tr>\n",
              "      <th>1</th>\n",
              "      <td>39.50000</td>\n",
              "      <td>17.40000</td>\n",
              "      <td>186.00000</td>\n",
              "      <td>3800.000000</td>\n",
              "      <td>0.0</td>\n",
              "      <td>0.0</td>\n",
              "      <td>1.0</td>\n",
              "      <td>0.305556</td>\n",
              "      <td>0.269091</td>\n",
              "      <td>0.139511</td>\n",
              "    </tr>\n",
              "    <tr>\n",
              "      <th>2</th>\n",
              "      <td>40.30000</td>\n",
              "      <td>18.00000</td>\n",
              "      <td>195.00000</td>\n",
              "      <td>3250.000000</td>\n",
              "      <td>0.0</td>\n",
              "      <td>0.0</td>\n",
              "      <td>1.0</td>\n",
              "      <td>0.152778</td>\n",
              "      <td>0.298182</td>\n",
              "      <td>0.158978</td>\n",
              "    </tr>\n",
              "    <tr>\n",
              "      <th>3</th>\n",
              "      <td>43.92193</td>\n",
              "      <td>43.92193</td>\n",
              "      <td>43.92193</td>\n",
              "      <td>4201.754386</td>\n",
              "      <td>0.0</td>\n",
              "      <td>0.0</td>\n",
              "      <td>0.0</td>\n",
              "      <td>0.417154</td>\n",
              "      <td>0.429888</td>\n",
              "      <td>1.000000</td>\n",
              "    </tr>\n",
              "    <tr>\n",
              "      <th>4</th>\n",
              "      <td>36.70000</td>\n",
              "      <td>19.30000</td>\n",
              "      <td>193.00000</td>\n",
              "      <td>3450.000000</td>\n",
              "      <td>0.0</td>\n",
              "      <td>0.0</td>\n",
              "      <td>1.0</td>\n",
              "      <td>0.208333</td>\n",
              "      <td>0.167273</td>\n",
              "      <td>0.201155</td>\n",
              "    </tr>\n",
              "  </tbody>\n",
              "</table>\n",
              "</div>"
            ],
            "text/plain": [
              "   bill_length_mm  bill_depth_mm  flipper_length_mm  body_mass_g  \\\n",
              "0        39.10000       18.70000          181.00000  3750.000000   \n",
              "1        39.50000       17.40000          186.00000  3800.000000   \n",
              "2        40.30000       18.00000          195.00000  3250.000000   \n",
              "3        43.92193       43.92193           43.92193  4201.754386   \n",
              "4        36.70000       19.30000          193.00000  3450.000000   \n",
              "\n",
              "   Island_encode  Species_encode  Sex_encode  body_mass_g_scaled  \\\n",
              "0            0.0             0.0         0.0            0.291667   \n",
              "1            0.0             0.0         1.0            0.305556   \n",
              "2            0.0             0.0         1.0            0.152778   \n",
              "3            0.0             0.0         0.0            0.417154   \n",
              "4            0.0             0.0         1.0            0.208333   \n",
              "\n",
              "   bill_length_mm_scaled  bill_depth_mm_scaled  \n",
              "0               0.254545              0.181689  \n",
              "1               0.269091              0.139511  \n",
              "2               0.298182              0.158978  \n",
              "3               0.429888              1.000000  \n",
              "4               0.167273              0.201155  "
            ]
          },
          "execution_count": 94,
          "metadata": {},
          "output_type": "execute_result"
        }
      ],
      "source": [
        "from sklearn.preprocessing import MinMaxScaler\n",
        "\n",
        "scaler = MinMaxScaler()\n",
        "\n",
        "df[\"bill_depth_mm_scaled\"] = scaler.fit_transform(df[[\"bill_depth_mm\"]])\n",
        "\n",
        "df.head()"
      ]
    },
    {
      "cell_type": "markdown",
      "metadata": {},
      "source": [
        "- Scale flipper_length"
      ]
    },
    {
      "cell_type": "code",
      "execution_count": 95,
      "metadata": {},
      "outputs": [
        {
          "data": {
            "text/html": [
              "<div>\n",
              "<style scoped>\n",
              "    .dataframe tbody tr th:only-of-type {\n",
              "        vertical-align: middle;\n",
              "    }\n",
              "\n",
              "    .dataframe tbody tr th {\n",
              "        vertical-align: top;\n",
              "    }\n",
              "\n",
              "    .dataframe thead th {\n",
              "        text-align: right;\n",
              "    }\n",
              "</style>\n",
              "<table border=\"1\" class=\"dataframe\">\n",
              "  <thead>\n",
              "    <tr style=\"text-align: right;\">\n",
              "      <th></th>\n",
              "      <th>bill_length_mm</th>\n",
              "      <th>bill_depth_mm</th>\n",
              "      <th>flipper_length_mm</th>\n",
              "      <th>body_mass_g</th>\n",
              "      <th>Island_encode</th>\n",
              "      <th>Species_encode</th>\n",
              "      <th>Sex_encode</th>\n",
              "      <th>body_mass_g_scaled</th>\n",
              "      <th>bill_length_mm_scaled</th>\n",
              "      <th>bill_depth_mm_scaled</th>\n",
              "      <th>flipper_length_mm_scaled</th>\n",
              "    </tr>\n",
              "  </thead>\n",
              "  <tbody>\n",
              "    <tr>\n",
              "      <th>0</th>\n",
              "      <td>39.10000</td>\n",
              "      <td>18.70000</td>\n",
              "      <td>181.00000</td>\n",
              "      <td>3750.000000</td>\n",
              "      <td>0.0</td>\n",
              "      <td>0.0</td>\n",
              "      <td>0.0</td>\n",
              "      <td>0.291667</td>\n",
              "      <td>0.254545</td>\n",
              "      <td>0.181689</td>\n",
              "      <td>0.732732</td>\n",
              "    </tr>\n",
              "    <tr>\n",
              "      <th>1</th>\n",
              "      <td>39.50000</td>\n",
              "      <td>17.40000</td>\n",
              "      <td>186.00000</td>\n",
              "      <td>3800.000000</td>\n",
              "      <td>0.0</td>\n",
              "      <td>0.0</td>\n",
              "      <td>1.0</td>\n",
              "      <td>0.305556</td>\n",
              "      <td>0.269091</td>\n",
              "      <td>0.139511</td>\n",
              "      <td>0.759459</td>\n",
              "    </tr>\n",
              "    <tr>\n",
              "      <th>2</th>\n",
              "      <td>40.30000</td>\n",
              "      <td>18.00000</td>\n",
              "      <td>195.00000</td>\n",
              "      <td>3250.000000</td>\n",
              "      <td>0.0</td>\n",
              "      <td>0.0</td>\n",
              "      <td>1.0</td>\n",
              "      <td>0.152778</td>\n",
              "      <td>0.298182</td>\n",
              "      <td>0.158978</td>\n",
              "      <td>0.807567</td>\n",
              "    </tr>\n",
              "    <tr>\n",
              "      <th>3</th>\n",
              "      <td>43.92193</td>\n",
              "      <td>43.92193</td>\n",
              "      <td>43.92193</td>\n",
              "      <td>4201.754386</td>\n",
              "      <td>0.0</td>\n",
              "      <td>0.0</td>\n",
              "      <td>0.0</td>\n",
              "      <td>0.417154</td>\n",
              "      <td>0.429888</td>\n",
              "      <td>1.000000</td>\n",
              "      <td>0.000000</td>\n",
              "    </tr>\n",
              "    <tr>\n",
              "      <th>4</th>\n",
              "      <td>36.70000</td>\n",
              "      <td>19.30000</td>\n",
              "      <td>193.00000</td>\n",
              "      <td>3450.000000</td>\n",
              "      <td>0.0</td>\n",
              "      <td>0.0</td>\n",
              "      <td>1.0</td>\n",
              "      <td>0.208333</td>\n",
              "      <td>0.167273</td>\n",
              "      <td>0.201155</td>\n",
              "      <td>0.796876</td>\n",
              "    </tr>\n",
              "  </tbody>\n",
              "</table>\n",
              "</div>"
            ],
            "text/plain": [
              "   bill_length_mm  bill_depth_mm  flipper_length_mm  body_mass_g  \\\n",
              "0        39.10000       18.70000          181.00000  3750.000000   \n",
              "1        39.50000       17.40000          186.00000  3800.000000   \n",
              "2        40.30000       18.00000          195.00000  3250.000000   \n",
              "3        43.92193       43.92193           43.92193  4201.754386   \n",
              "4        36.70000       19.30000          193.00000  3450.000000   \n",
              "\n",
              "   Island_encode  Species_encode  Sex_encode  body_mass_g_scaled  \\\n",
              "0            0.0             0.0         0.0            0.291667   \n",
              "1            0.0             0.0         1.0            0.305556   \n",
              "2            0.0             0.0         1.0            0.152778   \n",
              "3            0.0             0.0         0.0            0.417154   \n",
              "4            0.0             0.0         1.0            0.208333   \n",
              "\n",
              "   bill_length_mm_scaled  bill_depth_mm_scaled  flipper_length_mm_scaled  \n",
              "0               0.254545              0.181689                  0.732732  \n",
              "1               0.269091              0.139511                  0.759459  \n",
              "2               0.298182              0.158978                  0.807567  \n",
              "3               0.429888              1.000000                  0.000000  \n",
              "4               0.167273              0.201155                  0.796876  "
            ]
          },
          "execution_count": 95,
          "metadata": {},
          "output_type": "execute_result"
        }
      ],
      "source": [
        "from sklearn.preprocessing import MinMaxScaler\n",
        "\n",
        "scaler = MinMaxScaler()\n",
        "\n",
        "df[\"flipper_length_mm_scaled\"] = scaler.fit_transform(df[[\"flipper_length_mm\"]])\n",
        "\n",
        "df.head()"
      ]
    },
    {
      "cell_type": "markdown",
      "metadata": {},
      "source": [
        "- Remove Simple Colums .."
      ]
    },
    {
      "cell_type": "code",
      "execution_count": 96,
      "metadata": {},
      "outputs": [],
      "source": [
        "df.drop(columns=\"bill_length_mm\" , inplace=True)\n",
        "df.drop(columns=\"flipper_length_mm\" , inplace=True)\n",
        "df.drop(columns=\"bill_depth_mm\" , inplace=True)\n",
        "df.drop(columns=\"body_mass_g\" , inplace=True)"
      ]
    },
    {
      "cell_type": "markdown",
      "metadata": {},
      "source": [
        "- Here Our Data is Ready For Machine Learning "
      ]
    },
    {
      "cell_type": "code",
      "execution_count": 97,
      "metadata": {},
      "outputs": [
        {
          "data": {
            "application/vnd.plotly.v1+json": {
              "config": {
                "plotlyServerURL": "https://plot.ly"
              },
              "data": [
                {
                  "alignmentgroup": "True",
                  "hovertemplate": "Sex_encode=%{x}<br>body_mass_g_scaled=%{y}<extra></extra>",
                  "legendgroup": "",
                  "marker": {
                    "color": "#636efa"
                  },
                  "name": "",
                  "notched": false,
                  "offsetgroup": "",
                  "orientation": "v",
                  "showlegend": false,
                  "type": "box",
                  "x": [
                    0,
                    1,
                    1,
                    0,
                    1,
                    0,
                    1,
                    0,
                    0,
                    0,
                    0,
                    0,
                    1,
                    0,
                    0,
                    1,
                    1,
                    0,
                    1,
                    0,
                    1,
                    0,
                    1,
                    0,
                    0,
                    1,
                    0,
                    1,
                    1,
                    0,
                    1,
                    0,
                    1,
                    0,
                    1,
                    0,
                    0,
                    1,
                    1,
                    0,
                    1,
                    0,
                    1,
                    0,
                    1,
                    0,
                    0,
                    0,
                    1,
                    0,
                    1,
                    0,
                    1,
                    0,
                    1,
                    0,
                    1,
                    0,
                    1,
                    0,
                    1,
                    0,
                    1,
                    0,
                    1,
                    0,
                    1,
                    0,
                    1,
                    0,
                    1,
                    0,
                    1,
                    0,
                    1,
                    0,
                    1,
                    0,
                    1,
                    0,
                    1,
                    0,
                    1,
                    0,
                    1,
                    0,
                    0,
                    1,
                    0,
                    1,
                    1,
                    0,
                    1,
                    0,
                    1,
                    0,
                    1,
                    0,
                    1,
                    0,
                    1,
                    0,
                    1,
                    0,
                    1,
                    0,
                    1,
                    0,
                    1,
                    0,
                    1,
                    0,
                    1,
                    0,
                    1,
                    0,
                    1,
                    0,
                    1,
                    0,
                    1,
                    0,
                    1,
                    0,
                    1,
                    0,
                    1,
                    0,
                    1,
                    0,
                    1,
                    0,
                    1,
                    0,
                    1,
                    0,
                    1,
                    0,
                    1,
                    0,
                    1,
                    0,
                    1,
                    0,
                    1,
                    0,
                    0,
                    1,
                    1,
                    0,
                    1,
                    0,
                    1,
                    0,
                    0,
                    1,
                    0,
                    1,
                    1,
                    0,
                    1,
                    0,
                    1,
                    0,
                    1,
                    0,
                    1,
                    0,
                    0,
                    1,
                    1,
                    0,
                    1,
                    0,
                    1,
                    0,
                    1,
                    0,
                    1,
                    0,
                    1,
                    0,
                    1,
                    0,
                    1,
                    0,
                    0,
                    1,
                    1,
                    0,
                    1,
                    0,
                    0,
                    1,
                    0,
                    1,
                    1,
                    0,
                    1,
                    0,
                    0,
                    1,
                    1,
                    0,
                    1,
                    0,
                    1,
                    0,
                    1,
                    0,
                    0,
                    1,
                    0,
                    1,
                    1,
                    0,
                    1,
                    0,
                    0,
                    1,
                    1,
                    0,
                    1,
                    0,
                    0,
                    1,
                    1,
                    0,
                    1,
                    0,
                    1,
                    0,
                    1,
                    0,
                    1,
                    0,
                    1,
                    0,
                    1,
                    0,
                    0,
                    1,
                    1,
                    0,
                    1,
                    0,
                    0,
                    0,
                    1,
                    0,
                    0,
                    1,
                    1,
                    0,
                    1,
                    0,
                    1,
                    0,
                    1,
                    0,
                    1,
                    0,
                    1,
                    0,
                    0,
                    1,
                    1,
                    0,
                    1,
                    0,
                    1,
                    0,
                    1,
                    0,
                    1,
                    0,
                    1,
                    0,
                    1,
                    0,
                    1,
                    0,
                    1,
                    0,
                    1,
                    0,
                    0,
                    0,
                    1,
                    0,
                    1,
                    0,
                    0,
                    1,
                    1,
                    0,
                    1,
                    0,
                    1,
                    0,
                    1,
                    0,
                    1,
                    0,
                    1,
                    0,
                    1,
                    0,
                    1,
                    0,
                    1,
                    0,
                    1,
                    0,
                    1,
                    0,
                    0,
                    1,
                    1,
                    0,
                    1,
                    0,
                    1,
                    0,
                    0,
                    0,
                    1,
                    0,
                    1,
                    0,
                    1,
                    0,
                    1,
                    0,
                    1,
                    0,
                    0,
                    0,
                    1,
                    0,
                    1,
                    0,
                    1,
                    0
                  ],
                  "x0": " ",
                  "xaxis": "x",
                  "y": [
                    0.29166666666666674,
                    0.3055555555555556,
                    0.1527777777777778,
                    0.4171539961013646,
                    0.20833333333333337,
                    0.26388888888888884,
                    0.2569444444444444,
                    0.5486111111111112,
                    0.2152777777777778,
                    0.4305555555555556,
                    0.16666666666666663,
                    0.2777777777777777,
                    0.13888888888888884,
                    0.3055555555555556,
                    0.4722222222222223,
                    0.2777777777777777,
                    0.20833333333333337,
                    0.5,
                    0.17361111111111116,
                    0.41666666666666674,
                    0.19444444444444442,
                    0.25,
                    0.3055555555555556,
                    0.3472222222222223,
                    0.3055555555555556,
                    0.3055555555555556,
                    0.23611111111111116,
                    0.13888888888888884,
                    0.125,
                    0.3472222222222223,
                    0.1527777777777778,
                    0.33333333333333326,
                    0.16666666666666663,
                    0.33333333333333326,
                    0.17361111111111116,
                    0.4027777777777777,
                    0.3472222222222223,
                    0.23611111111111116,
                    0.16666666666666663,
                    0.5416666666666667,
                    0.125,
                    0.33333333333333326,
                    0.11111111111111116,
                    0.4722222222222223,
                    0.08333333333333337,
                    0.5277777777777777,
                    0.20138888888888884,
                    0.07638888888888884,
                    0.20833333333333337,
                    0.4027777777777777,
                    0.2222222222222222,
                    0.4444444444444444,
                    0.20833333333333337,
                    0.375,
                    0.05555555555555558,
                    0.2777777777777777,
                    0.23611111111111116,
                    0.3055555555555556,
                    0.04166666666666663,
                    0.29166666666666674,
                    0.125,
                    0.4722222222222223,
                    0.25,
                    0.375,
                    0.04166666666666663,
                    0.3472222222222223,
                    0.18055555555555558,
                    0.38888888888888884,
                    0.09722222222222221,
                    0.48611111111111116,
                    0.25,
                    0.33333333333333326,
                    0.23611111111111116,
                    0.4027777777777777,
                    0.2777777777777777,
                    0.4305555555555556,
                    0.2777777777777777,
                    0.33333333333333326,
                    0.23611111111111116,
                    0.36111111111111116,
                    0.13888888888888884,
                    0.5555555555555556,
                    0.3055555555555556,
                    0.41666666666666674,
                    0.18055555555555558,
                    0.23611111111111116,
                    0.3055555555555556,
                    0.2222222222222222,
                    0.3472222222222223,
                    0.25,
                    0.23611111111111116,
                    0.4444444444444444,
                    0.19444444444444442,
                    0.48611111111111116,
                    0.16666666666666663,
                    0.4444444444444444,
                    0.2777777777777777,
                    0.45833333333333326,
                    0.05555555555555558,
                    0.38888888888888884,
                    0.2847222222222223,
                    0.5625,
                    0.10416666666666663,
                    0.4305555555555556,
                    0.0625,
                    0.23611111111111116,
                    0.29166666666666674,
                    0.33333333333333326,
                    0.13194444444444442,
                    0.5763888888888888,
                    0.3125,
                    0.5277777777777777,
                    0.13888888888888884,
                    0.4375,
                    0.33333333333333326,
                    0.3819444444444444,
                    0.05555555555555558,
                    0.29861111111111116,
                    0.18055555555555558,
                    0.17361111111111116,
                    0.125,
                    0.2222222222222222,
                    0.20833333333333337,
                    0.32638888888888884,
                    0.09722222222222221,
                    0.36111111111111116,
                    0.1597222222222222,
                    0.4444444444444444,
                    0.09722222222222221,
                    0.36111111111111116,
                    0.17361111111111116,
                    0.2222222222222222,
                    0.2222222222222222,
                    0.4930555555555556,
                    0.20138888888888884,
                    0.33333333333333326,
                    0.13194444444444442,
                    0.35416666666666674,
                    0.19444444444444442,
                    0.4305555555555556,
                    0.19444444444444442,
                    0.2152777777777778,
                    0.09722222222222221,
                    0.2847222222222223,
                    0.08333333333333337,
                    0.26388888888888884,
                    0.4305555555555556,
                    0.2152777777777778,
                    0.20833333333333337,
                    0.29166666666666674,
                    0.2777777777777777,
                    0.36111111111111116,
                    0.2222222222222222,
                    0.33333333333333326,
                    0.26388888888888884,
                    0.22916666666666663,
                    0.2847222222222223,
                    0.3472222222222223,
                    0.1527777777777778,
                    0.29166666666666674,
                    0.4027777777777777,
                    0.2777777777777777,
                    0.3055555555555556,
                    0.29861111111111116,
                    0.2777777777777777,
                    0.375,
                    0.24305555555555558,
                    0.375,
                    0.16666666666666663,
                    0.2777777777777777,
                    0.20833333333333337,
                    0.4722222222222223,
                    0.25,
                    0.19444444444444442,
                    0.05555555555555558,
                    0.3055555555555556,
                    0.16666666666666663,
                    0.4027777777777777,
                    0.19444444444444442,
                    0.3055555555555556,
                    0.2777777777777777,
                    0.5138888888888888,
                    0.13888888888888884,
                    0.4444444444444444,
                    0.18055555555555558,
                    0.38888888888888884,
                    0.25,
                    0.33333333333333326,
                    0.3194444444444444,
                    0.5833333333333333,
                    0,
                    0.5,
                    0.3472222222222223,
                    0.26388888888888884,
                    0.23611111111111116,
                    0.2222222222222222,
                    0.27083333333333326,
                    0.48611111111111116,
                    0.19444444444444442,
                    0.4444444444444444,
                    0.1527777777777778,
                    0.27083333333333326,
                    0.17361111111111116,
                    0.3472222222222223,
                    0.25,
                    0.375,
                    0.18055555555555558,
                    0.20833333333333337,
                    0.1527777777777778,
                    0.375,
                    0.3055555555555556,
                    0.22916666666666663,
                    0.3472222222222223,
                    0.26388888888888884,
                    0.26388888888888884,
                    0.36111111111111116,
                    0.19444444444444442,
                    0.29861111111111116,
                    0.38888888888888884,
                    0.29861111111111116,
                    0.5,
                    0.8333333333333333,
                    0.48611111111111116,
                    0.8333333333333333,
                    0.75,
                    0.5138888888888888,
                    0.5833333333333333,
                    0.6944444444444444,
                    0.4722222222222223,
                    0.6805555555555556,
                    0.5416666666666667,
                    0.7916666666666667,
                    0.5416666666666667,
                    0.875,
                    0.41666666666666674,
                    0.875,
                    0.4027777777777777,
                    1,
                    0.5833333333333333,
                    0.7361111111111112,
                    0.8333333333333333,
                    0.6388888888888888,
                    0.4722222222222223,
                    0.6527777777777777,
                    0.6388888888888888,
                    0.6666666666666667,
                    0.38888888888888884,
                    0.8194444444444444,
                    0.5277777777777777,
                    0.7916666666666667,
                    0.7083333333333333,
                    0.5555555555555556,
                    0.6527777777777777,
                    0.9305555555555556,
                    0.6805555555555556,
                    0.75,
                    0.625,
                    0.7083333333333333,
                    0.45833333333333326,
                    0.7361111111111112,
                    0.3472222222222223,
                    0.8333333333333333,
                    0.4444444444444444,
                    0.5694444444444444,
                    0.7916666666666667,
                    0.6111111111111112,
                    0.41666666666666674,
                    0.75,
                    0.6666666666666667,
                    0.7222222222222223,
                    0.5972222222222223,
                    0.7222222222222223,
                    0.4722222222222223,
                    0.6388888888888888,
                    0.6111111111111112,
                    0.6527777777777777,
                    0.4444444444444444,
                    0.6388888888888888,
                    0.48611111111111116,
                    0.7916666666666667,
                    0.41666666666666674,
                    0.7222222222222223,
                    0.4722222222222223,
                    0.8194444444444444,
                    0.5555555555555556,
                    0.8333333333333333,
                    0.5416666666666667,
                    0.8611111111111112,
                    0.5555555555555556,
                    0.7916666666666667,
                    0.5694444444444444,
                    0.6388888888888888,
                    0.6666666666666667,
                    0.6944444444444444,
                    0.5555555555555556,
                    0.8611111111111112,
                    0.5277777777777777,
                    0.9166666666666667,
                    0.5694444444444444,
                    0.9027777777777777,
                    0.5347222222222223,
                    0.7638888888888888,
                    0.5625,
                    0.7361111111111112,
                    0.5694444444444444,
                    0.8055555555555556,
                    0.5277777777777777,
                    0.7222222222222223,
                    0.6041666666666667,
                    0.7916666666666667,
                    0.625,
                    0.75,
                    0.5694444444444444,
                    0.8194444444444444,
                    0.5972222222222223,
                    0.6944444444444444,
                    0.6180555555555556,
                    0.6041666666666667,
                    0.5347222222222223,
                    0.7083333333333333,
                    0.5972222222222223,
                    0.8055555555555556,
                    0.6319444444444444,
                    0.7777777777777777,
                    0.5625,
                    0.7777777777777777,
                    0.5555555555555556,
                    0.7777777777777777,
                    0.5208333333333333,
                    0.7777777777777777,
                    0.6388888888888888,
                    0.9027777777777777,
                    0.5416666666666667,
                    0.7777777777777777,
                    0.4652777777777777,
                    0.875,
                    0.6041666666666667,
                    0.9166666666666667,
                    0.6180555555555556,
                    0.4171539961013646,
                    0.5972222222222223,
                    0.8472222222222223,
                    0.6944444444444444,
                    0.75
                  ],
                  "y0": " ",
                  "yaxis": "y"
                }
              ],
              "layout": {
                "boxmode": "group",
                "legend": {
                  "tracegroupgap": 0
                },
                "margin": {
                  "t": 60
                },
                "template": {
                  "data": {
                    "bar": [
                      {
                        "error_x": {
                          "color": "#2a3f5f"
                        },
                        "error_y": {
                          "color": "#2a3f5f"
                        },
                        "marker": {
                          "line": {
                            "color": "#E5ECF6",
                            "width": 0.5
                          },
                          "pattern": {
                            "fillmode": "overlay",
                            "size": 10,
                            "solidity": 0.2
                          }
                        },
                        "type": "bar"
                      }
                    ],
                    "barpolar": [
                      {
                        "marker": {
                          "line": {
                            "color": "#E5ECF6",
                            "width": 0.5
                          },
                          "pattern": {
                            "fillmode": "overlay",
                            "size": 10,
                            "solidity": 0.2
                          }
                        },
                        "type": "barpolar"
                      }
                    ],
                    "carpet": [
                      {
                        "aaxis": {
                          "endlinecolor": "#2a3f5f",
                          "gridcolor": "white",
                          "linecolor": "white",
                          "minorgridcolor": "white",
                          "startlinecolor": "#2a3f5f"
                        },
                        "baxis": {
                          "endlinecolor": "#2a3f5f",
                          "gridcolor": "white",
                          "linecolor": "white",
                          "minorgridcolor": "white",
                          "startlinecolor": "#2a3f5f"
                        },
                        "type": "carpet"
                      }
                    ],
                    "choropleth": [
                      {
                        "colorbar": {
                          "outlinewidth": 0,
                          "ticks": ""
                        },
                        "type": "choropleth"
                      }
                    ],
                    "contour": [
                      {
                        "colorbar": {
                          "outlinewidth": 0,
                          "ticks": ""
                        },
                        "colorscale": [
                          [
                            0,
                            "#0d0887"
                          ],
                          [
                            0.1111111111111111,
                            "#46039f"
                          ],
                          [
                            0.2222222222222222,
                            "#7201a8"
                          ],
                          [
                            0.3333333333333333,
                            "#9c179e"
                          ],
                          [
                            0.4444444444444444,
                            "#bd3786"
                          ],
                          [
                            0.5555555555555556,
                            "#d8576b"
                          ],
                          [
                            0.6666666666666666,
                            "#ed7953"
                          ],
                          [
                            0.7777777777777778,
                            "#fb9f3a"
                          ],
                          [
                            0.8888888888888888,
                            "#fdca26"
                          ],
                          [
                            1,
                            "#f0f921"
                          ]
                        ],
                        "type": "contour"
                      }
                    ],
                    "contourcarpet": [
                      {
                        "colorbar": {
                          "outlinewidth": 0,
                          "ticks": ""
                        },
                        "type": "contourcarpet"
                      }
                    ],
                    "heatmap": [
                      {
                        "colorbar": {
                          "outlinewidth": 0,
                          "ticks": ""
                        },
                        "colorscale": [
                          [
                            0,
                            "#0d0887"
                          ],
                          [
                            0.1111111111111111,
                            "#46039f"
                          ],
                          [
                            0.2222222222222222,
                            "#7201a8"
                          ],
                          [
                            0.3333333333333333,
                            "#9c179e"
                          ],
                          [
                            0.4444444444444444,
                            "#bd3786"
                          ],
                          [
                            0.5555555555555556,
                            "#d8576b"
                          ],
                          [
                            0.6666666666666666,
                            "#ed7953"
                          ],
                          [
                            0.7777777777777778,
                            "#fb9f3a"
                          ],
                          [
                            0.8888888888888888,
                            "#fdca26"
                          ],
                          [
                            1,
                            "#f0f921"
                          ]
                        ],
                        "type": "heatmap"
                      }
                    ],
                    "heatmapgl": [
                      {
                        "colorbar": {
                          "outlinewidth": 0,
                          "ticks": ""
                        },
                        "colorscale": [
                          [
                            0,
                            "#0d0887"
                          ],
                          [
                            0.1111111111111111,
                            "#46039f"
                          ],
                          [
                            0.2222222222222222,
                            "#7201a8"
                          ],
                          [
                            0.3333333333333333,
                            "#9c179e"
                          ],
                          [
                            0.4444444444444444,
                            "#bd3786"
                          ],
                          [
                            0.5555555555555556,
                            "#d8576b"
                          ],
                          [
                            0.6666666666666666,
                            "#ed7953"
                          ],
                          [
                            0.7777777777777778,
                            "#fb9f3a"
                          ],
                          [
                            0.8888888888888888,
                            "#fdca26"
                          ],
                          [
                            1,
                            "#f0f921"
                          ]
                        ],
                        "type": "heatmapgl"
                      }
                    ],
                    "histogram": [
                      {
                        "marker": {
                          "pattern": {
                            "fillmode": "overlay",
                            "size": 10,
                            "solidity": 0.2
                          }
                        },
                        "type": "histogram"
                      }
                    ],
                    "histogram2d": [
                      {
                        "colorbar": {
                          "outlinewidth": 0,
                          "ticks": ""
                        },
                        "colorscale": [
                          [
                            0,
                            "#0d0887"
                          ],
                          [
                            0.1111111111111111,
                            "#46039f"
                          ],
                          [
                            0.2222222222222222,
                            "#7201a8"
                          ],
                          [
                            0.3333333333333333,
                            "#9c179e"
                          ],
                          [
                            0.4444444444444444,
                            "#bd3786"
                          ],
                          [
                            0.5555555555555556,
                            "#d8576b"
                          ],
                          [
                            0.6666666666666666,
                            "#ed7953"
                          ],
                          [
                            0.7777777777777778,
                            "#fb9f3a"
                          ],
                          [
                            0.8888888888888888,
                            "#fdca26"
                          ],
                          [
                            1,
                            "#f0f921"
                          ]
                        ],
                        "type": "histogram2d"
                      }
                    ],
                    "histogram2dcontour": [
                      {
                        "colorbar": {
                          "outlinewidth": 0,
                          "ticks": ""
                        },
                        "colorscale": [
                          [
                            0,
                            "#0d0887"
                          ],
                          [
                            0.1111111111111111,
                            "#46039f"
                          ],
                          [
                            0.2222222222222222,
                            "#7201a8"
                          ],
                          [
                            0.3333333333333333,
                            "#9c179e"
                          ],
                          [
                            0.4444444444444444,
                            "#bd3786"
                          ],
                          [
                            0.5555555555555556,
                            "#d8576b"
                          ],
                          [
                            0.6666666666666666,
                            "#ed7953"
                          ],
                          [
                            0.7777777777777778,
                            "#fb9f3a"
                          ],
                          [
                            0.8888888888888888,
                            "#fdca26"
                          ],
                          [
                            1,
                            "#f0f921"
                          ]
                        ],
                        "type": "histogram2dcontour"
                      }
                    ],
                    "mesh3d": [
                      {
                        "colorbar": {
                          "outlinewidth": 0,
                          "ticks": ""
                        },
                        "type": "mesh3d"
                      }
                    ],
                    "parcoords": [
                      {
                        "line": {
                          "colorbar": {
                            "outlinewidth": 0,
                            "ticks": ""
                          }
                        },
                        "type": "parcoords"
                      }
                    ],
                    "pie": [
                      {
                        "automargin": true,
                        "type": "pie"
                      }
                    ],
                    "scatter": [
                      {
                        "fillpattern": {
                          "fillmode": "overlay",
                          "size": 10,
                          "solidity": 0.2
                        },
                        "type": "scatter"
                      }
                    ],
                    "scatter3d": [
                      {
                        "line": {
                          "colorbar": {
                            "outlinewidth": 0,
                            "ticks": ""
                          }
                        },
                        "marker": {
                          "colorbar": {
                            "outlinewidth": 0,
                            "ticks": ""
                          }
                        },
                        "type": "scatter3d"
                      }
                    ],
                    "scattercarpet": [
                      {
                        "marker": {
                          "colorbar": {
                            "outlinewidth": 0,
                            "ticks": ""
                          }
                        },
                        "type": "scattercarpet"
                      }
                    ],
                    "scattergeo": [
                      {
                        "marker": {
                          "colorbar": {
                            "outlinewidth": 0,
                            "ticks": ""
                          }
                        },
                        "type": "scattergeo"
                      }
                    ],
                    "scattergl": [
                      {
                        "marker": {
                          "colorbar": {
                            "outlinewidth": 0,
                            "ticks": ""
                          }
                        },
                        "type": "scattergl"
                      }
                    ],
                    "scattermapbox": [
                      {
                        "marker": {
                          "colorbar": {
                            "outlinewidth": 0,
                            "ticks": ""
                          }
                        },
                        "type": "scattermapbox"
                      }
                    ],
                    "scatterpolar": [
                      {
                        "marker": {
                          "colorbar": {
                            "outlinewidth": 0,
                            "ticks": ""
                          }
                        },
                        "type": "scatterpolar"
                      }
                    ],
                    "scatterpolargl": [
                      {
                        "marker": {
                          "colorbar": {
                            "outlinewidth": 0,
                            "ticks": ""
                          }
                        },
                        "type": "scatterpolargl"
                      }
                    ],
                    "scatterternary": [
                      {
                        "marker": {
                          "colorbar": {
                            "outlinewidth": 0,
                            "ticks": ""
                          }
                        },
                        "type": "scatterternary"
                      }
                    ],
                    "surface": [
                      {
                        "colorbar": {
                          "outlinewidth": 0,
                          "ticks": ""
                        },
                        "colorscale": [
                          [
                            0,
                            "#0d0887"
                          ],
                          [
                            0.1111111111111111,
                            "#46039f"
                          ],
                          [
                            0.2222222222222222,
                            "#7201a8"
                          ],
                          [
                            0.3333333333333333,
                            "#9c179e"
                          ],
                          [
                            0.4444444444444444,
                            "#bd3786"
                          ],
                          [
                            0.5555555555555556,
                            "#d8576b"
                          ],
                          [
                            0.6666666666666666,
                            "#ed7953"
                          ],
                          [
                            0.7777777777777778,
                            "#fb9f3a"
                          ],
                          [
                            0.8888888888888888,
                            "#fdca26"
                          ],
                          [
                            1,
                            "#f0f921"
                          ]
                        ],
                        "type": "surface"
                      }
                    ],
                    "table": [
                      {
                        "cells": {
                          "fill": {
                            "color": "#EBF0F8"
                          },
                          "line": {
                            "color": "white"
                          }
                        },
                        "header": {
                          "fill": {
                            "color": "#C8D4E3"
                          },
                          "line": {
                            "color": "white"
                          }
                        },
                        "type": "table"
                      }
                    ]
                  },
                  "layout": {
                    "annotationdefaults": {
                      "arrowcolor": "#2a3f5f",
                      "arrowhead": 0,
                      "arrowwidth": 1
                    },
                    "autotypenumbers": "strict",
                    "coloraxis": {
                      "colorbar": {
                        "outlinewidth": 0,
                        "ticks": ""
                      }
                    },
                    "colorscale": {
                      "diverging": [
                        [
                          0,
                          "#8e0152"
                        ],
                        [
                          0.1,
                          "#c51b7d"
                        ],
                        [
                          0.2,
                          "#de77ae"
                        ],
                        [
                          0.3,
                          "#f1b6da"
                        ],
                        [
                          0.4,
                          "#fde0ef"
                        ],
                        [
                          0.5,
                          "#f7f7f7"
                        ],
                        [
                          0.6,
                          "#e6f5d0"
                        ],
                        [
                          0.7,
                          "#b8e186"
                        ],
                        [
                          0.8,
                          "#7fbc41"
                        ],
                        [
                          0.9,
                          "#4d9221"
                        ],
                        [
                          1,
                          "#276419"
                        ]
                      ],
                      "sequential": [
                        [
                          0,
                          "#0d0887"
                        ],
                        [
                          0.1111111111111111,
                          "#46039f"
                        ],
                        [
                          0.2222222222222222,
                          "#7201a8"
                        ],
                        [
                          0.3333333333333333,
                          "#9c179e"
                        ],
                        [
                          0.4444444444444444,
                          "#bd3786"
                        ],
                        [
                          0.5555555555555556,
                          "#d8576b"
                        ],
                        [
                          0.6666666666666666,
                          "#ed7953"
                        ],
                        [
                          0.7777777777777778,
                          "#fb9f3a"
                        ],
                        [
                          0.8888888888888888,
                          "#fdca26"
                        ],
                        [
                          1,
                          "#f0f921"
                        ]
                      ],
                      "sequentialminus": [
                        [
                          0,
                          "#0d0887"
                        ],
                        [
                          0.1111111111111111,
                          "#46039f"
                        ],
                        [
                          0.2222222222222222,
                          "#7201a8"
                        ],
                        [
                          0.3333333333333333,
                          "#9c179e"
                        ],
                        [
                          0.4444444444444444,
                          "#bd3786"
                        ],
                        [
                          0.5555555555555556,
                          "#d8576b"
                        ],
                        [
                          0.6666666666666666,
                          "#ed7953"
                        ],
                        [
                          0.7777777777777778,
                          "#fb9f3a"
                        ],
                        [
                          0.8888888888888888,
                          "#fdca26"
                        ],
                        [
                          1,
                          "#f0f921"
                        ]
                      ]
                    },
                    "colorway": [
                      "#636efa",
                      "#EF553B",
                      "#00cc96",
                      "#ab63fa",
                      "#FFA15A",
                      "#19d3f3",
                      "#FF6692",
                      "#B6E880",
                      "#FF97FF",
                      "#FECB52"
                    ],
                    "font": {
                      "color": "#2a3f5f"
                    },
                    "geo": {
                      "bgcolor": "white",
                      "lakecolor": "white",
                      "landcolor": "#E5ECF6",
                      "showlakes": true,
                      "showland": true,
                      "subunitcolor": "white"
                    },
                    "hoverlabel": {
                      "align": "left"
                    },
                    "hovermode": "closest",
                    "mapbox": {
                      "style": "light"
                    },
                    "paper_bgcolor": "white",
                    "plot_bgcolor": "#E5ECF6",
                    "polar": {
                      "angularaxis": {
                        "gridcolor": "white",
                        "linecolor": "white",
                        "ticks": ""
                      },
                      "bgcolor": "#E5ECF6",
                      "radialaxis": {
                        "gridcolor": "white",
                        "linecolor": "white",
                        "ticks": ""
                      }
                    },
                    "scene": {
                      "xaxis": {
                        "backgroundcolor": "#E5ECF6",
                        "gridcolor": "white",
                        "gridwidth": 2,
                        "linecolor": "white",
                        "showbackground": true,
                        "ticks": "",
                        "zerolinecolor": "white"
                      },
                      "yaxis": {
                        "backgroundcolor": "#E5ECF6",
                        "gridcolor": "white",
                        "gridwidth": 2,
                        "linecolor": "white",
                        "showbackground": true,
                        "ticks": "",
                        "zerolinecolor": "white"
                      },
                      "zaxis": {
                        "backgroundcolor": "#E5ECF6",
                        "gridcolor": "white",
                        "gridwidth": 2,
                        "linecolor": "white",
                        "showbackground": true,
                        "ticks": "",
                        "zerolinecolor": "white"
                      }
                    },
                    "shapedefaults": {
                      "line": {
                        "color": "#2a3f5f"
                      }
                    },
                    "ternary": {
                      "aaxis": {
                        "gridcolor": "white",
                        "linecolor": "white",
                        "ticks": ""
                      },
                      "baxis": {
                        "gridcolor": "white",
                        "linecolor": "white",
                        "ticks": ""
                      },
                      "bgcolor": "#E5ECF6",
                      "caxis": {
                        "gridcolor": "white",
                        "linecolor": "white",
                        "ticks": ""
                      }
                    },
                    "title": {
                      "x": 0.05
                    },
                    "xaxis": {
                      "automargin": true,
                      "gridcolor": "white",
                      "linecolor": "white",
                      "ticks": "",
                      "title": {
                        "standoff": 15
                      },
                      "zerolinecolor": "white",
                      "zerolinewidth": 2
                    },
                    "yaxis": {
                      "automargin": true,
                      "gridcolor": "white",
                      "linecolor": "white",
                      "ticks": "",
                      "title": {
                        "standoff": 15
                      },
                      "zerolinecolor": "white",
                      "zerolinewidth": 2
                    }
                  }
                },
                "xaxis": {
                  "anchor": "y",
                  "domain": [
                    0,
                    1
                  ],
                  "title": {
                    "text": "Sex_encode"
                  }
                },
                "yaxis": {
                  "anchor": "x",
                  "domain": [
                    0,
                    1
                  ],
                  "title": {
                    "text": "body_mass_g_scaled"
                  }
                }
              }
            }
          },
          "metadata": {},
          "output_type": "display_data"
        }
      ],
      "source": [
        "px.box(df , x=\"Sex_encode\" , y=\"body_mass_g_scaled\")"
      ]
    },
    {
      "cell_type": "code",
      "execution_count": 98,
      "metadata": {},
      "outputs": [
        {
          "data": {
            "application/vnd.plotly.v1+json": {
              "config": {
                "plotlyServerURL": "https://plot.ly"
              },
              "data": [
                {
                  "alignmentgroup": "True",
                  "hovertemplate": "Sex_encode=%{x}<br>bill_length_mm_scaled=%{y}<extra></extra>",
                  "legendgroup": "",
                  "marker": {
                    "color": "#636efa"
                  },
                  "name": "",
                  "notched": false,
                  "offsetgroup": "",
                  "orientation": "v",
                  "showlegend": false,
                  "type": "box",
                  "x": [
                    0,
                    1,
                    1,
                    0,
                    1,
                    0,
                    1,
                    0,
                    0,
                    0,
                    0,
                    0,
                    1,
                    0,
                    0,
                    1,
                    1,
                    0,
                    1,
                    0,
                    1,
                    0,
                    1,
                    0,
                    0,
                    1,
                    0,
                    1,
                    1,
                    0,
                    1,
                    0,
                    1,
                    0,
                    1,
                    0,
                    0,
                    1,
                    1,
                    0,
                    1,
                    0,
                    1,
                    0,
                    1,
                    0,
                    0,
                    0,
                    1,
                    0,
                    1,
                    0,
                    1,
                    0,
                    1,
                    0,
                    1,
                    0,
                    1,
                    0,
                    1,
                    0,
                    1,
                    0,
                    1,
                    0,
                    1,
                    0,
                    1,
                    0,
                    1,
                    0,
                    1,
                    0,
                    1,
                    0,
                    1,
                    0,
                    1,
                    0,
                    1,
                    0,
                    1,
                    0,
                    1,
                    0,
                    0,
                    1,
                    0,
                    1,
                    1,
                    0,
                    1,
                    0,
                    1,
                    0,
                    1,
                    0,
                    1,
                    0,
                    1,
                    0,
                    1,
                    0,
                    1,
                    0,
                    1,
                    0,
                    1,
                    0,
                    1,
                    0,
                    1,
                    0,
                    1,
                    0,
                    1,
                    0,
                    1,
                    0,
                    1,
                    0,
                    1,
                    0,
                    1,
                    0,
                    1,
                    0,
                    1,
                    0,
                    1,
                    0,
                    1,
                    0,
                    1,
                    0,
                    1,
                    0,
                    1,
                    0,
                    1,
                    0,
                    1,
                    0,
                    1,
                    0,
                    0,
                    1,
                    1,
                    0,
                    1,
                    0,
                    1,
                    0,
                    0,
                    1,
                    0,
                    1,
                    1,
                    0,
                    1,
                    0,
                    1,
                    0,
                    1,
                    0,
                    1,
                    0,
                    0,
                    1,
                    1,
                    0,
                    1,
                    0,
                    1,
                    0,
                    1,
                    0,
                    1,
                    0,
                    1,
                    0,
                    1,
                    0,
                    1,
                    0,
                    0,
                    1,
                    1,
                    0,
                    1,
                    0,
                    0,
                    1,
                    0,
                    1,
                    1,
                    0,
                    1,
                    0,
                    0,
                    1,
                    1,
                    0,
                    1,
                    0,
                    1,
                    0,
                    1,
                    0,
                    0,
                    1,
                    0,
                    1,
                    1,
                    0,
                    1,
                    0,
                    0,
                    1,
                    1,
                    0,
                    1,
                    0,
                    0,
                    1,
                    1,
                    0,
                    1,
                    0,
                    1,
                    0,
                    1,
                    0,
                    1,
                    0,
                    1,
                    0,
                    1,
                    0,
                    0,
                    1,
                    1,
                    0,
                    1,
                    0,
                    0,
                    0,
                    1,
                    0,
                    0,
                    1,
                    1,
                    0,
                    1,
                    0,
                    1,
                    0,
                    1,
                    0,
                    1,
                    0,
                    1,
                    0,
                    0,
                    1,
                    1,
                    0,
                    1,
                    0,
                    1,
                    0,
                    1,
                    0,
                    1,
                    0,
                    1,
                    0,
                    1,
                    0,
                    1,
                    0,
                    1,
                    0,
                    1,
                    0,
                    0,
                    0,
                    1,
                    0,
                    1,
                    0,
                    0,
                    1,
                    1,
                    0,
                    1,
                    0,
                    1,
                    0,
                    1,
                    0,
                    1,
                    0,
                    1,
                    0,
                    1,
                    0,
                    1,
                    0,
                    1,
                    0,
                    1,
                    0,
                    1,
                    0,
                    0,
                    1,
                    1,
                    0,
                    1,
                    0,
                    1,
                    0,
                    0,
                    0,
                    1,
                    0,
                    1,
                    0,
                    1,
                    0,
                    1,
                    0,
                    1,
                    0,
                    0,
                    0,
                    1,
                    0,
                    1,
                    0,
                    1,
                    0
                  ],
                  "x0": " ",
                  "xaxis": "x",
                  "y": [
                    0.25454545454545463,
                    0.26909090909090905,
                    0.2981818181818181,
                    0.4298883572567782,
                    0.16727272727272724,
                    0.2618181818181817,
                    0.2472727272727271,
                    0.2581818181818183,
                    0.07272727272727275,
                    0.3599999999999999,
                    0.20727272727272705,
                    0.20727272727272705,
                    0.3272727272727274,
                    0.23636363636363633,
                    0.09090909090909083,
                    0.16363636363636358,
                    0.24,
                    0.3781818181818182,
                    0.08363636363636351,
                    0.5054545454545454,
                    0.20727272727272705,
                    0.20363636363636362,
                    0.13818181818181818,
                    0.22181818181818191,
                    0.24363636363636343,
                    0.11636363636363622,
                    0.3090909090909091,
                    0.3054545454545454,
                    0.2109090909090907,
                    0.3054545454545454,
                    0.26909090909090905,
                    0.18545454545454554,
                    0.26909090909090905,
                    0.31999999999999984,
                    0.15636363636363626,
                    0.2581818181818183,
                    0.24363636363636343,
                    0.3672727272727274,
                    0.19999999999999996,
                    0.2799999999999998,
                    0.15999999999999992,
                    0.3163636363636362,
                    0.14181818181818184,
                    0.4363636363636363,
                    0.17818181818181822,
                    0.2727272727272727,
                    0.3272727272727274,
                    0.1963636363636363,
                    0.14181818181818184,
                    0.37090909090909085,
                    0.2727272727272727,
                    0.290909090909091,
                    0.10545454545454547,
                    0.3599999999999999,
                    0.08727272727272717,
                    0.33818181818181814,
                    0.25090909090909097,
                    0.3090909090909091,
                    0.15999999999999992,
                    0.19999999999999996,
                    0.13090909090909109,
                    0.3345454545454545,
                    0.19999999999999996,
                    0.3272727272727274,
                    0.15636363636363626,
                    0.34545454545454546,
                    0.12363636363636354,
                    0.3272727272727274,
                    0.13818181818181818,
                    0.35272727272727256,
                    0.05090909090909079,
                    0.27636363636363637,
                    0.2727272727272727,
                    0.49818181818181806,
                    0.12363636363636354,
                    0.38909090909090893,
                    0.31999999999999984,
                    0.18545454545454554,
                    0.14909090909090916,
                    0.36363636363636376,
                    0.09090909090909083,
                    0.3927272727272726,
                    0.16727272727272724,
                    0.10909090909090913,
                    0.18909090909090898,
                    0.3345454545454545,
                    0.1527272727272726,
                    0.17454545454545456,
                    0.22545454545454535,
                    0.2472727272727271,
                    0.13090909090909109,
                    0.3272727272727274,
                    0.06909090909090909,
                    0.2727272727272727,
                    0.14909090909090916,
                    0.3163636363636362,
                    0.21818181818181825,
                    0.2981818181818181,
                    0.036363636363636376,
                    0.4036363636363638,
                    0.10545454545454547,
                    0.3236363636363635,
                    0.20363636363636362,
                    0.20727272727272705,
                    0.2109090909090907,
                    0.27636363636363637,
                    0.23636363636363633,
                    0.22181818181818191,
                    0.21818181818181825,
                    0.4036363636363638,
                    0.21818181818181825,
                    0.49090909090909096,
                    0.27636363636363637,
                    0.3672727272727274,
                    0.2727272727272727,
                    0.3854545454545455,
                    0.23636363636363633,
                    0.18909090909090898,
                    0.13090909090909109,
                    0.3272727272727274,
                    0.14909090909090916,
                    0.20363636363636362,
                    0.29454545454545467,
                    0.33818181818181814,
                    0.11272727272727279,
                    0.3090909090909091,
                    0.24363636363636343,
                    0.3418181818181818,
                    0.25090909090909097,
                    0.4363636363636363,
                    0.23272727272727267,
                    0.3999999999999999,
                    0.17090909090909068,
                    0.1963636363636363,
                    0.21818181818181825,
                    0.3272727272727274,
                    0.1272727272727272,
                    0.29454545454545467,
                    0.17818181818181822,
                    0.27636363636363637,
                    0.29454545454545467,
                    0.3090909090909091,
                    0,
                    0.31272727272727274,
                    0.18909090909090898,
                    0.25090909090909097,
                    0.2581818181818183,
                    0.16363636363636358,
                    0.14181818181818184,
                    0.20727272727272705,
                    0.14181818181818184,
                    0.3418181818181818,
                    0.5236363636363637,
                    0.6509090909090909,
                    0.698181818181818,
                    0.48363636363636364,
                    0.749090909090909,
                    0.4763636363636363,
                    0.509090909090909,
                    0.698181818181818,
                    0.5054545454545454,
                    0.698181818181818,
                    0.5272727272727273,
                    0.7127272727272729,
                    0.5418181818181818,
                    0.7236363636363636,
                    0.5018181818181817,
                    0.669090909090909,
                    0.6618181818181816,
                    0.9418181818181817,
                    0.5199999999999998,
                    0.6218181818181818,
                    0.3745454545454545,
                    0.5963636363636362,
                    0.4036363636363638,
                    0.6727272727272726,
                    0.530909090909091,
                    0.7236363636363636,
                    0.669090909090909,
                    0.6327272727272726,
                    0.5199999999999998,
                    0.7527272727272725,
                    0.31999999999999984,
                    0.8036363636363637,
                    0.3781818181818182,
                    0.6872727272727273,
                    0.6400000000000001,
                    0.56,
                    0.5636363636363637,
                    0.7236363636363636,
                    0.5381818181818181,
                    0.7781818181818181,
                    0.6145454545454545,
                    0.5127272727272727,
                    0.6836363636363636,
                    0.4872727272727273,
                    0.6836363636363636,
                    0.6799999999999999,
                    0.6545454545454545,
                    0.6145454545454545,
                    0.7054545454545453,
                    0.6436363636363636,
                    0.5818181818181818,
                    0.7018181818181817,
                    0.4945454545454546,
                    0.6763636363636365,
                    0.3781818181818182,
                    0.730909090909091,
                    0.4763636363636363,
                    0.6254545454545453,
                    0.6581818181818182,
                    0.49090909090909096,
                    0.72,
                    0.5345454545454544,
                    0.4945454545454546,
                    0.8618181818181816,
                    0.41454545454545455,
                    0.6363636363636365,
                    0.6799999999999999,
                    0.6581818181818182,
                    0.509090909090909,
                    0.6509090909090909,
                    0.6036363636363637,
                    0.6509090909090909,
                    0.5636363636363637,
                    0.5236363636363637,
                    0.48363636363636364,
                    0.530909090909091,
                    0.40727272727272723,
                    0.5345454545454544,
                    0.31999999999999984,
                    0.6145454545454545,
                    0.4872727272727273,
                    0.5927272727272725,
                    0.49818181818181806,
                    0.6254545454545453,
                    0.3599999999999999,
                    0.6218181818181818,
                    0.5127272727272727,
                    0.6036363636363637,
                    0.6581818181818182,
                    0.47272727272727266,
                    0.5236363636363637,
                    0.5163636363636361,
                    0.3927272727272726,
                    0.509090909090909,
                    0.4509090909090909,
                    0.5709090909090908,
                    0.5854545454545454,
                    0.6509090909090909,
                    0.5527272727272725,
                    0.38909090909090893,
                    0.47272727272727266,
                    0.9999999999999998,
                    0.6181818181818182,
                    0.5927272727272725,
                    0.38181818181818183,
                    0.44727272727272727,
                    0.4327272727272726,
                    0.6036363636363637,
                    0.3854545454545455,
                    0.6363636363636365,
                    0.47999999999999976,
                    0.6363636363636365,
                    0.669090909090909,
                    0.4181818181818182,
                    0.4872727272727273,
                    0.669090909090909,
                    0.46545454545454534,
                    0.4763636363636363,
                    0.5272727272727273,
                    0.5963636363636362,
                    0.47272727272727266,
                    0.6545454545454545,
                    0.5236363636363637,
                    0.469090909090909,
                    0.4254545454545453,
                    0.4872727272727273,
                    0.4036363636363638,
                    0.6654545454545453,
                    0.47999999999999976,
                    0.5127272727272727,
                    0.4945454545454546,
                    0.8072727272727271,
                    0.49818181818181806,
                    0.6436363636363636,
                    0.5127272727272727,
                    0.6327272727272726,
                    0.41454545454545455,
                    0.6763636363636365,
                    0.5672727272727274,
                    0.5199999999999998,
                    0.5854545454545454,
                    0.5236363636363637,
                    0.5199999999999998,
                    0.6000000000000001,
                    0.56,
                    0.6909090909090909,
                    0.4763636363636363,
                    0.4763636363636363,
                    0.6181818181818182,
                    0.7418181818181817,
                    0.5563636363636362,
                    0.6509090909090909,
                    0.46545454545454534,
                    0.6799999999999999,
                    0.4109090909090909,
                    0.698181818181818,
                    0.56,
                    0.7272727272727273,
                    0.56,
                    0.730909090909091,
                    0.4872727272727273,
                    0.6327272727272726,
                    0.4509090909090909,
                    0.6799999999999999,
                    0.6290909090909089,
                    0.5381818181818181,
                    0.5927272727272725,
                    0.6909090909090909,
                    0.5963636363636362,
                    0.8654545454545455,
                    0.5490909090909091,
                    0.6181818181818182,
                    0.5527272727272725,
                    0.5345454545454544,
                    0.3490909090909091,
                    0.7745454545454544,
                    0.40727272727272723,
                    0.5818181818181818,
                    0.669090909090909,
                    0.6436363636363636,
                    0.41454545454545455,
                    0.7054545454545453,
                    0.5127272727272727,
                    0.8363636363636362,
                    0.4509090909090909,
                    0.6072727272727272,
                    0.5490909090909091,
                    0.4298883572567782,
                    0.5345454545454544,
                    0.6654545454545453,
                    0.4763636363636363,
                    0.6472727272727272
                  ],
                  "y0": " ",
                  "yaxis": "y"
                }
              ],
              "layout": {
                "boxmode": "group",
                "legend": {
                  "tracegroupgap": 0
                },
                "margin": {
                  "t": 60
                },
                "template": {
                  "data": {
                    "bar": [
                      {
                        "error_x": {
                          "color": "#2a3f5f"
                        },
                        "error_y": {
                          "color": "#2a3f5f"
                        },
                        "marker": {
                          "line": {
                            "color": "#E5ECF6",
                            "width": 0.5
                          },
                          "pattern": {
                            "fillmode": "overlay",
                            "size": 10,
                            "solidity": 0.2
                          }
                        },
                        "type": "bar"
                      }
                    ],
                    "barpolar": [
                      {
                        "marker": {
                          "line": {
                            "color": "#E5ECF6",
                            "width": 0.5
                          },
                          "pattern": {
                            "fillmode": "overlay",
                            "size": 10,
                            "solidity": 0.2
                          }
                        },
                        "type": "barpolar"
                      }
                    ],
                    "carpet": [
                      {
                        "aaxis": {
                          "endlinecolor": "#2a3f5f",
                          "gridcolor": "white",
                          "linecolor": "white",
                          "minorgridcolor": "white",
                          "startlinecolor": "#2a3f5f"
                        },
                        "baxis": {
                          "endlinecolor": "#2a3f5f",
                          "gridcolor": "white",
                          "linecolor": "white",
                          "minorgridcolor": "white",
                          "startlinecolor": "#2a3f5f"
                        },
                        "type": "carpet"
                      }
                    ],
                    "choropleth": [
                      {
                        "colorbar": {
                          "outlinewidth": 0,
                          "ticks": ""
                        },
                        "type": "choropleth"
                      }
                    ],
                    "contour": [
                      {
                        "colorbar": {
                          "outlinewidth": 0,
                          "ticks": ""
                        },
                        "colorscale": [
                          [
                            0,
                            "#0d0887"
                          ],
                          [
                            0.1111111111111111,
                            "#46039f"
                          ],
                          [
                            0.2222222222222222,
                            "#7201a8"
                          ],
                          [
                            0.3333333333333333,
                            "#9c179e"
                          ],
                          [
                            0.4444444444444444,
                            "#bd3786"
                          ],
                          [
                            0.5555555555555556,
                            "#d8576b"
                          ],
                          [
                            0.6666666666666666,
                            "#ed7953"
                          ],
                          [
                            0.7777777777777778,
                            "#fb9f3a"
                          ],
                          [
                            0.8888888888888888,
                            "#fdca26"
                          ],
                          [
                            1,
                            "#f0f921"
                          ]
                        ],
                        "type": "contour"
                      }
                    ],
                    "contourcarpet": [
                      {
                        "colorbar": {
                          "outlinewidth": 0,
                          "ticks": ""
                        },
                        "type": "contourcarpet"
                      }
                    ],
                    "heatmap": [
                      {
                        "colorbar": {
                          "outlinewidth": 0,
                          "ticks": ""
                        },
                        "colorscale": [
                          [
                            0,
                            "#0d0887"
                          ],
                          [
                            0.1111111111111111,
                            "#46039f"
                          ],
                          [
                            0.2222222222222222,
                            "#7201a8"
                          ],
                          [
                            0.3333333333333333,
                            "#9c179e"
                          ],
                          [
                            0.4444444444444444,
                            "#bd3786"
                          ],
                          [
                            0.5555555555555556,
                            "#d8576b"
                          ],
                          [
                            0.6666666666666666,
                            "#ed7953"
                          ],
                          [
                            0.7777777777777778,
                            "#fb9f3a"
                          ],
                          [
                            0.8888888888888888,
                            "#fdca26"
                          ],
                          [
                            1,
                            "#f0f921"
                          ]
                        ],
                        "type": "heatmap"
                      }
                    ],
                    "heatmapgl": [
                      {
                        "colorbar": {
                          "outlinewidth": 0,
                          "ticks": ""
                        },
                        "colorscale": [
                          [
                            0,
                            "#0d0887"
                          ],
                          [
                            0.1111111111111111,
                            "#46039f"
                          ],
                          [
                            0.2222222222222222,
                            "#7201a8"
                          ],
                          [
                            0.3333333333333333,
                            "#9c179e"
                          ],
                          [
                            0.4444444444444444,
                            "#bd3786"
                          ],
                          [
                            0.5555555555555556,
                            "#d8576b"
                          ],
                          [
                            0.6666666666666666,
                            "#ed7953"
                          ],
                          [
                            0.7777777777777778,
                            "#fb9f3a"
                          ],
                          [
                            0.8888888888888888,
                            "#fdca26"
                          ],
                          [
                            1,
                            "#f0f921"
                          ]
                        ],
                        "type": "heatmapgl"
                      }
                    ],
                    "histogram": [
                      {
                        "marker": {
                          "pattern": {
                            "fillmode": "overlay",
                            "size": 10,
                            "solidity": 0.2
                          }
                        },
                        "type": "histogram"
                      }
                    ],
                    "histogram2d": [
                      {
                        "colorbar": {
                          "outlinewidth": 0,
                          "ticks": ""
                        },
                        "colorscale": [
                          [
                            0,
                            "#0d0887"
                          ],
                          [
                            0.1111111111111111,
                            "#46039f"
                          ],
                          [
                            0.2222222222222222,
                            "#7201a8"
                          ],
                          [
                            0.3333333333333333,
                            "#9c179e"
                          ],
                          [
                            0.4444444444444444,
                            "#bd3786"
                          ],
                          [
                            0.5555555555555556,
                            "#d8576b"
                          ],
                          [
                            0.6666666666666666,
                            "#ed7953"
                          ],
                          [
                            0.7777777777777778,
                            "#fb9f3a"
                          ],
                          [
                            0.8888888888888888,
                            "#fdca26"
                          ],
                          [
                            1,
                            "#f0f921"
                          ]
                        ],
                        "type": "histogram2d"
                      }
                    ],
                    "histogram2dcontour": [
                      {
                        "colorbar": {
                          "outlinewidth": 0,
                          "ticks": ""
                        },
                        "colorscale": [
                          [
                            0,
                            "#0d0887"
                          ],
                          [
                            0.1111111111111111,
                            "#46039f"
                          ],
                          [
                            0.2222222222222222,
                            "#7201a8"
                          ],
                          [
                            0.3333333333333333,
                            "#9c179e"
                          ],
                          [
                            0.4444444444444444,
                            "#bd3786"
                          ],
                          [
                            0.5555555555555556,
                            "#d8576b"
                          ],
                          [
                            0.6666666666666666,
                            "#ed7953"
                          ],
                          [
                            0.7777777777777778,
                            "#fb9f3a"
                          ],
                          [
                            0.8888888888888888,
                            "#fdca26"
                          ],
                          [
                            1,
                            "#f0f921"
                          ]
                        ],
                        "type": "histogram2dcontour"
                      }
                    ],
                    "mesh3d": [
                      {
                        "colorbar": {
                          "outlinewidth": 0,
                          "ticks": ""
                        },
                        "type": "mesh3d"
                      }
                    ],
                    "parcoords": [
                      {
                        "line": {
                          "colorbar": {
                            "outlinewidth": 0,
                            "ticks": ""
                          }
                        },
                        "type": "parcoords"
                      }
                    ],
                    "pie": [
                      {
                        "automargin": true,
                        "type": "pie"
                      }
                    ],
                    "scatter": [
                      {
                        "fillpattern": {
                          "fillmode": "overlay",
                          "size": 10,
                          "solidity": 0.2
                        },
                        "type": "scatter"
                      }
                    ],
                    "scatter3d": [
                      {
                        "line": {
                          "colorbar": {
                            "outlinewidth": 0,
                            "ticks": ""
                          }
                        },
                        "marker": {
                          "colorbar": {
                            "outlinewidth": 0,
                            "ticks": ""
                          }
                        },
                        "type": "scatter3d"
                      }
                    ],
                    "scattercarpet": [
                      {
                        "marker": {
                          "colorbar": {
                            "outlinewidth": 0,
                            "ticks": ""
                          }
                        },
                        "type": "scattercarpet"
                      }
                    ],
                    "scattergeo": [
                      {
                        "marker": {
                          "colorbar": {
                            "outlinewidth": 0,
                            "ticks": ""
                          }
                        },
                        "type": "scattergeo"
                      }
                    ],
                    "scattergl": [
                      {
                        "marker": {
                          "colorbar": {
                            "outlinewidth": 0,
                            "ticks": ""
                          }
                        },
                        "type": "scattergl"
                      }
                    ],
                    "scattermapbox": [
                      {
                        "marker": {
                          "colorbar": {
                            "outlinewidth": 0,
                            "ticks": ""
                          }
                        },
                        "type": "scattermapbox"
                      }
                    ],
                    "scatterpolar": [
                      {
                        "marker": {
                          "colorbar": {
                            "outlinewidth": 0,
                            "ticks": ""
                          }
                        },
                        "type": "scatterpolar"
                      }
                    ],
                    "scatterpolargl": [
                      {
                        "marker": {
                          "colorbar": {
                            "outlinewidth": 0,
                            "ticks": ""
                          }
                        },
                        "type": "scatterpolargl"
                      }
                    ],
                    "scatterternary": [
                      {
                        "marker": {
                          "colorbar": {
                            "outlinewidth": 0,
                            "ticks": ""
                          }
                        },
                        "type": "scatterternary"
                      }
                    ],
                    "surface": [
                      {
                        "colorbar": {
                          "outlinewidth": 0,
                          "ticks": ""
                        },
                        "colorscale": [
                          [
                            0,
                            "#0d0887"
                          ],
                          [
                            0.1111111111111111,
                            "#46039f"
                          ],
                          [
                            0.2222222222222222,
                            "#7201a8"
                          ],
                          [
                            0.3333333333333333,
                            "#9c179e"
                          ],
                          [
                            0.4444444444444444,
                            "#bd3786"
                          ],
                          [
                            0.5555555555555556,
                            "#d8576b"
                          ],
                          [
                            0.6666666666666666,
                            "#ed7953"
                          ],
                          [
                            0.7777777777777778,
                            "#fb9f3a"
                          ],
                          [
                            0.8888888888888888,
                            "#fdca26"
                          ],
                          [
                            1,
                            "#f0f921"
                          ]
                        ],
                        "type": "surface"
                      }
                    ],
                    "table": [
                      {
                        "cells": {
                          "fill": {
                            "color": "#EBF0F8"
                          },
                          "line": {
                            "color": "white"
                          }
                        },
                        "header": {
                          "fill": {
                            "color": "#C8D4E3"
                          },
                          "line": {
                            "color": "white"
                          }
                        },
                        "type": "table"
                      }
                    ]
                  },
                  "layout": {
                    "annotationdefaults": {
                      "arrowcolor": "#2a3f5f",
                      "arrowhead": 0,
                      "arrowwidth": 1
                    },
                    "autotypenumbers": "strict",
                    "coloraxis": {
                      "colorbar": {
                        "outlinewidth": 0,
                        "ticks": ""
                      }
                    },
                    "colorscale": {
                      "diverging": [
                        [
                          0,
                          "#8e0152"
                        ],
                        [
                          0.1,
                          "#c51b7d"
                        ],
                        [
                          0.2,
                          "#de77ae"
                        ],
                        [
                          0.3,
                          "#f1b6da"
                        ],
                        [
                          0.4,
                          "#fde0ef"
                        ],
                        [
                          0.5,
                          "#f7f7f7"
                        ],
                        [
                          0.6,
                          "#e6f5d0"
                        ],
                        [
                          0.7,
                          "#b8e186"
                        ],
                        [
                          0.8,
                          "#7fbc41"
                        ],
                        [
                          0.9,
                          "#4d9221"
                        ],
                        [
                          1,
                          "#276419"
                        ]
                      ],
                      "sequential": [
                        [
                          0,
                          "#0d0887"
                        ],
                        [
                          0.1111111111111111,
                          "#46039f"
                        ],
                        [
                          0.2222222222222222,
                          "#7201a8"
                        ],
                        [
                          0.3333333333333333,
                          "#9c179e"
                        ],
                        [
                          0.4444444444444444,
                          "#bd3786"
                        ],
                        [
                          0.5555555555555556,
                          "#d8576b"
                        ],
                        [
                          0.6666666666666666,
                          "#ed7953"
                        ],
                        [
                          0.7777777777777778,
                          "#fb9f3a"
                        ],
                        [
                          0.8888888888888888,
                          "#fdca26"
                        ],
                        [
                          1,
                          "#f0f921"
                        ]
                      ],
                      "sequentialminus": [
                        [
                          0,
                          "#0d0887"
                        ],
                        [
                          0.1111111111111111,
                          "#46039f"
                        ],
                        [
                          0.2222222222222222,
                          "#7201a8"
                        ],
                        [
                          0.3333333333333333,
                          "#9c179e"
                        ],
                        [
                          0.4444444444444444,
                          "#bd3786"
                        ],
                        [
                          0.5555555555555556,
                          "#d8576b"
                        ],
                        [
                          0.6666666666666666,
                          "#ed7953"
                        ],
                        [
                          0.7777777777777778,
                          "#fb9f3a"
                        ],
                        [
                          0.8888888888888888,
                          "#fdca26"
                        ],
                        [
                          1,
                          "#f0f921"
                        ]
                      ]
                    },
                    "colorway": [
                      "#636efa",
                      "#EF553B",
                      "#00cc96",
                      "#ab63fa",
                      "#FFA15A",
                      "#19d3f3",
                      "#FF6692",
                      "#B6E880",
                      "#FF97FF",
                      "#FECB52"
                    ],
                    "font": {
                      "color": "#2a3f5f"
                    },
                    "geo": {
                      "bgcolor": "white",
                      "lakecolor": "white",
                      "landcolor": "#E5ECF6",
                      "showlakes": true,
                      "showland": true,
                      "subunitcolor": "white"
                    },
                    "hoverlabel": {
                      "align": "left"
                    },
                    "hovermode": "closest",
                    "mapbox": {
                      "style": "light"
                    },
                    "paper_bgcolor": "white",
                    "plot_bgcolor": "#E5ECF6",
                    "polar": {
                      "angularaxis": {
                        "gridcolor": "white",
                        "linecolor": "white",
                        "ticks": ""
                      },
                      "bgcolor": "#E5ECF6",
                      "radialaxis": {
                        "gridcolor": "white",
                        "linecolor": "white",
                        "ticks": ""
                      }
                    },
                    "scene": {
                      "xaxis": {
                        "backgroundcolor": "#E5ECF6",
                        "gridcolor": "white",
                        "gridwidth": 2,
                        "linecolor": "white",
                        "showbackground": true,
                        "ticks": "",
                        "zerolinecolor": "white"
                      },
                      "yaxis": {
                        "backgroundcolor": "#E5ECF6",
                        "gridcolor": "white",
                        "gridwidth": 2,
                        "linecolor": "white",
                        "showbackground": true,
                        "ticks": "",
                        "zerolinecolor": "white"
                      },
                      "zaxis": {
                        "backgroundcolor": "#E5ECF6",
                        "gridcolor": "white",
                        "gridwidth": 2,
                        "linecolor": "white",
                        "showbackground": true,
                        "ticks": "",
                        "zerolinecolor": "white"
                      }
                    },
                    "shapedefaults": {
                      "line": {
                        "color": "#2a3f5f"
                      }
                    },
                    "ternary": {
                      "aaxis": {
                        "gridcolor": "white",
                        "linecolor": "white",
                        "ticks": ""
                      },
                      "baxis": {
                        "gridcolor": "white",
                        "linecolor": "white",
                        "ticks": ""
                      },
                      "bgcolor": "#E5ECF6",
                      "caxis": {
                        "gridcolor": "white",
                        "linecolor": "white",
                        "ticks": ""
                      }
                    },
                    "title": {
                      "x": 0.05
                    },
                    "xaxis": {
                      "automargin": true,
                      "gridcolor": "white",
                      "linecolor": "white",
                      "ticks": "",
                      "title": {
                        "standoff": 15
                      },
                      "zerolinecolor": "white",
                      "zerolinewidth": 2
                    },
                    "yaxis": {
                      "automargin": true,
                      "gridcolor": "white",
                      "linecolor": "white",
                      "ticks": "",
                      "title": {
                        "standoff": 15
                      },
                      "zerolinecolor": "white",
                      "zerolinewidth": 2
                    }
                  }
                },
                "xaxis": {
                  "anchor": "y",
                  "domain": [
                    0,
                    1
                  ],
                  "title": {
                    "text": "Sex_encode"
                  }
                },
                "yaxis": {
                  "anchor": "x",
                  "domain": [
                    0,
                    1
                  ],
                  "title": {
                    "text": "bill_length_mm_scaled"
                  }
                }
              }
            }
          },
          "metadata": {},
          "output_type": "display_data"
        }
      ],
      "source": [
        "px.box(df , x=\"Sex_encode\" , y=\"bill_length_mm_scaled\")"
      ]
    },
    {
      "cell_type": "code",
      "execution_count": 99,
      "metadata": {},
      "outputs": [
        {
          "data": {
            "application/vnd.plotly.v1+json": {
              "config": {
                "plotlyServerURL": "https://plot.ly"
              },
              "data": [
                {
                  "alignmentgroup": "True",
                  "hovertemplate": "Species_encode=%{x}<br>bill_length_mm_scaled=%{y}<extra></extra>",
                  "legendgroup": "",
                  "marker": {
                    "color": "#636efa"
                  },
                  "name": "",
                  "notched": false,
                  "offsetgroup": "",
                  "orientation": "v",
                  "showlegend": false,
                  "type": "box",
                  "x": [
                    0,
                    0,
                    0,
                    0,
                    0,
                    0,
                    0,
                    0,
                    0,
                    0,
                    0,
                    0,
                    0,
                    0,
                    0,
                    0,
                    0,
                    0,
                    0,
                    0,
                    0,
                    0,
                    0,
                    0,
                    0,
                    0,
                    0,
                    0,
                    0,
                    0,
                    0,
                    0,
                    0,
                    0,
                    0,
                    0,
                    0,
                    0,
                    0,
                    0,
                    0,
                    0,
                    0,
                    0,
                    0,
                    0,
                    0,
                    0,
                    0,
                    0,
                    0,
                    0,
                    0,
                    0,
                    0,
                    0,
                    0,
                    0,
                    0,
                    0,
                    0,
                    0,
                    0,
                    0,
                    0,
                    0,
                    0,
                    0,
                    0,
                    0,
                    0,
                    0,
                    0,
                    0,
                    0,
                    0,
                    0,
                    0,
                    0,
                    0,
                    0,
                    0,
                    0,
                    0,
                    0,
                    0,
                    0,
                    0,
                    0,
                    0,
                    0,
                    0,
                    0,
                    0,
                    0,
                    0,
                    0,
                    0,
                    0,
                    0,
                    0,
                    0,
                    0,
                    0,
                    0,
                    0,
                    0,
                    0,
                    0,
                    0,
                    0,
                    0,
                    0,
                    0,
                    0,
                    0,
                    0,
                    0,
                    0,
                    0,
                    0,
                    0,
                    0,
                    0,
                    0,
                    0,
                    0,
                    0,
                    0,
                    0,
                    0,
                    0,
                    0,
                    0,
                    0,
                    0,
                    0,
                    0,
                    0,
                    0,
                    0,
                    0,
                    0,
                    0,
                    0,
                    0,
                    0,
                    0,
                    0,
                    0,
                    0,
                    0,
                    1,
                    1,
                    1,
                    1,
                    1,
                    1,
                    1,
                    1,
                    1,
                    1,
                    1,
                    1,
                    1,
                    1,
                    1,
                    1,
                    1,
                    1,
                    1,
                    1,
                    1,
                    1,
                    1,
                    1,
                    1,
                    1,
                    1,
                    1,
                    1,
                    1,
                    1,
                    1,
                    1,
                    1,
                    1,
                    1,
                    1,
                    1,
                    1,
                    1,
                    1,
                    1,
                    1,
                    1,
                    1,
                    1,
                    1,
                    1,
                    1,
                    1,
                    1,
                    1,
                    1,
                    1,
                    1,
                    1,
                    1,
                    1,
                    1,
                    1,
                    1,
                    1,
                    1,
                    1,
                    1,
                    1,
                    1,
                    1,
                    2,
                    2,
                    2,
                    2,
                    2,
                    2,
                    2,
                    2,
                    2,
                    2,
                    2,
                    2,
                    2,
                    2,
                    2,
                    2,
                    2,
                    2,
                    2,
                    2,
                    2,
                    2,
                    2,
                    2,
                    2,
                    2,
                    2,
                    2,
                    2,
                    2,
                    2,
                    2,
                    2,
                    2,
                    2,
                    2,
                    2,
                    2,
                    2,
                    2,
                    2,
                    2,
                    2,
                    2,
                    2,
                    2,
                    2,
                    2,
                    2,
                    2,
                    2,
                    2,
                    2,
                    2,
                    2,
                    2,
                    2,
                    2,
                    2,
                    2,
                    2,
                    2,
                    2,
                    2,
                    2,
                    2,
                    2,
                    2,
                    2,
                    2,
                    2,
                    2,
                    2,
                    2,
                    2,
                    2,
                    2,
                    2,
                    2,
                    2,
                    2,
                    2,
                    2,
                    2,
                    2,
                    2,
                    2,
                    2,
                    2,
                    2,
                    2,
                    2,
                    2,
                    2,
                    2,
                    2,
                    2,
                    2,
                    2,
                    2,
                    2,
                    2,
                    2,
                    2,
                    2,
                    2,
                    2,
                    2,
                    2,
                    2,
                    2,
                    2,
                    2,
                    2,
                    2,
                    2,
                    2,
                    2,
                    2,
                    2,
                    2,
                    2,
                    2,
                    2
                  ],
                  "x0": " ",
                  "xaxis": "x",
                  "y": [
                    0.25454545454545463,
                    0.26909090909090905,
                    0.2981818181818181,
                    0.4298883572567782,
                    0.16727272727272724,
                    0.2618181818181817,
                    0.2472727272727271,
                    0.2581818181818183,
                    0.07272727272727275,
                    0.3599999999999999,
                    0.20727272727272705,
                    0.20727272727272705,
                    0.3272727272727274,
                    0.23636363636363633,
                    0.09090909090909083,
                    0.16363636363636358,
                    0.24,
                    0.3781818181818182,
                    0.08363636363636351,
                    0.5054545454545454,
                    0.20727272727272705,
                    0.20363636363636362,
                    0.13818181818181818,
                    0.22181818181818191,
                    0.24363636363636343,
                    0.11636363636363622,
                    0.3090909090909091,
                    0.3054545454545454,
                    0.2109090909090907,
                    0.3054545454545454,
                    0.26909090909090905,
                    0.18545454545454554,
                    0.26909090909090905,
                    0.31999999999999984,
                    0.15636363636363626,
                    0.2581818181818183,
                    0.24363636363636343,
                    0.3672727272727274,
                    0.19999999999999996,
                    0.2799999999999998,
                    0.15999999999999992,
                    0.3163636363636362,
                    0.14181818181818184,
                    0.4363636363636363,
                    0.17818181818181822,
                    0.2727272727272727,
                    0.3272727272727274,
                    0.1963636363636363,
                    0.14181818181818184,
                    0.37090909090909085,
                    0.2727272727272727,
                    0.290909090909091,
                    0.10545454545454547,
                    0.3599999999999999,
                    0.08727272727272717,
                    0.33818181818181814,
                    0.25090909090909097,
                    0.3090909090909091,
                    0.15999999999999992,
                    0.19999999999999996,
                    0.13090909090909109,
                    0.3345454545454545,
                    0.19999999999999996,
                    0.3272727272727274,
                    0.15636363636363626,
                    0.34545454545454546,
                    0.12363636363636354,
                    0.3272727272727274,
                    0.13818181818181818,
                    0.35272727272727256,
                    0.05090909090909079,
                    0.27636363636363637,
                    0.2727272727272727,
                    0.49818181818181806,
                    0.12363636363636354,
                    0.38909090909090893,
                    0.31999999999999984,
                    0.18545454545454554,
                    0.14909090909090916,
                    0.36363636363636376,
                    0.09090909090909083,
                    0.3927272727272726,
                    0.16727272727272724,
                    0.10909090909090913,
                    0.18909090909090898,
                    0.3345454545454545,
                    0.1527272727272726,
                    0.17454545454545456,
                    0.22545454545454535,
                    0.2472727272727271,
                    0.13090909090909109,
                    0.3272727272727274,
                    0.06909090909090909,
                    0.2727272727272727,
                    0.14909090909090916,
                    0.3163636363636362,
                    0.21818181818181825,
                    0.2981818181818181,
                    0.036363636363636376,
                    0.4036363636363638,
                    0.10545454545454547,
                    0.3236363636363635,
                    0.20363636363636362,
                    0.20727272727272705,
                    0.2109090909090907,
                    0.27636363636363637,
                    0.23636363636363633,
                    0.22181818181818191,
                    0.21818181818181825,
                    0.4036363636363638,
                    0.21818181818181825,
                    0.49090909090909096,
                    0.27636363636363637,
                    0.3672727272727274,
                    0.2727272727272727,
                    0.3854545454545455,
                    0.23636363636363633,
                    0.18909090909090898,
                    0.13090909090909109,
                    0.3272727272727274,
                    0.14909090909090916,
                    0.20363636363636362,
                    0.29454545454545467,
                    0.33818181818181814,
                    0.11272727272727279,
                    0.3090909090909091,
                    0.24363636363636343,
                    0.3418181818181818,
                    0.25090909090909097,
                    0.4363636363636363,
                    0.23272727272727267,
                    0.3999999999999999,
                    0.17090909090909068,
                    0.1963636363636363,
                    0.21818181818181825,
                    0.3272727272727274,
                    0.1272727272727272,
                    0.29454545454545467,
                    0.17818181818181822,
                    0.27636363636363637,
                    0.29454545454545467,
                    0.3090909090909091,
                    0,
                    0.31272727272727274,
                    0.18909090909090898,
                    0.25090909090909097,
                    0.2581818181818183,
                    0.16363636363636358,
                    0.14181818181818184,
                    0.20727272727272705,
                    0.14181818181818184,
                    0.3418181818181818,
                    0.5236363636363637,
                    0.6509090909090909,
                    0.698181818181818,
                    0.48363636363636364,
                    0.749090909090909,
                    0.4763636363636363,
                    0.509090909090909,
                    0.698181818181818,
                    0.5054545454545454,
                    0.698181818181818,
                    0.5272727272727273,
                    0.7127272727272729,
                    0.5418181818181818,
                    0.7236363636363636,
                    0.5018181818181817,
                    0.669090909090909,
                    0.6618181818181816,
                    0.9418181818181817,
                    0.5199999999999998,
                    0.6218181818181818,
                    0.3745454545454545,
                    0.5963636363636362,
                    0.4036363636363638,
                    0.6727272727272726,
                    0.530909090909091,
                    0.7236363636363636,
                    0.669090909090909,
                    0.6327272727272726,
                    0.5199999999999998,
                    0.7527272727272725,
                    0.31999999999999984,
                    0.8036363636363637,
                    0.3781818181818182,
                    0.6872727272727273,
                    0.6400000000000001,
                    0.56,
                    0.5636363636363637,
                    0.7236363636363636,
                    0.5381818181818181,
                    0.7781818181818181,
                    0.6145454545454545,
                    0.5127272727272727,
                    0.6836363636363636,
                    0.4872727272727273,
                    0.6836363636363636,
                    0.6799999999999999,
                    0.6545454545454545,
                    0.6145454545454545,
                    0.7054545454545453,
                    0.6436363636363636,
                    0.5818181818181818,
                    0.7018181818181817,
                    0.4945454545454546,
                    0.6763636363636365,
                    0.3781818181818182,
                    0.730909090909091,
                    0.4763636363636363,
                    0.6254545454545453,
                    0.6581818181818182,
                    0.49090909090909096,
                    0.72,
                    0.5345454545454544,
                    0.4945454545454546,
                    0.8618181818181816,
                    0.41454545454545455,
                    0.6363636363636365,
                    0.6799999999999999,
                    0.6581818181818182,
                    0.509090909090909,
                    0.6509090909090909,
                    0.6036363636363637,
                    0.6509090909090909,
                    0.5636363636363637,
                    0.5236363636363637,
                    0.48363636363636364,
                    0.530909090909091,
                    0.40727272727272723,
                    0.5345454545454544,
                    0.31999999999999984,
                    0.6145454545454545,
                    0.4872727272727273,
                    0.5927272727272725,
                    0.49818181818181806,
                    0.6254545454545453,
                    0.3599999999999999,
                    0.6218181818181818,
                    0.5127272727272727,
                    0.6036363636363637,
                    0.6581818181818182,
                    0.47272727272727266,
                    0.5236363636363637,
                    0.5163636363636361,
                    0.3927272727272726,
                    0.509090909090909,
                    0.4509090909090909,
                    0.5709090909090908,
                    0.5854545454545454,
                    0.6509090909090909,
                    0.5527272727272725,
                    0.38909090909090893,
                    0.47272727272727266,
                    0.9999999999999998,
                    0.6181818181818182,
                    0.5927272727272725,
                    0.38181818181818183,
                    0.44727272727272727,
                    0.4327272727272726,
                    0.6036363636363637,
                    0.3854545454545455,
                    0.6363636363636365,
                    0.47999999999999976,
                    0.6363636363636365,
                    0.669090909090909,
                    0.4181818181818182,
                    0.4872727272727273,
                    0.669090909090909,
                    0.46545454545454534,
                    0.4763636363636363,
                    0.5272727272727273,
                    0.5963636363636362,
                    0.47272727272727266,
                    0.6545454545454545,
                    0.5236363636363637,
                    0.469090909090909,
                    0.4254545454545453,
                    0.4872727272727273,
                    0.4036363636363638,
                    0.6654545454545453,
                    0.47999999999999976,
                    0.5127272727272727,
                    0.4945454545454546,
                    0.8072727272727271,
                    0.49818181818181806,
                    0.6436363636363636,
                    0.5127272727272727,
                    0.6327272727272726,
                    0.41454545454545455,
                    0.6763636363636365,
                    0.5672727272727274,
                    0.5199999999999998,
                    0.5854545454545454,
                    0.5236363636363637,
                    0.5199999999999998,
                    0.6000000000000001,
                    0.56,
                    0.6909090909090909,
                    0.4763636363636363,
                    0.4763636363636363,
                    0.6181818181818182,
                    0.7418181818181817,
                    0.5563636363636362,
                    0.6509090909090909,
                    0.46545454545454534,
                    0.6799999999999999,
                    0.4109090909090909,
                    0.698181818181818,
                    0.56,
                    0.7272727272727273,
                    0.56,
                    0.730909090909091,
                    0.4872727272727273,
                    0.6327272727272726,
                    0.4509090909090909,
                    0.6799999999999999,
                    0.6290909090909089,
                    0.5381818181818181,
                    0.5927272727272725,
                    0.6909090909090909,
                    0.5963636363636362,
                    0.8654545454545455,
                    0.5490909090909091,
                    0.6181818181818182,
                    0.5527272727272725,
                    0.5345454545454544,
                    0.3490909090909091,
                    0.7745454545454544,
                    0.40727272727272723,
                    0.5818181818181818,
                    0.669090909090909,
                    0.6436363636363636,
                    0.41454545454545455,
                    0.7054545454545453,
                    0.5127272727272727,
                    0.8363636363636362,
                    0.4509090909090909,
                    0.6072727272727272,
                    0.5490909090909091,
                    0.4298883572567782,
                    0.5345454545454544,
                    0.6654545454545453,
                    0.4763636363636363,
                    0.6472727272727272
                  ],
                  "y0": " ",
                  "yaxis": "y"
                }
              ],
              "layout": {
                "boxmode": "group",
                "legend": {
                  "tracegroupgap": 0
                },
                "margin": {
                  "t": 60
                },
                "template": {
                  "data": {
                    "bar": [
                      {
                        "error_x": {
                          "color": "#2a3f5f"
                        },
                        "error_y": {
                          "color": "#2a3f5f"
                        },
                        "marker": {
                          "line": {
                            "color": "#E5ECF6",
                            "width": 0.5
                          },
                          "pattern": {
                            "fillmode": "overlay",
                            "size": 10,
                            "solidity": 0.2
                          }
                        },
                        "type": "bar"
                      }
                    ],
                    "barpolar": [
                      {
                        "marker": {
                          "line": {
                            "color": "#E5ECF6",
                            "width": 0.5
                          },
                          "pattern": {
                            "fillmode": "overlay",
                            "size": 10,
                            "solidity": 0.2
                          }
                        },
                        "type": "barpolar"
                      }
                    ],
                    "carpet": [
                      {
                        "aaxis": {
                          "endlinecolor": "#2a3f5f",
                          "gridcolor": "white",
                          "linecolor": "white",
                          "minorgridcolor": "white",
                          "startlinecolor": "#2a3f5f"
                        },
                        "baxis": {
                          "endlinecolor": "#2a3f5f",
                          "gridcolor": "white",
                          "linecolor": "white",
                          "minorgridcolor": "white",
                          "startlinecolor": "#2a3f5f"
                        },
                        "type": "carpet"
                      }
                    ],
                    "choropleth": [
                      {
                        "colorbar": {
                          "outlinewidth": 0,
                          "ticks": ""
                        },
                        "type": "choropleth"
                      }
                    ],
                    "contour": [
                      {
                        "colorbar": {
                          "outlinewidth": 0,
                          "ticks": ""
                        },
                        "colorscale": [
                          [
                            0,
                            "#0d0887"
                          ],
                          [
                            0.1111111111111111,
                            "#46039f"
                          ],
                          [
                            0.2222222222222222,
                            "#7201a8"
                          ],
                          [
                            0.3333333333333333,
                            "#9c179e"
                          ],
                          [
                            0.4444444444444444,
                            "#bd3786"
                          ],
                          [
                            0.5555555555555556,
                            "#d8576b"
                          ],
                          [
                            0.6666666666666666,
                            "#ed7953"
                          ],
                          [
                            0.7777777777777778,
                            "#fb9f3a"
                          ],
                          [
                            0.8888888888888888,
                            "#fdca26"
                          ],
                          [
                            1,
                            "#f0f921"
                          ]
                        ],
                        "type": "contour"
                      }
                    ],
                    "contourcarpet": [
                      {
                        "colorbar": {
                          "outlinewidth": 0,
                          "ticks": ""
                        },
                        "type": "contourcarpet"
                      }
                    ],
                    "heatmap": [
                      {
                        "colorbar": {
                          "outlinewidth": 0,
                          "ticks": ""
                        },
                        "colorscale": [
                          [
                            0,
                            "#0d0887"
                          ],
                          [
                            0.1111111111111111,
                            "#46039f"
                          ],
                          [
                            0.2222222222222222,
                            "#7201a8"
                          ],
                          [
                            0.3333333333333333,
                            "#9c179e"
                          ],
                          [
                            0.4444444444444444,
                            "#bd3786"
                          ],
                          [
                            0.5555555555555556,
                            "#d8576b"
                          ],
                          [
                            0.6666666666666666,
                            "#ed7953"
                          ],
                          [
                            0.7777777777777778,
                            "#fb9f3a"
                          ],
                          [
                            0.8888888888888888,
                            "#fdca26"
                          ],
                          [
                            1,
                            "#f0f921"
                          ]
                        ],
                        "type": "heatmap"
                      }
                    ],
                    "heatmapgl": [
                      {
                        "colorbar": {
                          "outlinewidth": 0,
                          "ticks": ""
                        },
                        "colorscale": [
                          [
                            0,
                            "#0d0887"
                          ],
                          [
                            0.1111111111111111,
                            "#46039f"
                          ],
                          [
                            0.2222222222222222,
                            "#7201a8"
                          ],
                          [
                            0.3333333333333333,
                            "#9c179e"
                          ],
                          [
                            0.4444444444444444,
                            "#bd3786"
                          ],
                          [
                            0.5555555555555556,
                            "#d8576b"
                          ],
                          [
                            0.6666666666666666,
                            "#ed7953"
                          ],
                          [
                            0.7777777777777778,
                            "#fb9f3a"
                          ],
                          [
                            0.8888888888888888,
                            "#fdca26"
                          ],
                          [
                            1,
                            "#f0f921"
                          ]
                        ],
                        "type": "heatmapgl"
                      }
                    ],
                    "histogram": [
                      {
                        "marker": {
                          "pattern": {
                            "fillmode": "overlay",
                            "size": 10,
                            "solidity": 0.2
                          }
                        },
                        "type": "histogram"
                      }
                    ],
                    "histogram2d": [
                      {
                        "colorbar": {
                          "outlinewidth": 0,
                          "ticks": ""
                        },
                        "colorscale": [
                          [
                            0,
                            "#0d0887"
                          ],
                          [
                            0.1111111111111111,
                            "#46039f"
                          ],
                          [
                            0.2222222222222222,
                            "#7201a8"
                          ],
                          [
                            0.3333333333333333,
                            "#9c179e"
                          ],
                          [
                            0.4444444444444444,
                            "#bd3786"
                          ],
                          [
                            0.5555555555555556,
                            "#d8576b"
                          ],
                          [
                            0.6666666666666666,
                            "#ed7953"
                          ],
                          [
                            0.7777777777777778,
                            "#fb9f3a"
                          ],
                          [
                            0.8888888888888888,
                            "#fdca26"
                          ],
                          [
                            1,
                            "#f0f921"
                          ]
                        ],
                        "type": "histogram2d"
                      }
                    ],
                    "histogram2dcontour": [
                      {
                        "colorbar": {
                          "outlinewidth": 0,
                          "ticks": ""
                        },
                        "colorscale": [
                          [
                            0,
                            "#0d0887"
                          ],
                          [
                            0.1111111111111111,
                            "#46039f"
                          ],
                          [
                            0.2222222222222222,
                            "#7201a8"
                          ],
                          [
                            0.3333333333333333,
                            "#9c179e"
                          ],
                          [
                            0.4444444444444444,
                            "#bd3786"
                          ],
                          [
                            0.5555555555555556,
                            "#d8576b"
                          ],
                          [
                            0.6666666666666666,
                            "#ed7953"
                          ],
                          [
                            0.7777777777777778,
                            "#fb9f3a"
                          ],
                          [
                            0.8888888888888888,
                            "#fdca26"
                          ],
                          [
                            1,
                            "#f0f921"
                          ]
                        ],
                        "type": "histogram2dcontour"
                      }
                    ],
                    "mesh3d": [
                      {
                        "colorbar": {
                          "outlinewidth": 0,
                          "ticks": ""
                        },
                        "type": "mesh3d"
                      }
                    ],
                    "parcoords": [
                      {
                        "line": {
                          "colorbar": {
                            "outlinewidth": 0,
                            "ticks": ""
                          }
                        },
                        "type": "parcoords"
                      }
                    ],
                    "pie": [
                      {
                        "automargin": true,
                        "type": "pie"
                      }
                    ],
                    "scatter": [
                      {
                        "fillpattern": {
                          "fillmode": "overlay",
                          "size": 10,
                          "solidity": 0.2
                        },
                        "type": "scatter"
                      }
                    ],
                    "scatter3d": [
                      {
                        "line": {
                          "colorbar": {
                            "outlinewidth": 0,
                            "ticks": ""
                          }
                        },
                        "marker": {
                          "colorbar": {
                            "outlinewidth": 0,
                            "ticks": ""
                          }
                        },
                        "type": "scatter3d"
                      }
                    ],
                    "scattercarpet": [
                      {
                        "marker": {
                          "colorbar": {
                            "outlinewidth": 0,
                            "ticks": ""
                          }
                        },
                        "type": "scattercarpet"
                      }
                    ],
                    "scattergeo": [
                      {
                        "marker": {
                          "colorbar": {
                            "outlinewidth": 0,
                            "ticks": ""
                          }
                        },
                        "type": "scattergeo"
                      }
                    ],
                    "scattergl": [
                      {
                        "marker": {
                          "colorbar": {
                            "outlinewidth": 0,
                            "ticks": ""
                          }
                        },
                        "type": "scattergl"
                      }
                    ],
                    "scattermapbox": [
                      {
                        "marker": {
                          "colorbar": {
                            "outlinewidth": 0,
                            "ticks": ""
                          }
                        },
                        "type": "scattermapbox"
                      }
                    ],
                    "scatterpolar": [
                      {
                        "marker": {
                          "colorbar": {
                            "outlinewidth": 0,
                            "ticks": ""
                          }
                        },
                        "type": "scatterpolar"
                      }
                    ],
                    "scatterpolargl": [
                      {
                        "marker": {
                          "colorbar": {
                            "outlinewidth": 0,
                            "ticks": ""
                          }
                        },
                        "type": "scatterpolargl"
                      }
                    ],
                    "scatterternary": [
                      {
                        "marker": {
                          "colorbar": {
                            "outlinewidth": 0,
                            "ticks": ""
                          }
                        },
                        "type": "scatterternary"
                      }
                    ],
                    "surface": [
                      {
                        "colorbar": {
                          "outlinewidth": 0,
                          "ticks": ""
                        },
                        "colorscale": [
                          [
                            0,
                            "#0d0887"
                          ],
                          [
                            0.1111111111111111,
                            "#46039f"
                          ],
                          [
                            0.2222222222222222,
                            "#7201a8"
                          ],
                          [
                            0.3333333333333333,
                            "#9c179e"
                          ],
                          [
                            0.4444444444444444,
                            "#bd3786"
                          ],
                          [
                            0.5555555555555556,
                            "#d8576b"
                          ],
                          [
                            0.6666666666666666,
                            "#ed7953"
                          ],
                          [
                            0.7777777777777778,
                            "#fb9f3a"
                          ],
                          [
                            0.8888888888888888,
                            "#fdca26"
                          ],
                          [
                            1,
                            "#f0f921"
                          ]
                        ],
                        "type": "surface"
                      }
                    ],
                    "table": [
                      {
                        "cells": {
                          "fill": {
                            "color": "#EBF0F8"
                          },
                          "line": {
                            "color": "white"
                          }
                        },
                        "header": {
                          "fill": {
                            "color": "#C8D4E3"
                          },
                          "line": {
                            "color": "white"
                          }
                        },
                        "type": "table"
                      }
                    ]
                  },
                  "layout": {
                    "annotationdefaults": {
                      "arrowcolor": "#2a3f5f",
                      "arrowhead": 0,
                      "arrowwidth": 1
                    },
                    "autotypenumbers": "strict",
                    "coloraxis": {
                      "colorbar": {
                        "outlinewidth": 0,
                        "ticks": ""
                      }
                    },
                    "colorscale": {
                      "diverging": [
                        [
                          0,
                          "#8e0152"
                        ],
                        [
                          0.1,
                          "#c51b7d"
                        ],
                        [
                          0.2,
                          "#de77ae"
                        ],
                        [
                          0.3,
                          "#f1b6da"
                        ],
                        [
                          0.4,
                          "#fde0ef"
                        ],
                        [
                          0.5,
                          "#f7f7f7"
                        ],
                        [
                          0.6,
                          "#e6f5d0"
                        ],
                        [
                          0.7,
                          "#b8e186"
                        ],
                        [
                          0.8,
                          "#7fbc41"
                        ],
                        [
                          0.9,
                          "#4d9221"
                        ],
                        [
                          1,
                          "#276419"
                        ]
                      ],
                      "sequential": [
                        [
                          0,
                          "#0d0887"
                        ],
                        [
                          0.1111111111111111,
                          "#46039f"
                        ],
                        [
                          0.2222222222222222,
                          "#7201a8"
                        ],
                        [
                          0.3333333333333333,
                          "#9c179e"
                        ],
                        [
                          0.4444444444444444,
                          "#bd3786"
                        ],
                        [
                          0.5555555555555556,
                          "#d8576b"
                        ],
                        [
                          0.6666666666666666,
                          "#ed7953"
                        ],
                        [
                          0.7777777777777778,
                          "#fb9f3a"
                        ],
                        [
                          0.8888888888888888,
                          "#fdca26"
                        ],
                        [
                          1,
                          "#f0f921"
                        ]
                      ],
                      "sequentialminus": [
                        [
                          0,
                          "#0d0887"
                        ],
                        [
                          0.1111111111111111,
                          "#46039f"
                        ],
                        [
                          0.2222222222222222,
                          "#7201a8"
                        ],
                        [
                          0.3333333333333333,
                          "#9c179e"
                        ],
                        [
                          0.4444444444444444,
                          "#bd3786"
                        ],
                        [
                          0.5555555555555556,
                          "#d8576b"
                        ],
                        [
                          0.6666666666666666,
                          "#ed7953"
                        ],
                        [
                          0.7777777777777778,
                          "#fb9f3a"
                        ],
                        [
                          0.8888888888888888,
                          "#fdca26"
                        ],
                        [
                          1,
                          "#f0f921"
                        ]
                      ]
                    },
                    "colorway": [
                      "#636efa",
                      "#EF553B",
                      "#00cc96",
                      "#ab63fa",
                      "#FFA15A",
                      "#19d3f3",
                      "#FF6692",
                      "#B6E880",
                      "#FF97FF",
                      "#FECB52"
                    ],
                    "font": {
                      "color": "#2a3f5f"
                    },
                    "geo": {
                      "bgcolor": "white",
                      "lakecolor": "white",
                      "landcolor": "#E5ECF6",
                      "showlakes": true,
                      "showland": true,
                      "subunitcolor": "white"
                    },
                    "hoverlabel": {
                      "align": "left"
                    },
                    "hovermode": "closest",
                    "mapbox": {
                      "style": "light"
                    },
                    "paper_bgcolor": "white",
                    "plot_bgcolor": "#E5ECF6",
                    "polar": {
                      "angularaxis": {
                        "gridcolor": "white",
                        "linecolor": "white",
                        "ticks": ""
                      },
                      "bgcolor": "#E5ECF6",
                      "radialaxis": {
                        "gridcolor": "white",
                        "linecolor": "white",
                        "ticks": ""
                      }
                    },
                    "scene": {
                      "xaxis": {
                        "backgroundcolor": "#E5ECF6",
                        "gridcolor": "white",
                        "gridwidth": 2,
                        "linecolor": "white",
                        "showbackground": true,
                        "ticks": "",
                        "zerolinecolor": "white"
                      },
                      "yaxis": {
                        "backgroundcolor": "#E5ECF6",
                        "gridcolor": "white",
                        "gridwidth": 2,
                        "linecolor": "white",
                        "showbackground": true,
                        "ticks": "",
                        "zerolinecolor": "white"
                      },
                      "zaxis": {
                        "backgroundcolor": "#E5ECF6",
                        "gridcolor": "white",
                        "gridwidth": 2,
                        "linecolor": "white",
                        "showbackground": true,
                        "ticks": "",
                        "zerolinecolor": "white"
                      }
                    },
                    "shapedefaults": {
                      "line": {
                        "color": "#2a3f5f"
                      }
                    },
                    "ternary": {
                      "aaxis": {
                        "gridcolor": "white",
                        "linecolor": "white",
                        "ticks": ""
                      },
                      "baxis": {
                        "gridcolor": "white",
                        "linecolor": "white",
                        "ticks": ""
                      },
                      "bgcolor": "#E5ECF6",
                      "caxis": {
                        "gridcolor": "white",
                        "linecolor": "white",
                        "ticks": ""
                      }
                    },
                    "title": {
                      "x": 0.05
                    },
                    "xaxis": {
                      "automargin": true,
                      "gridcolor": "white",
                      "linecolor": "white",
                      "ticks": "",
                      "title": {
                        "standoff": 15
                      },
                      "zerolinecolor": "white",
                      "zerolinewidth": 2
                    },
                    "yaxis": {
                      "automargin": true,
                      "gridcolor": "white",
                      "linecolor": "white",
                      "ticks": "",
                      "title": {
                        "standoff": 15
                      },
                      "zerolinecolor": "white",
                      "zerolinewidth": 2
                    }
                  }
                },
                "xaxis": {
                  "anchor": "y",
                  "domain": [
                    0,
                    1
                  ],
                  "title": {
                    "text": "Species_encode"
                  }
                },
                "yaxis": {
                  "anchor": "x",
                  "domain": [
                    0,
                    1
                  ],
                  "title": {
                    "text": "bill_length_mm_scaled"
                  }
                }
              }
            }
          },
          "metadata": {},
          "output_type": "display_data"
        }
      ],
      "source": [
        "px.box(df , x=\"Species_encode\" , y=\"bill_length_mm_scaled\")"
      ]
    },
    {
      "cell_type": "code",
      "execution_count": 100,
      "metadata": {},
      "outputs": [
        {
          "data": {
            "text/plain": [
              "Index(['Island_encode', 'Species_encode', 'Sex_encode', 'body_mass_g_scaled',\n",
              "       'bill_length_mm_scaled', 'bill_depth_mm_scaled',\n",
              "       'flipper_length_mm_scaled'],\n",
              "      dtype='object')"
            ]
          },
          "execution_count": 100,
          "metadata": {},
          "output_type": "execute_result"
        }
      ],
      "source": [
        "df.columns"
      ]
    },
    {
      "cell_type": "code",
      "execution_count": 101,
      "metadata": {},
      "outputs": [
        {
          "data": {
            "application/vnd.plotly.v1+json": {
              "config": {
                "plotlyServerURL": "https://plot.ly"
              },
              "data": [
                {
                  "hovertemplate": "bill_length_mm_scaled=%{x}<br>bill_depth_mm_scaled=%{y}<br>Sex_encode=%{marker.color}<extra></extra>",
                  "legendgroup": "",
                  "marker": {
                    "color": [
                      0,
                      1,
                      1,
                      0,
                      1,
                      0,
                      1,
                      0,
                      0,
                      0,
                      0,
                      0,
                      1,
                      0,
                      0,
                      1,
                      1,
                      0,
                      1,
                      0,
                      1,
                      0,
                      1,
                      0,
                      0,
                      1,
                      0,
                      1,
                      1,
                      0,
                      1,
                      0,
                      1,
                      0,
                      1,
                      0,
                      0,
                      1,
                      1,
                      0,
                      1,
                      0,
                      1,
                      0,
                      1,
                      0,
                      0,
                      0,
                      1,
                      0,
                      1,
                      0,
                      1,
                      0,
                      1,
                      0,
                      1,
                      0,
                      1,
                      0,
                      1,
                      0,
                      1,
                      0,
                      1,
                      0,
                      1,
                      0,
                      1,
                      0,
                      1,
                      0,
                      1,
                      0,
                      1,
                      0,
                      1,
                      0,
                      1,
                      0,
                      1,
                      0,
                      1,
                      0,
                      1,
                      0,
                      0,
                      1,
                      0,
                      1,
                      1,
                      0,
                      1,
                      0,
                      1,
                      0,
                      1,
                      0,
                      1,
                      0,
                      1,
                      0,
                      1,
                      0,
                      1,
                      0,
                      1,
                      0,
                      1,
                      0,
                      1,
                      0,
                      1,
                      0,
                      1,
                      0,
                      1,
                      0,
                      1,
                      0,
                      1,
                      0,
                      1,
                      0,
                      1,
                      0,
                      1,
                      0,
                      1,
                      0,
                      1,
                      0,
                      1,
                      0,
                      1,
                      0,
                      1,
                      0,
                      1,
                      0,
                      1,
                      0,
                      1,
                      0,
                      1,
                      0,
                      0,
                      1,
                      1,
                      0,
                      1,
                      0,
                      1,
                      0,
                      0,
                      1,
                      0,
                      1,
                      1,
                      0,
                      1,
                      0,
                      1,
                      0,
                      1,
                      0,
                      1,
                      0,
                      0,
                      1,
                      1,
                      0,
                      1,
                      0,
                      1,
                      0,
                      1,
                      0,
                      1,
                      0,
                      1,
                      0,
                      1,
                      0,
                      1,
                      0,
                      0,
                      1,
                      1,
                      0,
                      1,
                      0,
                      0,
                      1,
                      0,
                      1,
                      1,
                      0,
                      1,
                      0,
                      0,
                      1,
                      1,
                      0,
                      1,
                      0,
                      1,
                      0,
                      1,
                      0,
                      0,
                      1,
                      0,
                      1,
                      1,
                      0,
                      1,
                      0,
                      0,
                      1,
                      1,
                      0,
                      1,
                      0,
                      0,
                      1,
                      1,
                      0,
                      1,
                      0,
                      1,
                      0,
                      1,
                      0,
                      1,
                      0,
                      1,
                      0,
                      1,
                      0,
                      0,
                      1,
                      1,
                      0,
                      1,
                      0,
                      0,
                      0,
                      1,
                      0,
                      0,
                      1,
                      1,
                      0,
                      1,
                      0,
                      1,
                      0,
                      1,
                      0,
                      1,
                      0,
                      1,
                      0,
                      0,
                      1,
                      1,
                      0,
                      1,
                      0,
                      1,
                      0,
                      1,
                      0,
                      1,
                      0,
                      1,
                      0,
                      1,
                      0,
                      1,
                      0,
                      1,
                      0,
                      1,
                      0,
                      0,
                      0,
                      1,
                      0,
                      1,
                      0,
                      0,
                      1,
                      1,
                      0,
                      1,
                      0,
                      1,
                      0,
                      1,
                      0,
                      1,
                      0,
                      1,
                      0,
                      1,
                      0,
                      1,
                      0,
                      1,
                      0,
                      1,
                      0,
                      1,
                      0,
                      0,
                      1,
                      1,
                      0,
                      1,
                      0,
                      1,
                      0,
                      0,
                      0,
                      1,
                      0,
                      1,
                      0,
                      1,
                      0,
                      1,
                      0,
                      1,
                      0,
                      0,
                      0,
                      1,
                      0,
                      1,
                      0,
                      1,
                      0
                    ],
                    "coloraxis": "coloraxis",
                    "symbol": "circle"
                  },
                  "mode": "markers",
                  "name": "",
                  "orientation": "v",
                  "showlegend": false,
                  "type": "scatter",
                  "x": [
                    0.25454545454545463,
                    0.26909090909090905,
                    0.2981818181818181,
                    0.4298883572567782,
                    0.16727272727272724,
                    0.2618181818181817,
                    0.2472727272727271,
                    0.2581818181818183,
                    0.07272727272727275,
                    0.3599999999999999,
                    0.20727272727272705,
                    0.20727272727272705,
                    0.3272727272727274,
                    0.23636363636363633,
                    0.09090909090909083,
                    0.16363636363636358,
                    0.24,
                    0.3781818181818182,
                    0.08363636363636351,
                    0.5054545454545454,
                    0.20727272727272705,
                    0.20363636363636362,
                    0.13818181818181818,
                    0.22181818181818191,
                    0.24363636363636343,
                    0.11636363636363622,
                    0.3090909090909091,
                    0.3054545454545454,
                    0.2109090909090907,
                    0.3054545454545454,
                    0.26909090909090905,
                    0.18545454545454554,
                    0.26909090909090905,
                    0.31999999999999984,
                    0.15636363636363626,
                    0.2581818181818183,
                    0.24363636363636343,
                    0.3672727272727274,
                    0.19999999999999996,
                    0.2799999999999998,
                    0.15999999999999992,
                    0.3163636363636362,
                    0.14181818181818184,
                    0.4363636363636363,
                    0.17818181818181822,
                    0.2727272727272727,
                    0.3272727272727274,
                    0.1963636363636363,
                    0.14181818181818184,
                    0.37090909090909085,
                    0.2727272727272727,
                    0.290909090909091,
                    0.10545454545454547,
                    0.3599999999999999,
                    0.08727272727272717,
                    0.33818181818181814,
                    0.25090909090909097,
                    0.3090909090909091,
                    0.15999999999999992,
                    0.19999999999999996,
                    0.13090909090909109,
                    0.3345454545454545,
                    0.19999999999999996,
                    0.3272727272727274,
                    0.15636363636363626,
                    0.34545454545454546,
                    0.12363636363636354,
                    0.3272727272727274,
                    0.13818181818181818,
                    0.35272727272727256,
                    0.05090909090909079,
                    0.27636363636363637,
                    0.2727272727272727,
                    0.49818181818181806,
                    0.12363636363636354,
                    0.38909090909090893,
                    0.31999999999999984,
                    0.18545454545454554,
                    0.14909090909090916,
                    0.36363636363636376,
                    0.09090909090909083,
                    0.3927272727272726,
                    0.16727272727272724,
                    0.10909090909090913,
                    0.18909090909090898,
                    0.3345454545454545,
                    0.1527272727272726,
                    0.17454545454545456,
                    0.22545454545454535,
                    0.2472727272727271,
                    0.13090909090909109,
                    0.3272727272727274,
                    0.06909090909090909,
                    0.2727272727272727,
                    0.14909090909090916,
                    0.3163636363636362,
                    0.21818181818181825,
                    0.2981818181818181,
                    0.036363636363636376,
                    0.4036363636363638,
                    0.10545454545454547,
                    0.3236363636363635,
                    0.20363636363636362,
                    0.20727272727272705,
                    0.2109090909090907,
                    0.27636363636363637,
                    0.23636363636363633,
                    0.22181818181818191,
                    0.21818181818181825,
                    0.4036363636363638,
                    0.21818181818181825,
                    0.49090909090909096,
                    0.27636363636363637,
                    0.3672727272727274,
                    0.2727272727272727,
                    0.3854545454545455,
                    0.23636363636363633,
                    0.18909090909090898,
                    0.13090909090909109,
                    0.3272727272727274,
                    0.14909090909090916,
                    0.20363636363636362,
                    0.29454545454545467,
                    0.33818181818181814,
                    0.11272727272727279,
                    0.3090909090909091,
                    0.24363636363636343,
                    0.3418181818181818,
                    0.25090909090909097,
                    0.4363636363636363,
                    0.23272727272727267,
                    0.3999999999999999,
                    0.17090909090909068,
                    0.1963636363636363,
                    0.21818181818181825,
                    0.3272727272727274,
                    0.1272727272727272,
                    0.29454545454545467,
                    0.17818181818181822,
                    0.27636363636363637,
                    0.29454545454545467,
                    0.3090909090909091,
                    0,
                    0.31272727272727274,
                    0.18909090909090898,
                    0.25090909090909097,
                    0.2581818181818183,
                    0.16363636363636358,
                    0.14181818181818184,
                    0.20727272727272705,
                    0.14181818181818184,
                    0.3418181818181818,
                    0.5236363636363637,
                    0.6509090909090909,
                    0.698181818181818,
                    0.48363636363636364,
                    0.749090909090909,
                    0.4763636363636363,
                    0.509090909090909,
                    0.698181818181818,
                    0.5054545454545454,
                    0.698181818181818,
                    0.5272727272727273,
                    0.7127272727272729,
                    0.5418181818181818,
                    0.7236363636363636,
                    0.5018181818181817,
                    0.669090909090909,
                    0.6618181818181816,
                    0.9418181818181817,
                    0.5199999999999998,
                    0.6218181818181818,
                    0.3745454545454545,
                    0.5963636363636362,
                    0.4036363636363638,
                    0.6727272727272726,
                    0.530909090909091,
                    0.7236363636363636,
                    0.669090909090909,
                    0.6327272727272726,
                    0.5199999999999998,
                    0.7527272727272725,
                    0.31999999999999984,
                    0.8036363636363637,
                    0.3781818181818182,
                    0.6872727272727273,
                    0.6400000000000001,
                    0.56,
                    0.5636363636363637,
                    0.7236363636363636,
                    0.5381818181818181,
                    0.7781818181818181,
                    0.6145454545454545,
                    0.5127272727272727,
                    0.6836363636363636,
                    0.4872727272727273,
                    0.6836363636363636,
                    0.6799999999999999,
                    0.6545454545454545,
                    0.6145454545454545,
                    0.7054545454545453,
                    0.6436363636363636,
                    0.5818181818181818,
                    0.7018181818181817,
                    0.4945454545454546,
                    0.6763636363636365,
                    0.3781818181818182,
                    0.730909090909091,
                    0.4763636363636363,
                    0.6254545454545453,
                    0.6581818181818182,
                    0.49090909090909096,
                    0.72,
                    0.5345454545454544,
                    0.4945454545454546,
                    0.8618181818181816,
                    0.41454545454545455,
                    0.6363636363636365,
                    0.6799999999999999,
                    0.6581818181818182,
                    0.509090909090909,
                    0.6509090909090909,
                    0.6036363636363637,
                    0.6509090909090909,
                    0.5636363636363637,
                    0.5236363636363637,
                    0.48363636363636364,
                    0.530909090909091,
                    0.40727272727272723,
                    0.5345454545454544,
                    0.31999999999999984,
                    0.6145454545454545,
                    0.4872727272727273,
                    0.5927272727272725,
                    0.49818181818181806,
                    0.6254545454545453,
                    0.3599999999999999,
                    0.6218181818181818,
                    0.5127272727272727,
                    0.6036363636363637,
                    0.6581818181818182,
                    0.47272727272727266,
                    0.5236363636363637,
                    0.5163636363636361,
                    0.3927272727272726,
                    0.509090909090909,
                    0.4509090909090909,
                    0.5709090909090908,
                    0.5854545454545454,
                    0.6509090909090909,
                    0.5527272727272725,
                    0.38909090909090893,
                    0.47272727272727266,
                    0.9999999999999998,
                    0.6181818181818182,
                    0.5927272727272725,
                    0.38181818181818183,
                    0.44727272727272727,
                    0.4327272727272726,
                    0.6036363636363637,
                    0.3854545454545455,
                    0.6363636363636365,
                    0.47999999999999976,
                    0.6363636363636365,
                    0.669090909090909,
                    0.4181818181818182,
                    0.4872727272727273,
                    0.669090909090909,
                    0.46545454545454534,
                    0.4763636363636363,
                    0.5272727272727273,
                    0.5963636363636362,
                    0.47272727272727266,
                    0.6545454545454545,
                    0.5236363636363637,
                    0.469090909090909,
                    0.4254545454545453,
                    0.4872727272727273,
                    0.4036363636363638,
                    0.6654545454545453,
                    0.47999999999999976,
                    0.5127272727272727,
                    0.4945454545454546,
                    0.8072727272727271,
                    0.49818181818181806,
                    0.6436363636363636,
                    0.5127272727272727,
                    0.6327272727272726,
                    0.41454545454545455,
                    0.6763636363636365,
                    0.5672727272727274,
                    0.5199999999999998,
                    0.5854545454545454,
                    0.5236363636363637,
                    0.5199999999999998,
                    0.6000000000000001,
                    0.56,
                    0.6909090909090909,
                    0.4763636363636363,
                    0.4763636363636363,
                    0.6181818181818182,
                    0.7418181818181817,
                    0.5563636363636362,
                    0.6509090909090909,
                    0.46545454545454534,
                    0.6799999999999999,
                    0.4109090909090909,
                    0.698181818181818,
                    0.56,
                    0.7272727272727273,
                    0.56,
                    0.730909090909091,
                    0.4872727272727273,
                    0.6327272727272726,
                    0.4509090909090909,
                    0.6799999999999999,
                    0.6290909090909089,
                    0.5381818181818181,
                    0.5927272727272725,
                    0.6909090909090909,
                    0.5963636363636362,
                    0.8654545454545455,
                    0.5490909090909091,
                    0.6181818181818182,
                    0.5527272727272725,
                    0.5345454545454544,
                    0.3490909090909091,
                    0.7745454545454544,
                    0.40727272727272723,
                    0.5818181818181818,
                    0.669090909090909,
                    0.6436363636363636,
                    0.41454545454545455,
                    0.7054545454545453,
                    0.5127272727272727,
                    0.8363636363636362,
                    0.4509090909090909,
                    0.6072727272727272,
                    0.5490909090909091,
                    0.4298883572567782,
                    0.5345454545454544,
                    0.6654545454545453,
                    0.4763636363636363,
                    0.6472727272727272
                  ],
                  "xaxis": "x",
                  "y": [
                    0.1816888180550416,
                    0.13951105672083547,
                    0.1589777157981614,
                    1,
                    0.20115547713236753,
                    0.24333323846657368,
                    0.1524888294390528,
                    0.21088880667103055,
                    0.1622221589777158,
                    0.23035546574835636,
                    0.12977772718217268,
                    0.13626661354128128,
                    0.14599994307994418,
                    0.2627998975438995,
                    0.2595554543643453,
                    0.1524888294390528,
                    0.19142214759370463,
                    0.24657768164612798,
                    0.1719554885163787,
                    0.2725332270825625,
                    0.1687110453368244,
                    0.1816888180550416,
                    0.19791103395281323,
                    0.1622221589777158,
                    0.13302217036172687,
                    0.18817770441415022,
                    0.17844437487548742,
                    0.1557332726186071,
                    0.17844437487548742,
                    0.18817770441415022,
                    0.11679995446395536,
                    0.1622221589777158,
                    0.1524888294390528,
                    0.18817770441415022,
                    0.12653328400261826,
                    0.2595554543643453,
                    0.22386657938924776,
                    0.175199931695933,
                    0.20115547713236753,
                    0.19466659077325893,
                    0.1589777157981614,
                    0.1719554885163787,
                    0.175199931695933,
                    0.21413324985058474,
                    0.12328884082306396,
                    0.18493326123459602,
                    0.19142214759370463,
                    0.18817770441415022,
                    0.1557332726186071,
                    0.2627998975438995,
                    0.14924438625949848,
                    0.18817770441415022,
                    0.1557332726186071,
                    0.20764436349147614,
                    0.1622221589777158,
                    0.17844437487548742,
                    0.14275549990038988,
                    0.18493326123459602,
                    0.11355551128440106,
                    0.19466659077325893,
                    0.12328884082306396,
                    0.2595554543643453,
                    0.12653328400261826,
                    0.1654666021572701,
                    0.12977772718217268,
                    0.1589777157981614,
                    0.10057773856618374,
                    0.19466659077325893,
                    0.11355551128440106,
                    0.20439992031192183,
                    0.19142214759370463,
                    0.1719554885163787,
                    0.13302217036172687,
                    0.18817770441415022,
                    0.14275549990038988,
                    0.175199931695933,
                    0.12004439764350966,
                    0.20439992031192183,
                    0.09733329538662955,
                    0.19466659077325893,
                    0.13302217036172687,
                    0.14599994307994418,
                    0.18493326123459602,
                    0.20439992031192183,
                    0.1524888294390528,
                    0.23359990892791077,
                    0.20764436349147614,
                    0.17844437487548742,
                    0.19791103395281323,
                    0.18493326123459602,
                    0.1589777157981614,
                    0.1622221589777158,
                    0.12977772718217268,
                    0.1622221589777158,
                    0.13626661354128128,
                    0.18817770441415022,
                    0.17844437487548742,
                    0.175199931695933,
                    0.09733329538662955,
                    0.175199931695933,
                    0.1557332726186071,
                    0.22386657938924776,
                    0.09408885220707514,
                    0.22386657938924776,
                    0.17844437487548742,
                    0.18817770441415022,
                    0.13302217036172687,
                    0.22386657938924776,
                    0.12653328400261826,
                    0.19142214759370463,
                    0.11031106810484675,
                    0.23359990892791077,
                    0.14924438625949848,
                    0.20764436349147614,
                    0.24657768164612798,
                    0.1687110453368244,
                    0.12653328400261826,
                    0.24008879528701937,
                    0.12653328400261826,
                    0.17844437487548742,
                    0.13302217036172687,
                    0.21737769303013915,
                    0.12653328400261826,
                    0.175199931695933,
                    0.09084440902752083,
                    0.19142214759370463,
                    0.14599994307994418,
                    0.1687110453368244,
                    0.12977772718217268,
                    0.1589777157981614,
                    0.1557332726186071,
                    0.19791103395281323,
                    0.175199931695933,
                    0.175199931695933,
                    0.14599994307994418,
                    0.14275549990038988,
                    0.14275549990038988,
                    0.22711102256880217,
                    0.11031106810484675,
                    0.1557332726186071,
                    0.12977772718217268,
                    0.13302217036172687,
                    0.07786663630930352,
                    0.12653328400261826,
                    0.12004439764350966,
                    0.1816888180550416,
                    0.17844437487548742,
                    0.1719554885163787,
                    0.1524888294390528,
                    0.1622221589777158,
                    0.12977772718217268,
                    0.175199931695933,
                    0.1557332726186071,
                    0.20764436349147614,
                    0.19791103395281323,
                    0.1816888180550416,
                    0.21737769303013915,
                    0.1524888294390528,
                    0.1654666021572701,
                    0.1654666021572701,
                    0.18817770441415022,
                    0.22062213620969334,
                    0.1524888294390528,
                    0.23359990892791077,
                    0.13626661354128128,
                    0.1622221589777158,
                    0.12977772718217268,
                    0.21088880667103055,
                    0.22386657938924776,
                    0.1524888294390528,
                    0.17844437487548742,
                    0.1654666021572701,
                    0.13626661354128128,
                    0.14275549990038988,
                    0.11355551128440106,
                    0.20439992031192183,
                    0.1557332726186071,
                    0.19142214759370463,
                    0.1719554885163787,
                    0.19142214759370463,
                    0.1524888294390528,
                    0.22386657938924776,
                    0.11355551128440106,
                    0.24982212482568228,
                    0.11679995446395536,
                    0.18493326123459602,
                    0.17844437487548742,
                    0.12004439764350966,
                    0.1687110453368244,
                    0.24657768164612798,
                    0.11355551128440106,
                    0.22062213620969334,
                    0.20764436349147614,
                    0.14275549990038988,
                    0.19466659077325893,
                    0.12653328400261826,
                    0.1557332726186071,
                    0.175199931695933,
                    0.1557332726186071,
                    0.21088880667103055,
                    0.1816888180550416,
                    0.13626661354128128,
                    0.10706662492529234,
                    0.19142214759370463,
                    0.13626661354128128,
                    0.21413324985058474,
                    0.13626661354128128,
                    0.18493326123459602,
                    0.11355551128440106,
                    0.22062213620969334,
                    0.18493326123459602,
                    0.20439992031192183,
                    0.20764436349147614,
                    0.11031106810484675,
                    0.12653328400261826,
                    0.21737769303013915,
                    0.1622221589777158,
                    0.1654666021572701,
                    0.19142214759370463,
                    0.1816888180550416,
                    0.0032444431795543016,
                    0.10382218174573815,
                    0.03244443179554313,
                    0.06813330677064061,
                    0.04542220451376039,
                    0.012977772718217262,
                    0.04866664769331469,
                    0.07137774995019497,
                    0.00973332953866296,
                    0.07462219312974927,
                    0.019466659077325865,
                    0.09733329538662955,
                    0.019466659077325865,
                    0.04866664769331469,
                    0.04866664769331469,
                    0.08435552266841212,
                    0.012977772718217262,
                    0.06813330677064061,
                    0.04542220451376039,
                    0.06488886359108631,
                    0.038933318154651786,
                    0.04542220451376039,
                    0.04542220451376039,
                    0.08759996584796653,
                    0,
                    0.06488886359108631,
                    0.038933318154651786,
                    0.06164442041153201,
                    0.038933318154651786,
                    0.07137774995019497,
                    0.07137774995019497,
                    0.03568887497509743,
                    0.04542220451376039,
                    0.12653328400261826,
                    0.05515553405242335,
                    0.10382218174573815,
                    0.019466659077325865,
                    0.13626661354128128,
                    0.016222215897771564,
                    0.08435552266841212,
                    0.019466659077325865,
                    0.09408885220707514,
                    0.019466659077325865,
                    0.06164442041153201,
                    0.09084440902752083,
                    0.025955545436434524,
                    0.025955545436434524,
                    0.09084440902752083,
                    0.006488886359108659,
                    0.08759996584796653,
                    0.03568887497509743,
                    0.03244443179554313,
                    0.04217776133420609,
                    0.06164442041153201,
                    0.04217776133420609,
                    0.07462219312974927,
                    0.025955545436434524,
                    0.06164442041153201,
                    0.04542220451376039,
                    0.07137774995019497,
                    0.022711102256880222,
                    0.05839997723197765,
                    0.025955545436434524,
                    0.08435552266841212,
                    0.03568887497509743,
                    0.12004439764350966,
                    0.04217776133420609,
                    0.10057773856618374,
                    0.03568887497509743,
                    0.06164442041153201,
                    0.06164442041153201,
                    0.08111107948885782,
                    0.08111107948885782,
                    0.05515553405242335,
                    0.06164442041153201,
                    0.09408885220707514,
                    0.03568887497509743,
                    0.10382218174573815,
                    0.022711102256880222,
                    0.10706662492529234,
                    0.04542220451376039,
                    0.08111107948885782,
                    0.04866664769331469,
                    0.09084440902752083,
                    0.022711102256880222,
                    0.13626661354128128,
                    0.04217776133420609,
                    0.03568887497509743,
                    0.029199988615988826,
                    0.12653328400261826,
                    0.06164442041153201,
                    0.12977772718217268,
                    0.04542220451376039,
                    0.09733329538662955,
                    0.05191109087286899,
                    0.08435552266841212,
                    0.08759996584796653,
                    0.04866664769331469,
                    0.04217776133420609,
                    0.11031106810484675,
                    0.06164442041153201,
                    0.12653328400261826,
                    0.07786663630930352,
                    0.06164442041153201,
                    0.022711102256880222,
                    0.09733329538662955,
                    0.05191109087286899,
                    0.08759996584796653,
                    0.029199988615988826,
                    0.06488886359108631,
                    0.06813330677064061,
                    0.09084440902752083,
                    0.06813330677064061,
                    0.10382218174573815,
                    0.03244443179554313,
                    0.09408885220707514,
                    0.08435552266841212,
                    0.10057773856618374,
                    0.019466659077325865,
                    1,
                    0.038933318154651786,
                    0.08435552266841212,
                    0.05515553405242335,
                    0.09733329538662955
                  ],
                  "yaxis": "y"
                }
              ],
              "layout": {
                "coloraxis": {
                  "colorbar": {
                    "title": {
                      "text": "Sex_encode"
                    }
                  },
                  "colorscale": [
                    [
                      0,
                      "#0d0887"
                    ],
                    [
                      0.1111111111111111,
                      "#46039f"
                    ],
                    [
                      0.2222222222222222,
                      "#7201a8"
                    ],
                    [
                      0.3333333333333333,
                      "#9c179e"
                    ],
                    [
                      0.4444444444444444,
                      "#bd3786"
                    ],
                    [
                      0.5555555555555556,
                      "#d8576b"
                    ],
                    [
                      0.6666666666666666,
                      "#ed7953"
                    ],
                    [
                      0.7777777777777778,
                      "#fb9f3a"
                    ],
                    [
                      0.8888888888888888,
                      "#fdca26"
                    ],
                    [
                      1,
                      "#f0f921"
                    ]
                  ]
                },
                "legend": {
                  "tracegroupgap": 0
                },
                "margin": {
                  "t": 60
                },
                "template": {
                  "data": {
                    "bar": [
                      {
                        "error_x": {
                          "color": "#2a3f5f"
                        },
                        "error_y": {
                          "color": "#2a3f5f"
                        },
                        "marker": {
                          "line": {
                            "color": "#E5ECF6",
                            "width": 0.5
                          },
                          "pattern": {
                            "fillmode": "overlay",
                            "size": 10,
                            "solidity": 0.2
                          }
                        },
                        "type": "bar"
                      }
                    ],
                    "barpolar": [
                      {
                        "marker": {
                          "line": {
                            "color": "#E5ECF6",
                            "width": 0.5
                          },
                          "pattern": {
                            "fillmode": "overlay",
                            "size": 10,
                            "solidity": 0.2
                          }
                        },
                        "type": "barpolar"
                      }
                    ],
                    "carpet": [
                      {
                        "aaxis": {
                          "endlinecolor": "#2a3f5f",
                          "gridcolor": "white",
                          "linecolor": "white",
                          "minorgridcolor": "white",
                          "startlinecolor": "#2a3f5f"
                        },
                        "baxis": {
                          "endlinecolor": "#2a3f5f",
                          "gridcolor": "white",
                          "linecolor": "white",
                          "minorgridcolor": "white",
                          "startlinecolor": "#2a3f5f"
                        },
                        "type": "carpet"
                      }
                    ],
                    "choropleth": [
                      {
                        "colorbar": {
                          "outlinewidth": 0,
                          "ticks": ""
                        },
                        "type": "choropleth"
                      }
                    ],
                    "contour": [
                      {
                        "colorbar": {
                          "outlinewidth": 0,
                          "ticks": ""
                        },
                        "colorscale": [
                          [
                            0,
                            "#0d0887"
                          ],
                          [
                            0.1111111111111111,
                            "#46039f"
                          ],
                          [
                            0.2222222222222222,
                            "#7201a8"
                          ],
                          [
                            0.3333333333333333,
                            "#9c179e"
                          ],
                          [
                            0.4444444444444444,
                            "#bd3786"
                          ],
                          [
                            0.5555555555555556,
                            "#d8576b"
                          ],
                          [
                            0.6666666666666666,
                            "#ed7953"
                          ],
                          [
                            0.7777777777777778,
                            "#fb9f3a"
                          ],
                          [
                            0.8888888888888888,
                            "#fdca26"
                          ],
                          [
                            1,
                            "#f0f921"
                          ]
                        ],
                        "type": "contour"
                      }
                    ],
                    "contourcarpet": [
                      {
                        "colorbar": {
                          "outlinewidth": 0,
                          "ticks": ""
                        },
                        "type": "contourcarpet"
                      }
                    ],
                    "heatmap": [
                      {
                        "colorbar": {
                          "outlinewidth": 0,
                          "ticks": ""
                        },
                        "colorscale": [
                          [
                            0,
                            "#0d0887"
                          ],
                          [
                            0.1111111111111111,
                            "#46039f"
                          ],
                          [
                            0.2222222222222222,
                            "#7201a8"
                          ],
                          [
                            0.3333333333333333,
                            "#9c179e"
                          ],
                          [
                            0.4444444444444444,
                            "#bd3786"
                          ],
                          [
                            0.5555555555555556,
                            "#d8576b"
                          ],
                          [
                            0.6666666666666666,
                            "#ed7953"
                          ],
                          [
                            0.7777777777777778,
                            "#fb9f3a"
                          ],
                          [
                            0.8888888888888888,
                            "#fdca26"
                          ],
                          [
                            1,
                            "#f0f921"
                          ]
                        ],
                        "type": "heatmap"
                      }
                    ],
                    "heatmapgl": [
                      {
                        "colorbar": {
                          "outlinewidth": 0,
                          "ticks": ""
                        },
                        "colorscale": [
                          [
                            0,
                            "#0d0887"
                          ],
                          [
                            0.1111111111111111,
                            "#46039f"
                          ],
                          [
                            0.2222222222222222,
                            "#7201a8"
                          ],
                          [
                            0.3333333333333333,
                            "#9c179e"
                          ],
                          [
                            0.4444444444444444,
                            "#bd3786"
                          ],
                          [
                            0.5555555555555556,
                            "#d8576b"
                          ],
                          [
                            0.6666666666666666,
                            "#ed7953"
                          ],
                          [
                            0.7777777777777778,
                            "#fb9f3a"
                          ],
                          [
                            0.8888888888888888,
                            "#fdca26"
                          ],
                          [
                            1,
                            "#f0f921"
                          ]
                        ],
                        "type": "heatmapgl"
                      }
                    ],
                    "histogram": [
                      {
                        "marker": {
                          "pattern": {
                            "fillmode": "overlay",
                            "size": 10,
                            "solidity": 0.2
                          }
                        },
                        "type": "histogram"
                      }
                    ],
                    "histogram2d": [
                      {
                        "colorbar": {
                          "outlinewidth": 0,
                          "ticks": ""
                        },
                        "colorscale": [
                          [
                            0,
                            "#0d0887"
                          ],
                          [
                            0.1111111111111111,
                            "#46039f"
                          ],
                          [
                            0.2222222222222222,
                            "#7201a8"
                          ],
                          [
                            0.3333333333333333,
                            "#9c179e"
                          ],
                          [
                            0.4444444444444444,
                            "#bd3786"
                          ],
                          [
                            0.5555555555555556,
                            "#d8576b"
                          ],
                          [
                            0.6666666666666666,
                            "#ed7953"
                          ],
                          [
                            0.7777777777777778,
                            "#fb9f3a"
                          ],
                          [
                            0.8888888888888888,
                            "#fdca26"
                          ],
                          [
                            1,
                            "#f0f921"
                          ]
                        ],
                        "type": "histogram2d"
                      }
                    ],
                    "histogram2dcontour": [
                      {
                        "colorbar": {
                          "outlinewidth": 0,
                          "ticks": ""
                        },
                        "colorscale": [
                          [
                            0,
                            "#0d0887"
                          ],
                          [
                            0.1111111111111111,
                            "#46039f"
                          ],
                          [
                            0.2222222222222222,
                            "#7201a8"
                          ],
                          [
                            0.3333333333333333,
                            "#9c179e"
                          ],
                          [
                            0.4444444444444444,
                            "#bd3786"
                          ],
                          [
                            0.5555555555555556,
                            "#d8576b"
                          ],
                          [
                            0.6666666666666666,
                            "#ed7953"
                          ],
                          [
                            0.7777777777777778,
                            "#fb9f3a"
                          ],
                          [
                            0.8888888888888888,
                            "#fdca26"
                          ],
                          [
                            1,
                            "#f0f921"
                          ]
                        ],
                        "type": "histogram2dcontour"
                      }
                    ],
                    "mesh3d": [
                      {
                        "colorbar": {
                          "outlinewidth": 0,
                          "ticks": ""
                        },
                        "type": "mesh3d"
                      }
                    ],
                    "parcoords": [
                      {
                        "line": {
                          "colorbar": {
                            "outlinewidth": 0,
                            "ticks": ""
                          }
                        },
                        "type": "parcoords"
                      }
                    ],
                    "pie": [
                      {
                        "automargin": true,
                        "type": "pie"
                      }
                    ],
                    "scatter": [
                      {
                        "fillpattern": {
                          "fillmode": "overlay",
                          "size": 10,
                          "solidity": 0.2
                        },
                        "type": "scatter"
                      }
                    ],
                    "scatter3d": [
                      {
                        "line": {
                          "colorbar": {
                            "outlinewidth": 0,
                            "ticks": ""
                          }
                        },
                        "marker": {
                          "colorbar": {
                            "outlinewidth": 0,
                            "ticks": ""
                          }
                        },
                        "type": "scatter3d"
                      }
                    ],
                    "scattercarpet": [
                      {
                        "marker": {
                          "colorbar": {
                            "outlinewidth": 0,
                            "ticks": ""
                          }
                        },
                        "type": "scattercarpet"
                      }
                    ],
                    "scattergeo": [
                      {
                        "marker": {
                          "colorbar": {
                            "outlinewidth": 0,
                            "ticks": ""
                          }
                        },
                        "type": "scattergeo"
                      }
                    ],
                    "scattergl": [
                      {
                        "marker": {
                          "colorbar": {
                            "outlinewidth": 0,
                            "ticks": ""
                          }
                        },
                        "type": "scattergl"
                      }
                    ],
                    "scattermapbox": [
                      {
                        "marker": {
                          "colorbar": {
                            "outlinewidth": 0,
                            "ticks": ""
                          }
                        },
                        "type": "scattermapbox"
                      }
                    ],
                    "scatterpolar": [
                      {
                        "marker": {
                          "colorbar": {
                            "outlinewidth": 0,
                            "ticks": ""
                          }
                        },
                        "type": "scatterpolar"
                      }
                    ],
                    "scatterpolargl": [
                      {
                        "marker": {
                          "colorbar": {
                            "outlinewidth": 0,
                            "ticks": ""
                          }
                        },
                        "type": "scatterpolargl"
                      }
                    ],
                    "scatterternary": [
                      {
                        "marker": {
                          "colorbar": {
                            "outlinewidth": 0,
                            "ticks": ""
                          }
                        },
                        "type": "scatterternary"
                      }
                    ],
                    "surface": [
                      {
                        "colorbar": {
                          "outlinewidth": 0,
                          "ticks": ""
                        },
                        "colorscale": [
                          [
                            0,
                            "#0d0887"
                          ],
                          [
                            0.1111111111111111,
                            "#46039f"
                          ],
                          [
                            0.2222222222222222,
                            "#7201a8"
                          ],
                          [
                            0.3333333333333333,
                            "#9c179e"
                          ],
                          [
                            0.4444444444444444,
                            "#bd3786"
                          ],
                          [
                            0.5555555555555556,
                            "#d8576b"
                          ],
                          [
                            0.6666666666666666,
                            "#ed7953"
                          ],
                          [
                            0.7777777777777778,
                            "#fb9f3a"
                          ],
                          [
                            0.8888888888888888,
                            "#fdca26"
                          ],
                          [
                            1,
                            "#f0f921"
                          ]
                        ],
                        "type": "surface"
                      }
                    ],
                    "table": [
                      {
                        "cells": {
                          "fill": {
                            "color": "#EBF0F8"
                          },
                          "line": {
                            "color": "white"
                          }
                        },
                        "header": {
                          "fill": {
                            "color": "#C8D4E3"
                          },
                          "line": {
                            "color": "white"
                          }
                        },
                        "type": "table"
                      }
                    ]
                  },
                  "layout": {
                    "annotationdefaults": {
                      "arrowcolor": "#2a3f5f",
                      "arrowhead": 0,
                      "arrowwidth": 1
                    },
                    "autotypenumbers": "strict",
                    "coloraxis": {
                      "colorbar": {
                        "outlinewidth": 0,
                        "ticks": ""
                      }
                    },
                    "colorscale": {
                      "diverging": [
                        [
                          0,
                          "#8e0152"
                        ],
                        [
                          0.1,
                          "#c51b7d"
                        ],
                        [
                          0.2,
                          "#de77ae"
                        ],
                        [
                          0.3,
                          "#f1b6da"
                        ],
                        [
                          0.4,
                          "#fde0ef"
                        ],
                        [
                          0.5,
                          "#f7f7f7"
                        ],
                        [
                          0.6,
                          "#e6f5d0"
                        ],
                        [
                          0.7,
                          "#b8e186"
                        ],
                        [
                          0.8,
                          "#7fbc41"
                        ],
                        [
                          0.9,
                          "#4d9221"
                        ],
                        [
                          1,
                          "#276419"
                        ]
                      ],
                      "sequential": [
                        [
                          0,
                          "#0d0887"
                        ],
                        [
                          0.1111111111111111,
                          "#46039f"
                        ],
                        [
                          0.2222222222222222,
                          "#7201a8"
                        ],
                        [
                          0.3333333333333333,
                          "#9c179e"
                        ],
                        [
                          0.4444444444444444,
                          "#bd3786"
                        ],
                        [
                          0.5555555555555556,
                          "#d8576b"
                        ],
                        [
                          0.6666666666666666,
                          "#ed7953"
                        ],
                        [
                          0.7777777777777778,
                          "#fb9f3a"
                        ],
                        [
                          0.8888888888888888,
                          "#fdca26"
                        ],
                        [
                          1,
                          "#f0f921"
                        ]
                      ],
                      "sequentialminus": [
                        [
                          0,
                          "#0d0887"
                        ],
                        [
                          0.1111111111111111,
                          "#46039f"
                        ],
                        [
                          0.2222222222222222,
                          "#7201a8"
                        ],
                        [
                          0.3333333333333333,
                          "#9c179e"
                        ],
                        [
                          0.4444444444444444,
                          "#bd3786"
                        ],
                        [
                          0.5555555555555556,
                          "#d8576b"
                        ],
                        [
                          0.6666666666666666,
                          "#ed7953"
                        ],
                        [
                          0.7777777777777778,
                          "#fb9f3a"
                        ],
                        [
                          0.8888888888888888,
                          "#fdca26"
                        ],
                        [
                          1,
                          "#f0f921"
                        ]
                      ]
                    },
                    "colorway": [
                      "#636efa",
                      "#EF553B",
                      "#00cc96",
                      "#ab63fa",
                      "#FFA15A",
                      "#19d3f3",
                      "#FF6692",
                      "#B6E880",
                      "#FF97FF",
                      "#FECB52"
                    ],
                    "font": {
                      "color": "#2a3f5f"
                    },
                    "geo": {
                      "bgcolor": "white",
                      "lakecolor": "white",
                      "landcolor": "#E5ECF6",
                      "showlakes": true,
                      "showland": true,
                      "subunitcolor": "white"
                    },
                    "hoverlabel": {
                      "align": "left"
                    },
                    "hovermode": "closest",
                    "mapbox": {
                      "style": "light"
                    },
                    "paper_bgcolor": "white",
                    "plot_bgcolor": "#E5ECF6",
                    "polar": {
                      "angularaxis": {
                        "gridcolor": "white",
                        "linecolor": "white",
                        "ticks": ""
                      },
                      "bgcolor": "#E5ECF6",
                      "radialaxis": {
                        "gridcolor": "white",
                        "linecolor": "white",
                        "ticks": ""
                      }
                    },
                    "scene": {
                      "xaxis": {
                        "backgroundcolor": "#E5ECF6",
                        "gridcolor": "white",
                        "gridwidth": 2,
                        "linecolor": "white",
                        "showbackground": true,
                        "ticks": "",
                        "zerolinecolor": "white"
                      },
                      "yaxis": {
                        "backgroundcolor": "#E5ECF6",
                        "gridcolor": "white",
                        "gridwidth": 2,
                        "linecolor": "white",
                        "showbackground": true,
                        "ticks": "",
                        "zerolinecolor": "white"
                      },
                      "zaxis": {
                        "backgroundcolor": "#E5ECF6",
                        "gridcolor": "white",
                        "gridwidth": 2,
                        "linecolor": "white",
                        "showbackground": true,
                        "ticks": "",
                        "zerolinecolor": "white"
                      }
                    },
                    "shapedefaults": {
                      "line": {
                        "color": "#2a3f5f"
                      }
                    },
                    "ternary": {
                      "aaxis": {
                        "gridcolor": "white",
                        "linecolor": "white",
                        "ticks": ""
                      },
                      "baxis": {
                        "gridcolor": "white",
                        "linecolor": "white",
                        "ticks": ""
                      },
                      "bgcolor": "#E5ECF6",
                      "caxis": {
                        "gridcolor": "white",
                        "linecolor": "white",
                        "ticks": ""
                      }
                    },
                    "title": {
                      "x": 0.05
                    },
                    "xaxis": {
                      "automargin": true,
                      "gridcolor": "white",
                      "linecolor": "white",
                      "ticks": "",
                      "title": {
                        "standoff": 15
                      },
                      "zerolinecolor": "white",
                      "zerolinewidth": 2
                    },
                    "yaxis": {
                      "automargin": true,
                      "gridcolor": "white",
                      "linecolor": "white",
                      "ticks": "",
                      "title": {
                        "standoff": 15
                      },
                      "zerolinecolor": "white",
                      "zerolinewidth": 2
                    }
                  }
                },
                "xaxis": {
                  "anchor": "y",
                  "domain": [
                    0,
                    1
                  ],
                  "title": {
                    "text": "bill_length_mm_scaled"
                  }
                },
                "yaxis": {
                  "anchor": "x",
                  "domain": [
                    0,
                    1
                  ],
                  "title": {
                    "text": "bill_depth_mm_scaled"
                  }
                }
              }
            }
          },
          "metadata": {},
          "output_type": "display_data"
        }
      ],
      "source": [
        "px.scatter(df , x=\"bill_length_mm_scaled\" , y=\"bill_depth_mm_scaled\" , color=\"Sex_encode\")"
      ]
    }
  ],
  "metadata": {
    "accelerator": "GPU",
    "colab": {
      "gpuType": "T4",
      "provenance": []
    },
    "kernelspec": {
      "display_name": "Python 3",
      "name": "python3"
    },
    "language_info": {
      "codemirror_mode": {
        "name": "ipython",
        "version": 3
      },
      "file_extension": ".py",
      "mimetype": "text/x-python",
      "name": "python",
      "nbconvert_exporter": "python",
      "pygments_lexer": "ipython3",
      "version": "3.12.0"
    }
  },
  "nbformat": 4,
  "nbformat_minor": 0
}
